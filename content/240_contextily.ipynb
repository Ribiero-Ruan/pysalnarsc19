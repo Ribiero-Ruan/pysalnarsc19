{
 "cells": [
  {
   "cell_type": "markdown",
   "metadata": {},
   "source": [
    "# `contextily`"
   ]
  },
  {
   "cell_type": "code",
   "execution_count": null,
   "metadata": {
    "lines_to_next_cell": 0
   },
   "outputs": [],
   "source": [
    "%matplotlib inline\n",
    "\n",
    "import contextily as ctx\n",
    "import geopandas as gpd\n",
    "import rasterio as rio\n",
    "import numpy as np\n",
    "import matplotlib.pyplot as plt\n",
    "\n",
    "# Data\n",
    "from pysal.lib.examples import get_path"
   ]
  },
  {
   "cell_type": "markdown",
   "metadata": {},
   "source": [
    "`Contextily` is a package that provides functionality to work with web-tiles for background maps. \n",
    "In this notebook, we illustrate how to use `contextily` together with some of the plotting functionality in `PySAL` and `geopandas` that we have just been exposed to.\n",
    "\n",
    "Let us first load up from `PySAL` the polygons of the 48 contiguous states using `geopandas`, and pick out Texas, for instance:"
   ]
  },
  {
   "cell_type": "code",
   "execution_count": null,
   "metadata": {},
   "outputs": [],
   "source": [
    "tx = gpd.read_file(get_path('us48.shp')).set_index('STATE_ABBR').loc[['TX'], 'geometry']\n",
    "tx.crs = {'init': 'epsg:4326'}\n",
    "tx['TX']"
   ]
  },
  {
   "cell_type": "markdown",
   "metadata": {},
   "source": [
    "We can use this polygon to get its bounding box:"
   ]
  },
  {
   "cell_type": "code",
   "execution_count": null,
   "metadata": {},
   "outputs": [],
   "source": [
    "w, s, e, n = tx['TX'].bounds\n",
    "w, s, e, n"
   ]
  },
  {
   "cell_type": "markdown",
   "metadata": {},
   "source": [
    "## Download tiles\n",
    "\n",
    "At this point, we can use those bounds to download the tiles for that part of the world. Before that, however, it is convenient to make sure the download will not be too heavy (i.e. not too many tiles). This is easily checked by using the `howmany` utility:"
   ]
  },
  {
   "cell_type": "code",
   "execution_count": null,
   "metadata": {},
   "outputs": [],
   "source": [
    "_ = ctx.howmany(w, s, e, n, 6, ll=True)"
   ]
  },
  {
   "cell_type": "markdown",
   "metadata": {},
   "source": [
    "At the zoom level 6, we need to download 9 tiles, which is not too onerous. Let us then go ahead and download them:"
   ]
  },
  {
   "cell_type": "code",
   "execution_count": null,
   "metadata": {},
   "outputs": [],
   "source": [
    "%time img, ext = ctx.bounds2img(w, s, e, n, 6, ll=True)"
   ]
  },
  {
   "cell_type": "markdown",
   "metadata": {},
   "source": [
    "That's it! Just under three seconds and we have a map under our fingertips! Note how `bounds2img` also returns the extent that the tile covers. This will come in handy later on when we want to align it with more data.\n",
    "\n",
    "**IMPORTANT**: the tile extent is always returned in its original CRS, the Spherical Mercator (EPSG:3857).\n",
    "\n",
    "Let us quickly visualize it with `matplotlib`:"
   ]
  },
  {
   "cell_type": "code",
   "execution_count": null,
   "metadata": {},
   "outputs": [],
   "source": [
    "plt.imshow(img, extent=ext);"
   ]
  },
  {
   "cell_type": "markdown",
   "metadata": {
    "lines_to_next_cell": 0
   },
   "source": [
    "## Zoom Levels\n",
    "\n",
    "Zoom level 6 is at the scale of 1:10,000,000 where each tile has a width of 5.625 degrees of longitude. This is the scale \n",
    "that is appropriate if the focus is on a large European county:"
   ]
  },
  {
   "cell_type": "code",
   "execution_count": null,
   "metadata": {},
   "outputs": [],
   "source": [
    "from IPython.display import IFrame\n",
    "IFrame('https://www.texasmonthly.com/wp-content/uploads/2015/01/france.png', width=700, height=350)"
   ]
  },
  {
   "cell_type": "markdown",
   "metadata": {},
   "source": [
    "At this scale, 4,096 tiles would be required to show the entire world. For more details on zoom levels see [Zoom levels at the OpenStreetMap wiki](https://wiki.openstreetmap.org/wiki/Zoom_levels).\n",
    "\n"
   ]
  },
  {
   "cell_type": "markdown",
   "metadata": {},
   "source": [
    "## Save tiles into raster files\n",
    "\n",
    "Sometimes, we know we will be working with an area for a while and it is more convenient to download the tiles only once and then load them up on-demand. To do that, we can use the function `bounds2raster`, which writes the image into a GeoTIFF raster file:"
   ]
  },
  {
   "cell_type": "code",
   "execution_count": null,
   "metadata": {},
   "outputs": [],
   "source": [
    "%time _ = ctx.bounds2raster(w, s, e, n, 6, 'tx.tif', ll=True)"
   ]
  },
  {
   "cell_type": "markdown",
   "metadata": {},
   "source": [
    "## Search for tiles with text\n",
    "You can also directly search for tiles using the `Place` class. This allows you to search with text. It will grab the tiles associated with that search (using GeoPy geocoding) so that you can plot them."
   ]
  },
  {
   "cell_type": "code",
   "execution_count": null,
   "metadata": {},
   "outputs": [],
   "source": [
    "zoom=7\n",
    "loc = ctx.Place(\"texas\", zoom=zoom)"
   ]
  },
  {
   "cell_type": "code",
   "execution_count": null,
   "metadata": {},
   "outputs": [],
   "source": [
    "fig, axs = plt.subplots(1, 2, figsize=(10, 5))\n",
    "\n",
    "# Grab the image associated with this search and plot it\n",
    "ctx.plot_map(loc.im, ax=axs[0], title='Using Place')\n",
    "\n",
    "# Manually find this tile using the Place's bounds\n",
    "zoom = ctx.calculate_zoom(loc.w, loc.s, loc.e, loc.n)\n",
    "im2, bbox = ctx.bounds2img(loc.w, loc.s, loc.e, loc.n, zoom=zoom, ll=True)\n",
    "ctx.plot_map(im2, bbox, ax=axs[1], title='Using bounds2img')"
   ]
  },
  {
   "cell_type": "markdown",
   "metadata": {},
   "source": [
    "## Read raster tiles and combine with vector data\n",
    "\n",
    "At this point, using the tile map is exactly the same as using any other raster file. For this, we will use the fantastic library `rasterio`. \n",
    "\n",
    "Let us see how we can load it back up and plot it (all of this is standard `rasterio` operations, check out its [documentation](https://mapbox.github.io/rasterio/) for more detail if interested)."
   ]
  },
  {
   "cell_type": "code",
   "execution_count": null,
   "metadata": {
    "scrolled": true
   },
   "outputs": [],
   "source": [
    "rtr = rio.open('tx.tif')\n",
    "\n",
    "# NOTE the transpose of the image data\n",
    "img = np.array([ band for band in rtr.read() ]).transpose(1, 2, 0)\n",
    "# Plot\n",
    "plt.imshow(img, extent=rtr.bounds);"
   ]
  },
  {
   "cell_type": "markdown",
   "metadata": {},
   "source": [
    "## Combine layers\n",
    "\n",
    "One of the most interesting applications of using these tiles is to employ them as basemaps to overlay additional data on top of them. This can be easily done with `matplotlib`, provided all the data are in the same CRS at the time of plotting.\n",
    "\n",
    "Let us see how one would go about plotting the polygon for the state of Texas on top of the raster file:"
   ]
  },
  {
   "cell_type": "code",
   "execution_count": null,
   "metadata": {},
   "outputs": [],
   "source": [
    "# Shortify the bound box named tuple\n",
    "bb = rtr.bounds\n",
    "# Set up the figure\n",
    "f, ax = plt.subplots(1, figsize=(9, 9))\n",
    "# Load the tile raster (note the re-arrangement of the bounds)\n",
    "ax.imshow(img, extent=(bb.left, bb.right, bb.bottom, bb.top))\n",
    "# Overlay the polygon on top (note we reproject it to the raster's CRS)\n",
    "tx.to_crs(rtr.crs).plot(edgecolor='none', ax=ax)\n",
    "# Remove axis for aesthetics\n",
    "ax.set_axis_off()\n",
    "# Show\n",
    "plt.show()"
   ]
  },
  {
   "cell_type": "markdown",
   "metadata": {},
   "source": [
    "## Different backgrounds\n",
    "\n",
    "`contextily` gives access to several tile maps, all from the awesome people at [Stamen](http://stamen.com). The full list is:"
   ]
  },
  {
   "cell_type": "code",
   "execution_count": null,
   "metadata": {},
   "outputs": [],
   "source": [
    "sources = [i for i in dir(ctx.tile_providers) if i[0]!='_']\n",
    "sources"
   ]
  },
  {
   "cell_type": "markdown",
   "metadata": {},
   "source": [
    "You can set them on `bounds2img` and `bounds2raster` using the argument `url`. Checkout the documentation for more details.\n",
    "\n",
    "Just because we can, let us get a feel for what they look like:"
   ]
  },
  {
   "cell_type": "code",
   "execution_count": null,
   "metadata": {},
   "outputs": [],
   "source": [
    "f, axs = plt.subplots(2, 5, figsize=(25, 10))\n",
    "axs = axs.flatten()\n",
    "for src, ax in zip(sources, axs):\n",
    "    try:\n",
    "        img, ext = ctx.bounds2img(w, s, e, n, 6, url=getattr(ctx.sources, src), ll=True)\n",
    "        ax.imshow(img, extent=ext)\n",
    "        ax.set_title(src)\n",
    "        ax.set_axis_off()\n",
    "    except:\n",
    "        print(src)\n",
    "plt.show()"
   ]
  },
  {
   "cell_type": "markdown",
   "metadata": {},
   "source": [
    "**NOTE** Please always remember to give proper attribution to the map provider. See [here](http://maps.stamen.com/#watercolor/12/37.7706/-122.3782) for the proper way to do it, but essentially it is:\n",
    "\n",
    "* Toner and Terrain: \n",
    "\n",
    "> Map tiles by <a href=\"http://stamen.com\">Stamen Design</a>, under <a href=\"http://creativecommons.org/licenses/by/3.0\">CC BY 3.0</a>. Data by <a href=\"http://openstreetmap.org\">OpenStreetMap</a>, under <a href=\"http://www.openstreetmap.org/copyright\">ODbL</a>.\n",
    "\n",
    "* Watercolor:\n",
    "\n",
    "> Map tiles by <a href=\"http://stamen.com\">Stamen Design</a>, under <a href=\"http://creativecommons.org/licenses/by/3.0\">CC BY 3.0</a>. Data by <a href=\"http://openstreetmap.org\">OpenStreetMap</a>, under <a href=\"http://creativecommons.org/licenses/by-sa/3.0\">CC BY SA</a>."
   ]
  },
  {
   "cell_type": "markdown",
   "metadata": {},
   "source": [
    "## Riverside\n",
    "\n",
    "Let's continue on with the case of Riverside tracts that we encountered previously:"
   ]
  },
  {
   "cell_type": "code",
   "execution_count": null,
   "metadata": {},
   "outputs": [],
   "source": [
    "tracts = gpd.read_file('data/city_tracts.shp')\n",
    "tracts.plot()"
   ]
  },
  {
   "cell_type": "markdown",
   "metadata": {},
   "source": [
    "If you are not from Riverside, or even if you are, these tracts may not be familiar, as we lack context (pun intended)."
   ]
  },
  {
   "cell_type": "code",
   "execution_count": null,
   "metadata": {},
   "outputs": [],
   "source": [
    "tracts.crs"
   ]
  },
  {
   "cell_type": "code",
   "execution_count": null,
   "metadata": {},
   "outputs": [],
   "source": [
    "tracts.total_bounds"
   ]
  },
  {
   "cell_type": "markdown",
   "metadata": {},
   "source": [
    "To combine these tracts together with `contextily` we first need to set the crs of the tracts to [WGS 84](https://epsg.io/4326) so that the coordinates are in lat,lon:"
   ]
  },
  {
   "cell_type": "code",
   "execution_count": null,
   "metadata": {},
   "outputs": [],
   "source": [
    "tracts = tracts.to_crs({'init': 'epsg:4326'})"
   ]
  },
  {
   "cell_type": "code",
   "execution_count": null,
   "metadata": {},
   "outputs": [],
   "source": [
    "tracts.crs"
   ]
  },
  {
   "cell_type": "code",
   "execution_count": null,
   "metadata": {},
   "outputs": [],
   "source": [
    "w, s, e, n = tracts.total_bounds"
   ]
  },
  {
   "cell_type": "code",
   "execution_count": null,
   "metadata": {},
   "outputs": [],
   "source": [
    "w, s, e, n"
   ]
  },
  {
   "cell_type": "markdown",
   "metadata": {},
   "source": [
    "With this extent, we can then pull down tiles at zoom level 12 for Riverside. First we check\n",
    "how many tiles that would require:"
   ]
  },
  {
   "cell_type": "code",
   "execution_count": null,
   "metadata": {},
   "outputs": [],
   "source": [
    "_ = ctx.howmany(w, s, e, n, 12, ll=True)"
   ]
  },
  {
   "cell_type": "markdown",
   "metadata": {},
   "source": [
    "Then, we request the tiles:"
   ]
  },
  {
   "cell_type": "code",
   "execution_count": null,
   "metadata": {},
   "outputs": [],
   "source": [
    "%time img, ext = ctx.bounds2img(w, s, e, n, 12, ll=True)"
   ]
  },
  {
   "cell_type": "code",
   "execution_count": null,
   "metadata": {},
   "outputs": [],
   "source": [
    "plt.imshow(img, extent=ext)"
   ]
  },
  {
   "cell_type": "markdown",
   "metadata": {},
   "source": [
    "## Save to raster file\n",
    "\n",
    "We save the tiles as an image for later use:\n"
   ]
  },
  {
   "cell_type": "code",
   "execution_count": null,
   "metadata": {},
   "outputs": [],
   "source": [
    "%time _ = ctx.bounds2raster(w, s, e, n, 12, 'rt.tif', ll=True)"
   ]
  },
  {
   "cell_type": "markdown",
   "metadata": {},
   "source": [
    "Reading the image in and layering the tracts on top of the image:"
   ]
  },
  {
   "cell_type": "code",
   "execution_count": null,
   "metadata": {},
   "outputs": [],
   "source": [
    "rt = rio.open('rt.tif')\n",
    "\n",
    "\n",
    "# Shortify the bound box named tuple\n",
    "bb = rt.bounds\n",
    "# Set up the figure\n",
    "f, ax = plt.subplots(1, figsize=(9, 9))\n",
    "# Load the tile raster (note the re-arrangement of the bounds)\n",
    "ax.imshow(img, extent=(bb.left, bb.right, bb.bottom, bb.top))\n",
    "# Overlay the polygon on top (note we reproject it to the raster's CRS)\n",
    "tracts.to_crs(rtr.crs).plot(edgecolor='none', ax=ax)\n",
    "# Remove axis for aesthetics\n",
    "ax.set_axis_off()\n",
    "# Show\n",
    "plt.show()"
   ]
  },
  {
   "cell_type": "markdown",
   "metadata": {},
   "source": [
    "We see the context around the extent, but the tracts are opaque and obscure the internal context for Riverside.\n",
    "We can correct this using the `alpha` parameter in the call to the dataframe plot:"
   ]
  },
  {
   "cell_type": "code",
   "execution_count": null,
   "metadata": {},
   "outputs": [],
   "source": [
    "\n",
    "\n",
    "# Shortify the bound box named tuple\n",
    "bb = rt.bounds\n",
    "# Set up the figure\n",
    "f, ax = plt.subplots(1, figsize=(9, 9))\n",
    "# Load the tile raster (note the re-arrangement of the bounds)\n",
    "ax.imshow(img, extent=(bb.left, bb.right, bb.bottom, bb.top))\n",
    "# Overlay the polygon on top (note we reproject it to the raster's CRS)\n",
    "tracts.to_crs(rtr.crs).plot(edgecolor='none', ax=ax, alpha=0.5)\n",
    "# Remove axis for aesthetics\n",
    "ax.set_axis_off()\n",
    "# Show\n",
    "plt.show()"
   ]
  },
  {
   "cell_type": "markdown",
   "metadata": {},
   "source": [
    "In a future version of `contextily` there will be functionally that simplifies this.\n",
    "The code is as follows:"
   ]
  },
  {
   "cell_type": "code",
   "execution_count": null,
   "metadata": {},
   "outputs": [],
   "source": [
    "def add_basemap(ax, zoom, url='http://tile.stamen.com/terrain/tileZ/tileX/tileY.png'):\n",
    "    xmin, xmax, ymin, ymax = ax.axis()\n",
    "    basemap, extent = ctx.bounds2img(xmin, ymin, xmax, ymax, zoom=zoom, url=url)\n",
    "    ax.imshow(basemap, extent=extent, interpolation='bilinear')\n",
    "    # restore original x/y limits\n",
    "    ax.axis((xmin, xmax, ymin, ymax))"
   ]
  },
  {
   "cell_type": "markdown",
   "metadata": {},
   "source": [
    "and we reproject the tracts to [Web Mercator (EPSG 3857)](https://epsg.io/3857):"
   ]
  },
  {
   "cell_type": "code",
   "execution_count": null,
   "metadata": {},
   "outputs": [],
   "source": [
    "tracts = tracts.to_crs(epsg=3857)"
   ]
  },
  {
   "cell_type": "code",
   "execution_count": null,
   "metadata": {},
   "outputs": [],
   "source": [
    "ax = tracts.plot(figsize=(10, 10), alpha=0.5, edgecolor='k')\n",
    "add_basemap(ax, zoom=12)\n"
   ]
  },
  {
   "cell_type": "markdown",
   "metadata": {},
   "source": [
    "---\n",
    "\n",
    "<a rel=\"license\" href=\"http://creativecommons.org/licenses/by-nc-\n",
    "sa/4.0/\"><img alt=\"Creative Commons License\" style=\"border-width:0\"\n",
    "src=\"https://i.creativecommons.org/l/by-nc-sa/4.0/88x31.png\" /></a><br /><span\n",
    "xmlns:dct=\"http://purl.org/dc/terms/\" property=\"dct:title\">Contextily</span> by <a xmlns:cc=\"http://creativecommons.org/ns#\"\n",
    "href=\"http://sergerey.org\" property=\"cc:attributionName\"\n",
    "rel=\"cc:attributionURL\">Serge Rey</a> is licensed under a <a\n",
    "rel=\"license\" href=\"http://creativecommons.org/licenses/by-nc-sa/4.0/\">Creative\n",
    "Commons Attribution-NonCommercial-ShareAlike 4.0 International License</a>.\n",
    "\n",
    "Some of this material was adopted from examples in the [contextily 0.99 user guide](https://github.com/darribas/contextily/blob/917b723e87dca831b2efd7eb64e8decc5675e8cf/contextily_guide.ipynb).\n"
   ]
  }
 ],
 "metadata": {
  "jupytext": {
   "formats": "ipynb,md"
  },
  "kernelspec": {
   "display_name": "Python 3",
   "language": "python",
   "name": "python3"
  },
  "language_info": {
   "codemirror_mode": {
    "name": "ipython",
    "version": 3
   },
   "file_extension": ".py",
   "mimetype": "text/x-python",
   "name": "python",
   "nbconvert_exporter": "python",
   "pygments_lexer": "ipython3",
   "version": "3.6.7"
  }
 },
 "nbformat": 4,
 "nbformat_minor": 4
}
