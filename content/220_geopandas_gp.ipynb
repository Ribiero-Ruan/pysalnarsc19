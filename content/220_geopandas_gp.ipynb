{
 "cells": [
  {
   "cell_type": "markdown",
   "metadata": {},
   "source": [
    "Geoprocessing with GeoPandas\n",
    "============================\n",
    "\n",
    "We continue exploring geopandas and more of its geoprocessing\n",
    "capabilities. In this notebook we assume the role of a social scientist\n",
    "who is interested in the topic of environmental equity. They are broadly\n",
    "concerned with the question of whether different racial groups are\n",
    "exposed to different levels of environmental hazards in urban settings.\n",
    "\n",
    "Their empirical analysis will focus on the case of Riverside County, CA,\n",
    "where the spatial unit of analysis is the Census tract which we\n",
    "encountered and processed in the previous notebook. The researcher will\n",
    "examine the spatial relationships between the highway network and the\n",
    "census tracts to develop operational measures that feed into their\n",
    "environmental equity analysis.\n",
    "\n",
    "In this notebook we focus on generating new features that will be used\n",
    "in subsequent econometric modeling to test various hypothesis about\n",
    "environmental justice. We want to create new variables that express the\n",
    "exposure to the highway network for census tracts in Riverside, CA.\n",
    "\n",
    "Objectives\n",
    "----------\n",
    "\n",
    "-   Processing polyline shapefiles to represent road networks\n",
    "-   Learn about geographical clipping\n",
    "-   Integrate spatial data sources with different coordinate reference\n",
    "    systems\n",
    "-   Apply buffering to derive new features for subsequent analysis\n",
    "\n",
    "Setup and Imports\n",
    "-----------------\n",
    "\n",
    "Again we begin with our usual imports:"
   ]
  },
  {
   "cell_type": "code",
   "execution_count": null,
   "metadata": {},
   "outputs": [],
   "source": [
    "%matplotlib inline\n",
    "import matplotlib\n",
    "import numpy as np\n",
    "import matplotlib.pyplot as plt"
   ]
  },
  {
   "cell_type": "code",
   "execution_count": null,
   "metadata": {},
   "outputs": [],
   "source": [
    "import geopandas as gpd"
   ]
  },
  {
   "cell_type": "markdown",
   "metadata": {},
   "source": [
    "Read a LineString Shapefile\n",
    "===========================\n",
    "\n",
    "Thus far we have encountered two different types of geometries in our\n",
    "shapefiles, namely point and polygons. For our current research, are\n",
    "going to examine the data set [\\\"Sanctioned routes for commercial truck\n",
    "traffic located on the state highway\n",
    "system](http://www.dot.ca.gov/hq/tsip/gis/datalibrary/Metadata/Trknet.html)\\\"\n",
    "from the California Department of Transportation. That has been\n",
    "downloaded and stored in the `data` directory.\n",
    "\n",
    "We begin by reading this into a geopandas DataFrame:"
   ]
  },
  {
   "cell_type": "code",
   "execution_count": null,
   "metadata": {},
   "outputs": [],
   "source": [
    "routes_df = gpd.read_file('data/Truck_Route_Network.shp')"
   ]
  },
  {
   "cell_type": "markdown",
   "metadata": {},
   "source": [
    "and taking a view of the features"
   ]
  },
  {
   "cell_type": "code",
   "execution_count": null,
   "metadata": {},
   "outputs": [],
   "source": [
    "routes_df.plot()"
   ]
  },
  {
   "cell_type": "markdown",
   "metadata": {},
   "source": [
    "Futhter exploration reveals the geometries are LineStrings"
   ]
  },
  {
   "cell_type": "code",
   "execution_count": null,
   "metadata": {},
   "outputs": [],
   "source": [
    "routes_df.head()"
   ]
  },
  {
   "cell_type": "code",
   "execution_count": null,
   "metadata": {},
   "outputs": [],
   "source": [
    "routes_df['geometry'].head()"
   ]
  },
  {
   "cell_type": "markdown",
   "metadata": {},
   "source": [
    "Since we will be using this layer with other spatial datasets, it is\n",
    "good practice to familiarlize ourselves with the Coordinate Reference\n",
    "System:"
   ]
  },
  {
   "cell_type": "code",
   "execution_count": null,
   "metadata": {},
   "outputs": [],
   "source": [
    "routes_df.crs"
   ]
  },
  {
   "cell_type": "code",
   "execution_count": null,
   "metadata": {},
   "outputs": [],
   "source": [
    "routes_df.shape"
   ]
  },
  {
   "cell_type": "markdown",
   "metadata": {},
   "source": [
    "So the coordinates in our LineStrings are in longitude and latitude.\n",
    "\n",
    "Route Clipping\n",
    "==============\n",
    "\n",
    "The researcher has the truck route network for the entire state of\n",
    "California. However, her interest is on the specific case of Riverside\n",
    "County so she needs a way to extract the portions of the network that\n",
    "are within the county. This can be done using the geoprocessing\n",
    "operation *clipping*.\n",
    "\n",
    "To do this we need to create a layer that will serve to \\\"clip\\\" the\n",
    "road network layer to remove everything outside of Riverside County. We\n",
    "can use the polygon shapefile we created from the previous notebook:\n",
    "\n",
    "Read a Polygon Shapefile\n",
    "------------------------"
   ]
  },
  {
   "cell_type": "code",
   "execution_count": null,
   "metadata": {},
   "outputs": [],
   "source": [
    "tracts_df = gpd.read_file('data/clinics.shp')"
   ]
  },
  {
   "cell_type": "code",
   "execution_count": null,
   "metadata": {},
   "outputs": [],
   "source": [
    "tracts_df.head()"
   ]
  },
  {
   "cell_type": "code",
   "execution_count": null,
   "metadata": {},
   "outputs": [],
   "source": [
    "tracts_df.plot()"
   ]
  },
  {
   "cell_type": "markdown",
   "metadata": {},
   "source": [
    "Get routes intersecting Riverside County\n",
    "----------------------------------------\n",
    "\n",
    "To select only the routes within Riverside County we could take several\n",
    "approaches. We have the tract layer for the county that has 453 tracts,\n",
    "as well as the road network layer for the state. That has 966 segments.\n",
    "We could then use the intersects method for each tract to test if it\n",
    "intersects with a particular segment of the road network, and then keep\n",
    "all the segments where we find an intersection with the tract.\n",
    "\n",
    "While this would work, it turns out to be very inefficient as a brute\n",
    "force approach would require we compare each of 453 tracts against each\n",
    "of 966 segments and test for an intersection.\n",
    "\n",
    "We can do better.\n",
    "\n",
    "If we think about our problem from a slightly different perspective, we\n",
    "know that if we find a segment that intersects with a tract within\n",
    "Riverside county, it must, by definition, intersect with the County\n",
    "polygon, if we had such a thing.\n",
    "\n",
    "This would substantially reduce the number of intersection tests (or\n",
    "more broadly, \\\"hit tests\\\") we need to conduct. Rather than having to\n",
    "compare 453 tract polygons with 966 road segments, we now only need\n",
    "compare 1 polygon against each of the road segments. That is a 453X\n",
    "reduction in computation. Nice.\n",
    "\n",
    "### Dissolve\n",
    "\n",
    "Ok, but we do not yet have the magical county polygon. It seems worth it\n",
    "to get one, and using another method of the geopandas DataFrame for the\n",
    "tracts, we can. First, we can re-examine our DataFrame:"
   ]
  },
  {
   "cell_type": "code",
   "execution_count": null,
   "metadata": {},
   "outputs": [],
   "source": [
    "tracts_df.plot(edgecolor='k')"
   ]
  },
  {
   "cell_type": "markdown",
   "metadata": {},
   "source": [
    "What we are going to do is dissolve all the tract boundaries that do not\n",
    "coincide with the boundary of the DataFrame\\'s geometry collection.\n",
    "\n",
    "This is done by creating a new attribute that takes on the same values\n",
    "for each feature, and calling the `dissovle` method with that attribute\n",
    "as the argument to the `by` option:"
   ]
  },
  {
   "cell_type": "code",
   "execution_count": null,
   "metadata": {},
   "outputs": [],
   "source": [
    "tracts_df['dummy'] = 1.0\n",
    "county = tracts_df.dissolve(by='dummy')"
   ]
  },
  {
   "cell_type": "code",
   "execution_count": null,
   "metadata": {},
   "outputs": [],
   "source": [
    "county.plot()"
   ]
  },
  {
   "cell_type": "code",
   "execution_count": null,
   "metadata": {},
   "outputs": [],
   "source": [
    "county.shape"
   ]
  },
  {
   "cell_type": "markdown",
   "metadata": {},
   "source": [
    "Note that we could have also obtained this polygon by using the\n",
    "`unary_union` method of the GeoSeries:"
   ]
  },
  {
   "cell_type": "code",
   "execution_count": null,
   "metadata": {},
   "outputs": [],
   "source": [
    "county_uu = tracts_df['geometry'].unary_union\n",
    "county_uu"
   ]
  },
  {
   "cell_type": "markdown",
   "metadata": {},
   "source": [
    "This gives us a Shapely Polygon. We would then have toconstruct a new\n",
    "GeoDataFrame with this as the Geometry column. Instead, we will continue\n",
    "with the `county` DataFrame obtained from the dissolve operation since\n",
    "this saves us one step. (We simply note the unary~union~ as you never\n",
    "know when you may need it.)\n",
    "\n",
    "We now have our single polygon for the county.\n",
    "\n",
    "In our earlier notebook we saw that care needs to be taken when testing\n",
    "for intersections between features from two different DataFrames, as\n",
    "this is done on an element-wise basis.\n",
    "\n",
    "There are a couple of ways to handle this. First, using what are known\n",
    "as **lambdas**:"
   ]
  },
  {
   "cell_type": "code",
   "execution_count": null,
   "metadata": {},
   "outputs": [],
   "source": [
    "r = routes_df['geometry']"
   ]
  },
  {
   "cell_type": "code",
   "execution_count": null,
   "metadata": {},
   "outputs": [],
   "source": [
    "type(r)"
   ]
  },
  {
   "cell_type": "code",
   "execution_count": null,
   "metadata": {},
   "outputs": [],
   "source": [
    "r.apply(lambda x: x.intersects(county.iloc[0]['geometry']))"
   ]
  },
  {
   "cell_type": "code",
   "execution_count": null,
   "metadata": {},
   "outputs": [],
   "source": [
    "rc_routes = r[r.apply(lambda x: x.intersects(county.iloc[0]['geometry']))]"
   ]
  },
  {
   "cell_type": "code",
   "execution_count": null,
   "metadata": {},
   "outputs": [],
   "source": [
    "rc_routes.shape"
   ]
  },
  {
   "cell_type": "code",
   "execution_count": null,
   "metadata": {},
   "outputs": [],
   "source": [
    "rc_routes.plot()"
   ]
  },
  {
   "cell_type": "markdown",
   "metadata": {},
   "source": [
    "Plotting the two layers to see what we are now working with gives us:"
   ]
  },
  {
   "cell_type": "code",
   "execution_count": null,
   "metadata": {},
   "outputs": [],
   "source": [
    "ax = plt.gca()\n",
    "rc_routes.plot(ax=ax, edgecolor='k')\n",
    "county.plot(ax=ax)\n",
    "plt.show()"
   ]
  },
  {
   "cell_type": "markdown",
   "metadata": {},
   "source": [
    "Lambdas are handy, but tend to make code a little more difficult to\n",
    "read. Technically they are known as \\\"anonymous functions\\\". A more\n",
    "transparent approach is to use a simple loop and test each route segment\n",
    "for intersection with the county, and append the segment to a list to\n",
    "store all the segments that intersect with the county:"
   ]
  },
  {
   "cell_type": "code",
   "execution_count": null,
   "metadata": {},
   "outputs": [],
   "source": [
    "geoms = []\n",
    "for idx, route in enumerate(rc_routes):\n",
    "    print(idx)\n",
    "    geoms.append(route.intersection(county.iloc[0]['geometry']))"
   ]
  },
  {
   "cell_type": "markdown",
   "metadata": {},
   "source": [
    "Now we use this Python list of intersection objects (which are segments)\n",
    "into a GeoSeries:"
   ]
  },
  {
   "cell_type": "code",
   "execution_count": null,
   "metadata": {},
   "outputs": [],
   "source": [
    "rc_hw = gpd.GeoSeries(geoms)\n",
    "rc_hw.plot()"
   ]
  },
  {
   "cell_type": "markdown",
   "metadata": {},
   "source": [
    "and, plot the new series with our county polygon:"
   ]
  },
  {
   "cell_type": "code",
   "execution_count": null,
   "metadata": {},
   "outputs": [],
   "source": [
    "\n",
    "ax = plt.gca()\n",
    "county.plot(ax=ax)\n",
    "rc_hw.plot(ax=ax, edgecolor='k')\n",
    "ax.set_xlim(-118.0, -114.0); ax.set_ylim(33.25, 34.25)\n",
    "ax.set_aspect('equal')\n",
    "plt.show()"
   ]
  },
  {
   "cell_type": "markdown",
   "metadata": {},
   "source": [
    "we set the limits for the horizontal and vertical axes to zoom in. We\n",
    "can also change the plot size:"
   ]
  },
  {
   "cell_type": "code",
   "execution_count": null,
   "metadata": {},
   "outputs": [],
   "source": [
    "plt.rcParams['figure.figsize'] = (10, 8)\n",
    "ax = plt.gca()\n",
    "county.plot(ax=ax)\n",
    "rc_hw.plot(ax=ax, edgecolor='k')\n",
    "ax.set_xlim(-118.0, -114.0); ax.set_ylim(33.25, 34.25)\n",
    "ax.set_aspect('equal')\n",
    "plt.show()"
   ]
  },
  {
   "cell_type": "code",
   "execution_count": null,
   "metadata": {},
   "outputs": [],
   "source": [
    "plt.rcParams['figure.figsize'] = (12, 10)\n",
    "ax = plt.gca()\n",
    "tracts_df.plot(ax=ax, edgecolor='grey', alpha=0.2)\n",
    "rc_hw.plot(ax=ax, edgecolor='k')\n",
    "ax.set_xlim(-118.0, -114.0); ax.set_ylim(33.25, 34.25)\n",
    "ax.set_aspect('equal')\n",
    "plt.show()"
   ]
  },
  {
   "cell_type": "markdown",
   "metadata": {},
   "source": [
    "And finally, let us create a DataFrame from the GeoSeries:"
   ]
  },
  {
   "cell_type": "code",
   "execution_count": null,
   "metadata": {},
   "outputs": [],
   "source": [
    "type(rc_hw)"
   ]
  },
  {
   "cell_type": "code",
   "execution_count": null,
   "metadata": {},
   "outputs": [],
   "source": [
    "rc_hw = gpd.GeoDataFrame({'geometry': rc_hw})"
   ]
  },
  {
   "cell_type": "code",
   "execution_count": null,
   "metadata": {},
   "outputs": [],
   "source": [
    "rc_hw.shape"
   ]
  },
  {
   "cell_type": "code",
   "execution_count": null,
   "metadata": {},
   "outputs": [],
   "source": [
    "tracts_df.shape"
   ]
  },
  {
   "cell_type": "markdown",
   "metadata": {},
   "source": [
    "Spatial Joins: Which Tracts Intersect the Truck Network?\n",
    "========================================================\n",
    "\n",
    "We now have the truck route network clipped to the extent of Riverside\n",
    "County. Using this layer, we can determine which census tracts intersect\n",
    "the network within the county. For this, we revisit the concept of a\n",
    "spatial join. There are different flavors of spatial joins that can be\n",
    "used in practice. Here we explore the options before deciding which one\n",
    "serves our particular need best.\n",
    "\n",
    "We begin with a so called \\\"inner\\\" join:"
   ]
  },
  {
   "cell_type": "code",
   "execution_count": null,
   "metadata": {},
   "outputs": [],
   "source": [
    "# spatial join, tracts with roads\n",
    "tracts_with_roads = gpd.sjoin(tracts_df, rc_hw, how='inner', op='intersects')"
   ]
  },
  {
   "cell_type": "markdown",
   "metadata": {},
   "source": [
    "We see the warning about the CRS mismatch. Let us see what is going on:"
   ]
  },
  {
   "cell_type": "code",
   "execution_count": null,
   "metadata": {},
   "outputs": [],
   "source": [
    "tracts_df.crs"
   ]
  },
  {
   "cell_type": "markdown",
   "metadata": {},
   "source": [
    "and"
   ]
  },
  {
   "cell_type": "code",
   "execution_count": null,
   "metadata": {},
   "outputs": [],
   "source": [
    "rc_hw.crs"
   ]
  },
  {
   "cell_type": "markdown",
   "metadata": {},
   "source": [
    "So the route DataFrame does not have a CRS. We can correct this by\n",
    "setting it to that of the tracts data frame:"
   ]
  },
  {
   "cell_type": "code",
   "execution_count": null,
   "metadata": {},
   "outputs": [],
   "source": [
    "rc_hw.crs = tracts_df.crs # create a crs for the rc_hw\n",
    "rc_hw = rc_hw.to_crs(tracts_df.crs) # update the coordinates accordingly"
   ]
  },
  {
   "cell_type": "markdown",
   "metadata": {},
   "source": [
    "and when we repeat the join:"
   ]
  },
  {
   "cell_type": "code",
   "execution_count": null,
   "metadata": {},
   "outputs": [],
   "source": [
    "# spatial join, tracts with roads\n",
    "tracts_with_roads = gpd.sjoin(tracts_df, rc_hw, how='inner', op='intersects')"
   ]
  },
  {
   "cell_type": "markdown",
   "metadata": {},
   "source": [
    "Silence is golden.\n",
    "\n",
    "Now we can see what our join operation has returned. We stored the\n",
    "results in a new object:"
   ]
  },
  {
   "cell_type": "code",
   "execution_count": null,
   "metadata": {},
   "outputs": [],
   "source": [
    "tracts_with_roads.head()"
   ]
  },
  {
   "cell_type": "markdown",
   "metadata": {},
   "source": [
    "If we scroll to the right of the DataFrame output, we see a column\n",
    "labeled **index~right~**. The values in this column indicate the index\n",
    "of the features in the right DataFrame (in our case the road network)\n",
    "that intersect with the feature in the current row of the left DataFrame\n",
    "(the tracts).\n",
    "\n",
    "Plotting the resulting DataFrame we see:"
   ]
  },
  {
   "cell_type": "code",
   "execution_count": null,
   "metadata": {},
   "outputs": [],
   "source": [
    "tracts_with_roads.plot(edgecolor='grey', alpha=0.2)"
   ]
  },
  {
   "cell_type": "markdown",
   "metadata": {},
   "source": [
    "Close inspection reveals some missing tracts. What is going on here?"
   ]
  },
  {
   "cell_type": "code",
   "execution_count": null,
   "metadata": {},
   "outputs": [],
   "source": [
    "tracts_with_roads.shape"
   ]
  },
  {
   "cell_type": "markdown",
   "metadata": {},
   "source": [
    "We see there are 256 features in our new DataFrame resulting from the\n",
    "join. But this is less than the number of tracts in the county:"
   ]
  },
  {
   "cell_type": "code",
   "execution_count": null,
   "metadata": {},
   "outputs": [],
   "source": [
    "tracts_df.shape"
   ]
  },
  {
   "cell_type": "markdown",
   "metadata": {},
   "source": [
    "So our plot is not incorrect. It is giving us what we asked for - a plot\n",
    "of the DataFrame for the tracts that intersect the truck network.\n",
    "\n",
    "A second type of join can be obtained by setting the `how` option to\n",
    "`'left'`:"
   ]
  },
  {
   "cell_type": "code",
   "execution_count": null,
   "metadata": {},
   "outputs": [],
   "source": [
    "# spatial join, tracts with roads\n",
    "tracts_with_roads = gpd.sjoin(tracts_df, rc_hw, how='left', op='intersects')"
   ]
  },
  {
   "cell_type": "markdown",
   "metadata": {},
   "source": [
    "This overwrites the resulting DataFrame, so the number of features\n",
    "changes:"
   ]
  },
  {
   "cell_type": "code",
   "execution_count": null,
   "metadata": {},
   "outputs": [],
   "source": [
    "tracts_with_roads.shape"
   ]
  },
  {
   "cell_type": "markdown",
   "metadata": {},
   "source": [
    "This is a larger number than the number of tracts. What is going on?"
   ]
  },
  {
   "cell_type": "code",
   "execution_count": null,
   "metadata": {},
   "outputs": [],
   "source": [
    "## 'how=left' uses keys from left_df and retains left_df geometry\n",
    "# shows all tracts with or withing intersection with network\n",
    "tracts_with_roads.plot(edgecolor='grey', alpha=0.2)"
   ]
  },
  {
   "cell_type": "markdown",
   "metadata": {},
   "source": [
    "The plot doesn\\'t suggest anything fishy. More introspection:"
   ]
  },
  {
   "cell_type": "code",
   "execution_count": null,
   "metadata": {},
   "outputs": [],
   "source": [
    "tracts_with_roads.head()"
   ]
  },
  {
   "cell_type": "markdown",
   "metadata": {},
   "source": [
    "Again, scrolling to the right we see the **index~right~** column, but\n",
    "now we see a mixture of `NaN` and numerical values. The `NaN` values\n",
    "appear in rows for tracts that do not intersect the road network. Hence\n",
    "there is no feature in the right DataFrame that intersects with that\n",
    "feature in the left DataFrame.\n",
    "\n",
    "But, this doesn\\'t explain why we have more features in the resulting\n",
    "DataFrame than in the left data frame. Something else must be happening.\n",
    "And it is:"
   ]
  },
  {
   "cell_type": "code",
   "execution_count": null,
   "metadata": {},
   "outputs": [],
   "source": [
    "len(tracts_with_roads['GEOID10'].unique())"
   ]
  },
  {
   "cell_type": "markdown",
   "metadata": {},
   "source": [
    "We have the correct number of unique geographic identifiers. Using these\n",
    "we can determine how many records we have for each unique identifier\n",
    "(tract):"
   ]
  },
  {
   "cell_type": "code",
   "execution_count": null,
   "metadata": {},
   "outputs": [],
   "source": [
    "tracts_with_roads.groupby(['GEOID10']).size()"
   ]
  },
  {
   "cell_type": "markdown",
   "metadata": {},
   "source": [
    "Ah, there are some tracts that appear multiple times in the resulting\n",
    "DataFrame. We can examine one of these using"
   ]
  },
  {
   "cell_type": "code",
   "execution_count": null,
   "metadata": {},
   "outputs": [],
   "source": [
    "tracts_with_roads[tracts_with_roads['GEOID10']=='06065030502']"
   ]
  },
  {
   "cell_type": "markdown",
   "metadata": {},
   "source": [
    "and scrolling over to the right of the output cell reveals that the\n",
    "tract with the GEOID10 of 06065030502 intersects with three different\n",
    "segments of the road network: 29.0, 39.0, and 3.\n",
    "\n",
    "What has happen is the \\'left\\' join keeps all of the features from the\n",
    "left database and reports either an `NaN` value, or each unique\n",
    "intersection between the tract and a particular segment of the road\n",
    "network. In other words, there will be at least as many features in the\n",
    "resulting DataFrame as in the left DataFrame. There will be more when\n",
    "one or more features from the left data frame intersects with more than\n",
    "a single feature from the right DataFrame.\n",
    "\n",
    "Thus far we have examined a \\\"inner\\\" join and a \\\"left\\\" join. The\n",
    "final option is a \\\"right\\\" join:"
   ]
  },
  {
   "cell_type": "code",
   "execution_count": null,
   "metadata": {},
   "outputs": [],
   "source": [
    "# spatial join, tracts with roads\n",
    "tracts_with_roads = gpd.sjoin(tracts_df, rc_hw, how='right', op='intersects')"
   ]
  },
  {
   "cell_type": "code",
   "execution_count": null,
   "metadata": {},
   "outputs": [],
   "source": [
    "tracts_with_roads.shape"
   ]
  },
  {
   "cell_type": "markdown",
   "metadata": {},
   "source": [
    "There is that number again: 256. What is happening here?"
   ]
  },
  {
   "cell_type": "code",
   "execution_count": null,
   "metadata": {},
   "outputs": [],
   "source": [
    "## 'how=right' uses keys from right DataFrame and retains right df geometry\n",
    "tracts_with_roads.plot(edgecolor='grey', alpha=0.2)"
   ]
  },
  {
   "cell_type": "markdown",
   "metadata": {},
   "source": [
    "These are not tracts but rather the LineStirngs. What is happening is\n",
    "that a `right` join keeps each of the features from the right DataFrame\n",
    "and lists each unique intersection with a feature from the left\n",
    "DataFrame:\n",
    "\n",
    "So, if we are interested in the question of whether tracts intersecting\n",
    "the highway network are different from those not interseting the\n",
    "highways, which one do we want?\n",
    "\n",
    "There are several ways we could do this, but the approach we take here\n",
    "is to use the inner join:"
   ]
  },
  {
   "cell_type": "code",
   "execution_count": null,
   "metadata": {},
   "outputs": [],
   "source": [
    "tracts_with_roads = gpd.sjoin(tracts_df, rc_hw, how='inner', op='intersects')"
   ]
  },
  {
   "cell_type": "code",
   "execution_count": null,
   "metadata": {},
   "outputs": [],
   "source": [
    "tracts_with_roads.shape"
   ]
  },
  {
   "cell_type": "markdown",
   "metadata": {},
   "source": [
    "With this in hand, we can create an indicator variable for use in\n",
    "subsequent analysis. Here the indicator will be 1 if the tract\n",
    "intersects one or more route segments, and zero other wise:"
   ]
  },
  {
   "cell_type": "code",
   "execution_count": null,
   "metadata": {},
   "outputs": [],
   "source": [
    "# Let's create an indicator (dummy) variable for use later\n",
    "import numpy as np\n",
    "geoids = tracts_df['GEOID10'].values\n",
    "tract_hw = np.array([geoid in tracts_with_roads['GEOID10'].values for geoid in geoids])\n",
    "\n",
    "tract_hw"
   ]
  },
  {
   "cell_type": "markdown",
   "metadata": {},
   "source": [
    "We convert the Boolean valued array into a numerical type and store it\n",
    "in our indicator variable `intersectshw` in our tract DataFrame:"
   ]
  },
  {
   "cell_type": "code",
   "execution_count": null,
   "metadata": {},
   "outputs": [],
   "source": [
    "tracts_df['intersectshw'] = tract_hw*1."
   ]
  },
  {
   "cell_type": "markdown",
   "metadata": {},
   "source": [
    "We can now visualize our work:"
   ]
  },
  {
   "cell_type": "code",
   "execution_count": null,
   "metadata": {},
   "outputs": [],
   "source": [
    "tracts_df.plot()"
   ]
  },
  {
   "cell_type": "markdown",
   "metadata": {},
   "source": [
    "That plots the entire DataFrame. We would like to distinguish tracts\n",
    "that intersect the network from those that do not:"
   ]
  },
  {
   "cell_type": "code",
   "execution_count": null,
   "metadata": {},
   "outputs": [],
   "source": [
    "tracts_df.plot(column='intersectshw')"
   ]
  },
  {
   "cell_type": "markdown",
   "metadata": {},
   "source": [
    "Great, but which color represents the tract intersecting the network? We\n",
    "can tighten up this visualization:"
   ]
  },
  {
   "cell_type": "code",
   "execution_count": null,
   "metadata": {},
   "outputs": [],
   "source": [
    "plt.rcParams['figure.figsize'] = (12, 10)\n",
    "ax = plt.gca()\n",
    "tracts_df.plot(ax=ax, column='intersectshw',edgecolor='grey', alpha=0.2)\n",
    "rc_hw.plot(ax=ax, edgecolor='k')\n",
    "ax.set_xlim(-118.0, -114.0); ax.set_ylim(33.25, 34.25)\n",
    "ax.set_aspect('equal')\n",
    "plt.show()"
   ]
  },
  {
   "cell_type": "markdown",
   "metadata": {},
   "source": [
    "And we see the results of our geoprocessing.\n",
    "\n",
    "We can save our DataFrame by writing it out to a shapefile for future\n",
    "analysis."
   ]
  },
  {
   "cell_type": "code",
   "execution_count": null,
   "metadata": {},
   "outputs": [],
   "source": [
    "# save our work to an augmented shapefile\n",
    "tracts_df.to_file('data/tracts_routes.shp')"
   ]
  },
  {
   "cell_type": "markdown",
   "metadata": {},
   "source": [
    "Spatial Joins: Take Two\n",
    "=======================\n",
    "\n",
    "Our social scientist is pretty happy with what she has been able to\n",
    "accomplish with Geopandas and its geoprocessing.\n",
    "\n",
    "Taking advantage of these new skills, she wants to further refine the\n",
    "scope of her analysis as she realizes much of the eastern part of the\n",
    "county consists of very large census tracts with low population. So she\n",
    "decides to focus only on the case of the City of Riverside.\n",
    "\n",
    "She has obtained a shapefile for the official city boundaries from the\n",
    "[California Department of\n",
    "Transportation](http://www.dot.ca.gov/hq/tsip/gis/datalibrary/zip/Boundaries/Cities2015.zip):"
   ]
  },
  {
   "cell_type": "code",
   "execution_count": null,
   "metadata": {},
   "outputs": [],
   "source": [
    "city = gpd.read_file('data/riverside_city.shp')\n",
    "\n",
    "city.plot()"
   ]
  },
  {
   "cell_type": "markdown",
   "metadata": {},
   "source": [
    "And she uses this to do a spatial join to determine which tracts in\n",
    "Riverside County are within Riverside City:"
   ]
  },
  {
   "cell_type": "code",
   "execution_count": null,
   "metadata": {},
   "outputs": [],
   "source": [
    "city_tracts = gpd.sjoin(tracts_df, city, how='inner', op='intersects')\n",
    "\n",
    "city_tracts.head()"
   ]
  },
  {
   "cell_type": "code",
   "execution_count": null,
   "metadata": {},
   "outputs": [],
   "source": [
    "city_tracts.shape"
   ]
  },
  {
   "cell_type": "code",
   "execution_count": null,
   "metadata": {},
   "outputs": [],
   "source": [
    "city_tracts.plot(edgecolor='grey',facecolor='white')"
   ]
  },
  {
   "cell_type": "markdown",
   "metadata": {},
   "source": [
    "Recall that previously we created the indicator variable `intersectshw`\n",
    "for all the tracts in Riverside County that intersected with the road\n",
    "network. One of the nice features of GeoPandas is that for many of the\n",
    "geoprocessing operations, the attributes are passed along to the derived\n",
    "GeoDataFrames. In our case, `city_tracts` is really just a subset of\n",
    "`tracts_df` so since the latter was the DataFrame that we originally\n",
    "defined the `intersectshw` variable, that attribute gets propagated\n",
    "along to the derived `city_tract` GeoDataFrame."
   ]
  },
  {
   "cell_type": "code",
   "execution_count": null,
   "metadata": {},
   "outputs": [],
   "source": [
    "city_tracts.plot(column='intersectshw', edgecolor='grey')"
   ]
  },
  {
   "cell_type": "code",
   "execution_count": null,
   "metadata": {},
   "outputs": [],
   "source": [
    "city_tracts.head()"
   ]
  },
  {
   "cell_type": "code",
   "execution_count": null,
   "metadata": {},
   "outputs": [],
   "source": [
    "plt.rcParams['figure.figsize'] = (12, 10)\n",
    "ax = plt.gca()\n",
    "city_tracts.plot(ax=ax, column='intersectshw',edgecolor='grey', alpha=0.2)\n",
    "rc_hw.plot(ax=ax, edgecolor='k')\n",
    "ax.set_xlim(-118.0, -114.0); ax.set_ylim(33.25, 34.25)\n",
    "ax.set_aspect('equal')\n",
    "plt.show()"
   ]
  },
  {
   "cell_type": "markdown",
   "metadata": {},
   "source": [
    "Using the `total_bounds` of the new DataFrame we can zoom in to the\n",
    "western part of Riverside County that is centered on the City of\n",
    "Riverside:"
   ]
  },
  {
   "cell_type": "code",
   "execution_count": null,
   "metadata": {},
   "outputs": [],
   "source": [
    "w, s, e, n = city_tracts.total_bounds\n",
    "w, s, e, n"
   ]
  },
  {
   "cell_type": "code",
   "execution_count": null,
   "metadata": {},
   "outputs": [],
   "source": [
    "plt.rcParams['figure.figsize'] = (12, 10)\n",
    "ax = plt.gca()\n",
    "city_tracts.plot(ax=ax, column='intersectshw',edgecolor='grey', alpha=0.2)\n",
    "rc_hw.plot(ax=ax, edgecolor='k')\n",
    "ax.set_xlim(w, e); ax.set_ylim(s, n)\n",
    "#ax.set_aspect('equal')\n",
    "plt.show()"
   ]
  },
  {
   "cell_type": "markdown",
   "metadata": {},
   "source": [
    "Buffering\n",
    "=========\n",
    "\n",
    "Our researcher has identified the tracts that intersect the truck route\n",
    "network and has sharpened the lens to the City of Riverside. However,\n",
    "zooming in further she sees a geographical relationship that gives her\n",
    "pause:"
   ]
  },
  {
   "cell_type": "code",
   "execution_count": null,
   "metadata": {},
   "outputs": [],
   "source": [
    "plt.rcParams['figure.figsize'] = (12, 10)\n",
    "ax = plt.gca()\n",
    "city_tracts.plot(ax=ax, column='intersectshw',edgecolor='grey', alpha=0.2)\n",
    "rc_hw.plot(ax=ax, edgecolor='k')\n",
    "ax.set_xlim(-117.53, -117.37); ax.set_ylim(33.875, 33.975)\n",
    "#ax.set_aspect('equal')\n",
    "plt.show()"
   ]
  },
  {
   "cell_type": "markdown",
   "metadata": {},
   "source": [
    "It seems to her that there are cases where a segment of the road network\n",
    "separates two tracts, yet only one of those tracts is identified as\n",
    "intersecting the network. While tracts are typically defined using\n",
    "blocks and street center lines she would expect the tracts that share a\n",
    "road segment as a common part of their respective borders should both be\n",
    "considered intersecting the network. For her environmental equity\n",
    "analysis she thinks that individuals that are equidistant from the\n",
    "network, but on opposite sides of the highway, should face the same\n",
    "level of exposure. Yet, the variable she has painstakingly constructed\n",
    "thus far would give an asymmetric exposure measure to these individuals.\n",
    "\n",
    "There are several reasons these apparent inconsistencies can arise.\n",
    "First, the origin of the tract boundaries is different from that of the\n",
    "route network so there is no guarantee that the same digitization\n",
    "process was used. Second, even if the same agency/researcher did the\n",
    "digitization of the two layers, if they do not follow good practice, the\n",
    "topological relationships may be in error. In either case, the two\n",
    "layers may be yield these kinds of inconsistencies when considered\n",
    "together.\n",
    "\n",
    "Fortunately, our researcher knows about the concept of **buffering** and\n",
    "can call on this to develop a more robust representation of proximity to\n",
    "the highway. The idea is to define a critical distance, say 500 feet,\n",
    "and then define a new polygon that contains all of the points that are\n",
    "within 500 feed of the route network. The resulting polygon is called a\n",
    "**buffer**.\n",
    "\n",
    "Once we have the 500-ft buffer, we can then repeat our intersection test\n",
    "for the tracts to see which tracts are within 500 feet of the route\n",
    "network. This would address the asymmetry problem our researcher has\n",
    "identified.\n",
    "\n",
    "One issue we face, however, is that the tract CRS is unprojected:"
   ]
  },
  {
   "cell_type": "code",
   "execution_count": null,
   "metadata": {},
   "outputs": [],
   "source": [
    "tracts_df.crs"
   ]
  },
  {
   "cell_type": "markdown",
   "metadata": {},
   "source": [
    "In other words, if we ignore the CRS, our distances are going to be in\n",
    "decimal degrees and not feet. So we need to put the tracts on a CRS with\n",
    "more appropriate units. Fortunately, our behavioral clinics data set has\n",
    "just such a CRS:"
   ]
  },
  {
   "cell_type": "code",
   "execution_count": null,
   "metadata": {},
   "outputs": [],
   "source": [
    "clinics = gpd.read_file('data/behavioralHealth.shp')"
   ]
  },
  {
   "cell_type": "code",
   "execution_count": null,
   "metadata": {},
   "outputs": [],
   "source": [
    "clinics.crs"
   ]
  },
  {
   "cell_type": "markdown",
   "metadata": {},
   "source": [
    "And, we can change the CRS of the city~tracts~ to that of the clinics:"
   ]
  },
  {
   "cell_type": "code",
   "execution_count": null,
   "metadata": {},
   "outputs": [],
   "source": [
    "city_tracts = city_tracts.to_crs(clinics.crs)"
   ]
  },
  {
   "cell_type": "code",
   "execution_count": null,
   "metadata": {},
   "outputs": [],
   "source": [
    "city_tracts.plot()"
   ]
  },
  {
   "cell_type": "markdown",
   "metadata": {},
   "source": [
    "Notice that the units on the axes have changed from what we had above.\n",
    "\n",
    "Since we will be doing a buffer around the segments of the highway in\n",
    "the county as well"
   ]
  },
  {
   "cell_type": "code",
   "execution_count": null,
   "metadata": {},
   "outputs": [],
   "source": [
    "rc_hw.plot()"
   ]
  },
  {
   "cell_type": "code",
   "execution_count": null,
   "metadata": {},
   "outputs": [],
   "source": [
    "type(rc_hw)"
   ]
  },
  {
   "cell_type": "code",
   "execution_count": null,
   "metadata": {},
   "outputs": [],
   "source": [
    "rc_hw = rc_hw.to_crs(city_tracts.crs)"
   ]
  },
  {
   "cell_type": "code",
   "execution_count": null,
   "metadata": {},
   "outputs": [],
   "source": [
    "rc_hw.plot()"
   ]
  },
  {
   "cell_type": "markdown",
   "metadata": {},
   "source": [
    "Now we can define the buffer. If we"
   ]
  },
  {
   "cell_type": "code",
   "execution_count": null,
   "metadata": {},
   "outputs": [],
   "source": [
    "buf = rc_hw.buffer(500)"
   ]
  },
  {
   "cell_type": "code",
   "execution_count": null,
   "metadata": {},
   "outputs": [],
   "source": [
    "buf.plot()"
   ]
  },
  {
   "cell_type": "code",
   "execution_count": null,
   "metadata": {},
   "outputs": [],
   "source": [
    "rc_hw.columns"
   ]
  },
  {
   "cell_type": "markdown",
   "metadata": {},
   "source": [
    "Cool. That gives us a buffer but for the network in the entire county.\n",
    "What about just in the city?"
   ]
  },
  {
   "cell_type": "code",
   "execution_count": null,
   "metadata": {},
   "outputs": [],
   "source": [
    "city_tracts.columns"
   ]
  },
  {
   "cell_type": "markdown",
   "metadata": {},
   "source": [
    "Now if we just want the segments in the city boundaries, we know a\n",
    "spatial join can get us these:"
   ]
  },
  {
   "cell_type": "code",
   "execution_count": null,
   "metadata": {},
   "outputs": [],
   "source": [
    "city_hw = gpd.sjoin(routes_df, city, how='inner', op ='intersects')"
   ]
  },
  {
   "cell_type": "code",
   "execution_count": null,
   "metadata": {},
   "outputs": [],
   "source": [
    "city_hw.plot()"
   ]
  },
  {
   "cell_type": "markdown",
   "metadata": {},
   "source": [
    "and, we take care to set its CRS accordingly:"
   ]
  },
  {
   "cell_type": "code",
   "execution_count": null,
   "metadata": {},
   "outputs": [],
   "source": [
    "city_hw = city_hw.to_crs(city_tracts.crs)"
   ]
  },
  {
   "cell_type": "code",
   "execution_count": null,
   "metadata": {},
   "outputs": [],
   "source": [
    "city_hw.plot()"
   ]
  },
  {
   "cell_type": "markdown",
   "metadata": {},
   "source": [
    "And, we can buffer these segments:"
   ]
  },
  {
   "cell_type": "code",
   "execution_count": null,
   "metadata": {},
   "outputs": [],
   "source": [
    "b500 = city_hw.buffer(500)"
   ]
  },
  {
   "cell_type": "code",
   "execution_count": null,
   "metadata": {},
   "outputs": [],
   "source": [
    "b500.plot()"
   ]
  },
  {
   "cell_type": "code",
   "execution_count": null,
   "metadata": {},
   "outputs": [],
   "source": [
    "ct = city_tracts[['GEOID10', 'geometry']]\n",
    "b500 = gpd.GeoDataFrame({'geometry': b500})\n",
    "b500.crs = ct.crs"
   ]
  },
  {
   "cell_type": "markdown",
   "metadata": {},
   "source": [
    "Now we can ask to find the tracts in Riverside City that intersect with\n",
    "the 500-ft buffer around the highways:"
   ]
  },
  {
   "cell_type": "code",
   "execution_count": null,
   "metadata": {},
   "outputs": [],
   "source": [
    "tracts_intersecting_hw = gpd.sjoin(ct, b500, how='inner', op='intersects')"
   ]
  },
  {
   "cell_type": "code",
   "execution_count": null,
   "metadata": {},
   "outputs": [],
   "source": [
    "tracts_intersecting_hw.plot()"
   ]
  },
  {
   "cell_type": "markdown",
   "metadata": {},
   "source": [
    "This creates a new DataFrame with only those tracts for which the hit\n",
    "test (buffer intersection) is True:"
   ]
  },
  {
   "cell_type": "code",
   "execution_count": null,
   "metadata": {},
   "outputs": [],
   "source": [
    "tracts_intersecting_hw.shape"
   ]
  },
  {
   "cell_type": "markdown",
   "metadata": {},
   "source": [
    "Now can create a dummy variable for these tracts to place back in the\n",
    "DataFrame that contains all the city tracts:"
   ]
  },
  {
   "cell_type": "code",
   "execution_count": null,
   "metadata": {},
   "outputs": [],
   "source": [
    "geoids = city_tracts['GEOID10'].values\n",
    "tract_hw = np.array([geoid in tracts_intersecting_hw['GEOID10'].values for geoid in geoids])\n",
    "tract_hw"
   ]
  },
  {
   "cell_type": "code",
   "execution_count": null,
   "metadata": {},
   "outputs": [],
   "source": [
    "city_tracts['b500'] = tract_hw * 1"
   ]
  },
  {
   "cell_type": "code",
   "execution_count": null,
   "metadata": {},
   "outputs": [],
   "source": [
    "city_tracts.plot()"
   ]
  },
  {
   "cell_type": "markdown",
   "metadata": {},
   "source": [
    "Comparing our two different operational constructs for environmental\n",
    "equity we have:"
   ]
  },
  {
   "cell_type": "code",
   "execution_count": null,
   "metadata": {},
   "outputs": [],
   "source": [
    "city_tracts.plot(column='b500',edgecolor='grey')"
   ]
  },
  {
   "cell_type": "code",
   "execution_count": null,
   "metadata": {},
   "outputs": [],
   "source": [
    "w, s, e, n = city_tracts.total_bounds\n",
    "plt.rcParams['figure.figsize'] = (12, 10)\n",
    "ax = plt.gca()\n",
    "city_tracts.plot(ax=ax, column='intersectshw',edgecolor='grey', alpha=0.2)\n",
    "b500.plot(ax=ax, edgecolor='k')\n",
    "ax.set_xlim(w, e); ax.set_ylim(s, n)\n",
    "#ax.set_aspect('equal')\n",
    "plt.show()"
   ]
  },
  {
   "cell_type": "code",
   "execution_count": null,
   "metadata": {},
   "outputs": [],
   "source": [
    "w, s, e, n = city_tracts.total_bounds\n",
    "plt.rcParams['figure.figsize'] = (12, 10)\n",
    "ax = plt.gca()\n",
    "city_tracts.plot(ax=ax, column='b500',edgecolor='grey', alpha=0.2)\n",
    "b500.plot(ax=ax, edgecolor='k')\n",
    "ax.set_xlim(w, e); ax.set_ylim(s, n)\n",
    "#ax.set_aspect('equal')\n",
    "plt.show()"
   ]
  },
  {
   "cell_type": "markdown",
   "metadata": {},
   "source": [
    "And we save our tracts and buffer to their own shapefiles for the next\n",
    "phase of our analysis."
   ]
  },
  {
   "cell_type": "code",
   "execution_count": null,
   "metadata": {},
   "outputs": [],
   "source": [
    "city_tracts.to_file('data/city_tracts.shp')\n",
    "b500.to_file('data/b500.shp')"
   ]
  },
  {
   "cell_type": "markdown",
   "metadata": {},
   "source": [
    "---\n",
    "\n",
    "<a rel=\"license\" href=\"http://creativecommons.org/licenses/by-nc-\n",
    "sa/4.0/\"><img alt=\"Creative Commons License\" style=\"border-width:0\"\n",
    "src=\"https://i.creativecommons.org/l/by-nc-sa/4.0/88x31.png\" /></a><br /><span\n",
    "xmlns:dct=\"http://purl.org/dc/terms/\" property=\"dct:title\">Geoprocessing with GeoPandas</span> by <a xmlns:cc=\"http://creativecommons.org/ns#\"\n",
    "href=\"http://sergerey.org\" property=\"cc:attributionName\"\n",
    "rel=\"cc:attributionURL\">Serge Rey</a> is licensed under a <a\n",
    "rel=\"license\" href=\"http://creativecommons.org/licenses/by-nc-sa/4.0/\">Creative\n",
    "Commons Attribution-NonCommercial-ShareAlike 4.0 International License</a>."
   ]
  }
 ],
 "metadata": {
  "jupytext": {
   "formats": "ipynb,md"
  },
  "kernelspec": {
   "display_name": "Python 3",
   "language": "python",
   "name": "python3"
  },
  "language_info": {
   "codemirror_mode": {
    "name": "ipython",
    "version": 3
   },
   "file_extension": ".py",
   "mimetype": "text/x-python",
   "name": "python",
   "nbconvert_exporter": "python",
   "pygments_lexer": "ipython3",
   "version": "3.6.7"
  }
 },
 "nbformat": 4,
 "nbformat_minor": 4
}
