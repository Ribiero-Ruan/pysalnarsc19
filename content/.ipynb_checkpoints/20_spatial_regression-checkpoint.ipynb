{
 "cells": [
  {
   "cell_type": "markdown",
   "metadata": {},
   "source": [
    "# Spatial regression\n",
    "\n",
    "> **NOTE**: some of this material has been ported and adapted from the PySAL/spreg code for Chapter 5-13 in *Modern Spatial Econometrics in Practice: A Guide to GeoDa, GeoDaSpace and PySAL* by Luc Anselin and Sergio J. Rey. (c) 2014 Luc Anselin and Sergio J. Rey, All Rights Reserved.\n",
    "\n",
    "* [Basic OLS](#Basic-OLS)\n",
    "    * Nonspatial diagnostics\n",
    "    * Spatial diagnostics - spatial specification\n",
    "* [Spatial Lag Model](#Spatial-Lag-Model)\n",
    "    * Spatial two Stage Least Squares (S2SLS)\n",
    "        * Spatial diagnostics\n",
    "        * Interpretation\n",
    "            * Direct impact\n",
    "            * Indirect impact\n",
    "* [Spatial Model with Lag and Error](#Spatial-Model-with-Lag-and-Error)\n",
    "    \n",
    "* [Spatial error model](#Spatial-Error-Model)"
   ]
  },
  {
   "cell_type": "markdown",
   "metadata": {},
   "source": [
    "## Basic Regression Setup##"
   ]
  },
  {
   "cell_type": "markdown",
   "metadata": {},
   "source": [
    "**Creating arrays for y and x using the Baltimore house price example**"
   ]
  },
  {
   "cell_type": "markdown",
   "metadata": {},
   "source": [
    "Preliminaries, importing **numpy** and **PySAL**"
   ]
  },
  {
   "cell_type": "code",
   "execution_count": 1,
   "metadata": {},
   "outputs": [
    {
     "name": "stdout",
     "output_type": "stream",
     "text": [
      "Populating the interactive namespace from numpy and matplotlib\n"
     ]
    }
   ],
   "source": [
    "%pylab inline"
   ]
  },
  {
   "cell_type": "code",
   "execution_count": 2,
   "metadata": {},
   "outputs": [
    {
     "name": "stderr",
     "output_type": "stream",
     "text": [
      "/home/serge/anaconda3/envs/workshop18/lib/python3.6/site-packages/pysal/__init__.py:65: VisibleDeprecationWarning: PySAL's API will be changed on 2018-12-31. The last release made with this API is version 1.14.4. A preview of the next API version is provided in the `pysal` 2.0 prelease candidate. The API changes and a guide on how to change imports is provided at https://pysal.org/about\n",
      "  ), VisibleDeprecationWarning)\n"
     ]
    }
   ],
   "source": [
    "import numpy as np\n",
    "import pysal as ps"
   ]
  },
  {
   "cell_type": "markdown",
   "metadata": {},
   "source": [
    "Loading the data set **baltim.dbf** from pysal exmaple datasets and creating the data object."
   ]
  },
  {
   "cell_type": "code",
   "execution_count": 3,
   "metadata": {},
   "outputs": [
    {
     "data": {
      "text/plain": [
       "['STATION',\n",
       " 'PRICE',\n",
       " 'NROOM',\n",
       " 'DWELL',\n",
       " 'NBATH',\n",
       " 'PATIO',\n",
       " 'FIREPL',\n",
       " 'AC',\n",
       " 'BMENT',\n",
       " 'NSTOR',\n",
       " 'GAR',\n",
       " 'AGE',\n",
       " 'CITCOU',\n",
       " 'LOTSZ',\n",
       " 'SQFT',\n",
       " 'X',\n",
       " 'Y']"
      ]
     },
     "execution_count": 3,
     "metadata": {},
     "output_type": "execute_result"
    }
   ],
   "source": [
    "db = ps.open(ps.examples.get_path(\"baltim.dbf\"),'r')\n",
    "db.header"
   ]
  },
  {
   "cell_type": "markdown",
   "metadata": {},
   "source": [
    "Check how many observations:"
   ]
  },
  {
   "cell_type": "code",
   "execution_count": 4,
   "metadata": {},
   "outputs": [
    {
     "data": {
      "text/plain": [
       "211"
      ]
     },
     "execution_count": 4,
     "metadata": {},
     "output_type": "execute_result"
    }
   ],
   "source": [
    "len(db)"
   ]
  },
  {
   "cell_type": "markdown",
   "metadata": {},
   "source": [
    "**y** - dependent variable is PRICE"
   ]
  },
  {
   "cell_type": "code",
   "execution_count": 5,
   "metadata": {},
   "outputs": [],
   "source": [
    "y_name = \"PRICE\""
   ]
  },
  {
   "cell_type": "code",
   "execution_count": 6,
   "metadata": {},
   "outputs": [
    {
     "data": {
      "image/png": "[encoded data removed]",
      "text/plain": [
       "<Figure size 432x432 with 1 Axes>"
      ]
     },
     "metadata": {
      "needs_background": "light"
     },
     "output_type": "display_data"
    }
   ],
   "source": [
    "from pysal.contrib.viz import mapping as maps\n",
    "db_pd = ps.pdio.read_files(ps.examples.get_path(\"baltim.shp\"))\n",
    "fig, ax = plt.subplots(1, figsize=(6, 6))\n",
    "maps.geoplot(db_pd, y_name,ax=ax, palette='OrRd',classi=\"Equal_Interval\")"
   ]
  },
  {
   "cell_type": "markdown",
   "metadata": {},
   "source": [
    "Create the y array as a n by 1 column vector (hence the transpose **T**)"
   ]
  },
  {
   "cell_type": "code",
   "execution_count": 7,
   "metadata": {},
   "outputs": [],
   "source": [
    "y = np.array([db.by_col(y_name)]).T"
   ]
  },
  {
   "cell_type": "markdown",
   "metadata": {},
   "source": [
    "Check on the dimensions"
   ]
  },
  {
   "cell_type": "code",
   "execution_count": 8,
   "metadata": {},
   "outputs": [
    {
     "data": {
      "text/plain": [
       "(211, 1)"
      ]
     },
     "execution_count": 8,
     "metadata": {},
     "output_type": "execute_result"
    }
   ],
   "source": [
    "y.shape"
   ]
  },
  {
   "cell_type": "markdown",
   "metadata": {},
   "source": [
    "**x** - the explanatory variables\n",
    "\n",
    "First create a list with the variable names, then use a list comprehension to create the **x** array"
   ]
  },
  {
   "cell_type": "code",
   "execution_count": 9,
   "metadata": {},
   "outputs": [],
   "source": [
    "x_names = ['NROOM','NBATH','PATIO','FIREPL','AC','GAR','AGE',\n",
    "           'LOTSZ','SQFT']\n",
    "x = np.array([db.by_col(var) for var in x_names]).T"
   ]
  },
  {
   "cell_type": "markdown",
   "metadata": {},
   "source": [
    "Check on dimensions"
   ]
  },
  {
   "cell_type": "code",
   "execution_count": 10,
   "metadata": {},
   "outputs": [
    {
     "data": {
      "text/plain": [
       "(211, 9)"
      ]
     },
     "execution_count": 10,
     "metadata": {},
     "output_type": "execute_result"
    }
   ],
   "source": [
    "x.shape"
   ]
  },
  {
   "cell_type": "markdown",
   "metadata": {},
   "source": [
    "**Model weights** - needed for spatial diagnostics"
   ]
  },
  {
   "cell_type": "markdown",
   "metadata": {},
   "source": [
    "k nearest neighbor with k=4 constructed from **baltim.shp**, using STATION as the ID variable"
   ]
  },
  {
   "cell_type": "code",
   "execution_count": 11,
   "metadata": {},
   "outputs": [],
   "source": [
    "w = ps.knnW_from_shapefile(ps.examples.get_path('baltim.shp'),k=4,idVariable='STATION')"
   ]
  },
  {
   "cell_type": "markdown",
   "metadata": {},
   "source": [
    "Quick check on dimension"
   ]
  },
  {
   "cell_type": "code",
   "execution_count": 12,
   "metadata": {},
   "outputs": [
    {
     "data": {
      "text/plain": [
       "211"
      ]
     },
     "execution_count": 12,
     "metadata": {},
     "output_type": "execute_result"
    }
   ],
   "source": [
    "w.n"
   ]
  },
  {
   "cell_type": "code",
   "execution_count": 13,
   "metadata": {},
   "outputs": [
    {
     "data": {
      "text/plain": [
       "[(4, 211)]"
      ]
     },
     "execution_count": 13,
     "metadata": {},
     "output_type": "execute_result"
    }
   ],
   "source": [
    "w.histogram"
   ]
  },
  {
   "cell_type": "markdown",
   "metadata": {},
   "source": [
    "row-standardize - is **always** necessary"
   ]
  },
  {
   "cell_type": "code",
   "execution_count": 14,
   "metadata": {},
   "outputs": [],
   "source": [
    "w.transform = 'r'"
   ]
  },
  {
   "cell_type": "markdown",
   "metadata": {},
   "source": [
    "Quick check on the values of the weights"
   ]
  },
  {
   "cell_type": "code",
   "execution_count": 15,
   "metadata": {},
   "outputs": [
    {
     "data": {
      "text/plain": [
       "[0.25, 0.25, 0.25, 0.25]"
      ]
     },
     "execution_count": 15,
     "metadata": {},
     "output_type": "execute_result"
    }
   ],
   "source": [
    "w.weights[1]"
   ]
  },
  {
   "cell_type": "markdown",
   "metadata": {},
   "source": [
    "## Basic OLS "
   ]
  },
  {
   "cell_type": "markdown",
   "metadata": {},
   "source": [
    "**OLS with variable and data set names**\n",
    "\n",
    "$$\\mathbf{y}=\\mathbf{X} \\beta + \\mathbf{\\epsilon}$$"
   ]
  },
  {
   "cell_type": "code",
   "execution_count": 16,
   "metadata": {},
   "outputs": [],
   "source": [
    "ols1a = ps.spreg.OLS(y,x,name_y=y_name,name_x=x_names, name_ds='baltim.shp')"
   ]
  },
  {
   "cell_type": "code",
   "execution_count": 18,
   "metadata": {},
   "outputs": [
    {
     "name": "stdout",
     "output_type": "stream",
     "text": [
      "REGRESSION\n",
      "----------\n",
      "SUMMARY OF OUTPUT: ORDINARY LEAST SQUARES\n",
      "-----------------------------------------\n",
      "Data set            :  baltim.shp\n",
      "Weights matrix      :        None\n",
      "Dependent Variable  :       PRICE                Number of Observations:         211\n",
      "Mean dependent var  :     44.3072                Number of Variables   :          10\n",
      "S.D. dependent var  :     23.6061                Degrees of Freedom    :         201\n",
      "R-squared           :      0.6500\n",
      "Adjusted R-squared  :      0.6343\n",
      "Sum squared residual:   40960.463                F-statistic           :     41.4718\n",
      "Sigma-square        :     203.783                Prob(F-statistic)     :    3.24e-41\n",
      "S.E. of regression  :      14.275                Log likelihood        :    -855.223\n",
      "Sigma-square ML     :     194.125                Akaike info criterion :    1730.446\n",
      "S.E of regression ML:     13.9329                Schwarz criterion     :    1763.965\n",
      "\n",
      "------------------------------------------------------------------------------------\n",
      "            Variable     Coefficient       Std.Error     t-Statistic     Probability\n",
      "------------------------------------------------------------------------------------\n",
      "            CONSTANT      23.2699963       5.2241658       4.4542989       0.0000140\n",
      "               NROOM       0.2224935       1.2279277       0.1811943       0.8563976\n",
      "               NBATH       5.6484051       2.0182820       2.7986204       0.0056318\n",
      "               PATIO      10.3358755       3.1202987       3.3124635       0.0010966\n",
      "              FIREPL      11.1727277       2.7323132       4.0891094       0.0000626\n",
      "                  AC       7.8541637       2.7024343       2.9063292       0.0040671\n",
      "                 GAR       5.4020685       1.9636140       2.7510848       0.0064824\n",
      "                 AGE      -0.2134550       0.0573535      -3.7217456       0.0002568\n",
      "               LOTSZ       0.0949064       0.0165355       5.7395480       0.0000000\n",
      "                SQFT       0.1877562       0.1890598       0.9931047       0.3218530\n",
      "------------------------------------------------------------------------------------\n",
      "\n",
      "REGRESSION DIAGNOSTICS\n",
      "MULTICOLLINEARITY CONDITION NUMBER           20.609\n",
      "\n",
      "TEST ON NORMALITY OF ERRORS\n",
      "TEST                             DF        VALUE           PROB\n",
      "Jarque-Bera                       2         429.933           0.0000\n",
      "\n",
      "DIAGNOSTICS FOR HETEROSKEDASTICITY\n",
      "RANDOM COEFFICIENTS\n",
      "TEST                             DF        VALUE           PROB\n",
      "Breusch-Pagan test                9         167.792           0.0000\n",
      "Koenker-Bassett test              9          39.197           0.0000\n",
      "================================ END OF REPORT =====================================\n"
     ]
    }
   ],
   "source": [
    "print(ols1a.summary)"
   ]
  },
  {
   "cell_type": "markdown",
   "metadata": {},
   "source": [
    "## OLS with White Test"
   ]
  },
  {
   "cell_type": "markdown",
   "metadata": {},
   "source": [
    "set **white_test = True**"
   ]
  },
  {
   "cell_type": "code",
   "execution_count": 19,
   "metadata": {},
   "outputs": [],
   "source": [
    "ols2 = ps.spreg.OLS(y,x,white_test=True,name_y=y_name,name_x=x_names,name_ds='baltim.shp')"
   ]
  },
  {
   "cell_type": "code",
   "execution_count": 21,
   "metadata": {},
   "outputs": [
    {
     "name": "stdout",
     "output_type": "stream",
     "text": [
      "REGRESSION\n",
      "----------\n",
      "SUMMARY OF OUTPUT: ORDINARY LEAST SQUARES\n",
      "-----------------------------------------\n",
      "Data set            :  baltim.shp\n",
      "Weights matrix      :        None\n",
      "Dependent Variable  :       PRICE                Number of Observations:         211\n",
      "Mean dependent var  :     44.3072                Number of Variables   :          10\n",
      "S.D. dependent var  :     23.6061                Degrees of Freedom    :         201\n",
      "R-squared           :      0.6500\n",
      "Adjusted R-squared  :      0.6343\n",
      "Sum squared residual:   40960.463                F-statistic           :     41.4718\n",
      "Sigma-square        :     203.783                Prob(F-statistic)     :    3.24e-41\n",
      "S.E. of regression  :      14.275                Log likelihood        :    -855.223\n",
      "Sigma-square ML     :     194.125                Akaike info criterion :    1730.446\n",
      "S.E of regression ML:     13.9329                Schwarz criterion     :    1763.965\n",
      "\n",
      "------------------------------------------------------------------------------------\n",
      "            Variable     Coefficient       Std.Error     t-Statistic     Probability\n",
      "------------------------------------------------------------------------------------\n",
      "            CONSTANT      23.2699963       5.2241658       4.4542989       0.0000140\n",
      "               NROOM       0.2224935       1.2279277       0.1811943       0.8563976\n",
      "               NBATH       5.6484051       2.0182820       2.7986204       0.0056318\n",
      "               PATIO      10.3358755       3.1202987       3.3124635       0.0010966\n",
      "              FIREPL      11.1727277       2.7323132       4.0891094       0.0000626\n",
      "                  AC       7.8541637       2.7024343       2.9063292       0.0040671\n",
      "                 GAR       5.4020685       1.9636140       2.7510848       0.0064824\n",
      "                 AGE      -0.2134550       0.0573535      -3.7217456       0.0002568\n",
      "               LOTSZ       0.0949064       0.0165355       5.7395480       0.0000000\n",
      "                SQFT       0.1877562       0.1890598       0.9931047       0.3218530\n",
      "------------------------------------------------------------------------------------\n",
      "\n",
      "REGRESSION DIAGNOSTICS\n",
      "MULTICOLLINEARITY CONDITION NUMBER           20.609\n",
      "\n",
      "TEST ON NORMALITY OF ERRORS\n",
      "TEST                             DF        VALUE           PROB\n",
      "Jarque-Bera                       2         429.933           0.0000\n",
      "\n",
      "DIAGNOSTICS FOR HETEROSKEDASTICITY\n",
      "RANDOM COEFFICIENTS\n",
      "TEST                             DF        VALUE           PROB\n",
      "Breusch-Pagan test                9         167.792           0.0000\n",
      "Koenker-Bassett test              9          39.197           0.0000\n",
      "\n",
      "SPECIFICATION ROBUST TEST\n",
      "TEST                             DF        VALUE           PROB\n",
      "White                            51         164.335           0.0000\n",
      "================================ END OF REPORT =====================================\n"
     ]
    }
   ],
   "source": [
    "print( ols2.summary )"
   ]
  },
  {
   "cell_type": "markdown",
   "metadata": {},
   "source": [
    "now the **White** test is included as one of the diagnostics"
   ]
  },
  {
   "cell_type": "markdown",
   "metadata": {},
   "source": [
    "## OLS with Spatial Diagnostics"
   ]
  },
  {
   "cell_type": "markdown",
   "metadata": {},
   "source": [
    "specify the weights (**w**) and set **spat_diag = True** and **moran = True**\n",
    "\n",
    "specify a name for the weights in **name_w**, all the rest is as before\n",
    "\n",
    "for convenience, white_test is back to default of False"
   ]
  },
  {
   "cell_type": "code",
   "execution_count": 22,
   "metadata": {},
   "outputs": [],
   "source": [
    "ols3 = ps.spreg.OLS(y,x,w=w,spat_diag=True,moran=True,\n",
    "                       name_y=y_name,name_x=x_names,name_w='baltim_k4',\n",
    "                       name_ds='baltim.shp')"
   ]
  },
  {
   "cell_type": "code",
   "execution_count": 23,
   "metadata": {},
   "outputs": [
    {
     "name": "stdout",
     "output_type": "stream",
     "text": [
      "REGRESSION\n",
      "----------\n",
      "SUMMARY OF OUTPUT: ORDINARY LEAST SQUARES\n",
      "-----------------------------------------\n",
      "Data set            :  baltim.shp\n",
      "Weights matrix      :   baltim_k4\n",
      "Dependent Variable  :       PRICE                Number of Observations:         211\n",
      "Mean dependent var  :     44.3072                Number of Variables   :          10\n",
      "S.D. dependent var  :     23.6061                Degrees of Freedom    :         201\n",
      "R-squared           :      0.6500\n",
      "Adjusted R-squared  :      0.6343\n",
      "Sum squared residual:   40960.463                F-statistic           :     41.4718\n",
      "Sigma-square        :     203.783                Prob(F-statistic)     :    3.24e-41\n",
      "S.E. of regression  :      14.275                Log likelihood        :    -855.223\n",
      "Sigma-square ML     :     194.125                Akaike info criterion :    1730.446\n",
      "S.E of regression ML:     13.9329                Schwarz criterion     :    1763.965\n",
      "\n",
      "------------------------------------------------------------------------------------\n",
      "            Variable     Coefficient       Std.Error     t-Statistic     Probability\n",
      "------------------------------------------------------------------------------------\n",
      "            CONSTANT      23.2699963       5.2241658       4.4542989       0.0000140\n",
      "               NROOM       0.2224935       1.2279277       0.1811943       0.8563976\n",
      "               NBATH       5.6484051       2.0182820       2.7986204       0.0056318\n",
      "               PATIO      10.3358755       3.1202987       3.3124635       0.0010966\n",
      "              FIREPL      11.1727277       2.7323132       4.0891094       0.0000626\n",
      "                  AC       7.8541637       2.7024343       2.9063292       0.0040671\n",
      "                 GAR       5.4020685       1.9636140       2.7510848       0.0064824\n",
      "                 AGE      -0.2134550       0.0573535      -3.7217456       0.0002568\n",
      "               LOTSZ       0.0949064       0.0165355       5.7395480       0.0000000\n",
      "                SQFT       0.1877562       0.1890598       0.9931047       0.3218530\n",
      "------------------------------------------------------------------------------------\n",
      "\n",
      "REGRESSION DIAGNOSTICS\n",
      "MULTICOLLINEARITY CONDITION NUMBER           20.609\n",
      "\n",
      "TEST ON NORMALITY OF ERRORS\n",
      "TEST                             DF        VALUE           PROB\n",
      "Jarque-Bera                       2         429.933           0.0000\n",
      "\n",
      "DIAGNOSTICS FOR HETEROSKEDASTICITY\n",
      "RANDOM COEFFICIENTS\n",
      "TEST                             DF        VALUE           PROB\n",
      "Breusch-Pagan test                9         167.792           0.0000\n",
      "Koenker-Bassett test              9          39.197           0.0000\n",
      "\n",
      "DIAGNOSTICS FOR SPATIAL DEPENDENCE\n",
      "TEST                           MI/DF       VALUE           PROB\n",
      "Moran's I (error)              0.1073         2.648           0.0081\n",
      "Lagrange Multiplier (lag)         1          30.912           0.0000\n",
      "Robust LM (lag)                   1          28.466           0.0000\n",
      "Lagrange Multiplier (error)       1           5.442           0.0197\n",
      "Robust LM (error)                 1           2.996           0.0835\n",
      "Lagrange Multiplier (SARMA)       2          33.908           0.0000\n",
      "\n",
      "================================ END OF REPORT =====================================\n"
     ]
    }
   ],
   "source": [
    "print( ols3.summary )"
   ]
  },
  {
   "cell_type": "markdown",
   "metadata": {},
   "source": [
    "diagnostics for spatial dependence at the bottom of the listing\n",
    "\n",
    "Pointing to a spatial lag or a SARMA specification? Let's run both of them"
   ]
  },
  {
   "cell_type": "markdown",
   "metadata": {},
   "source": [
    "## Spatial Lag Model\n",
    "$$\\mathbf{y}= \\rho \\mathbf{Wy} + \\mathbf{X} \\beta + \\mathbf{\\epsilon}$$"
   ]
  },
  {
   "cell_type": "markdown",
   "metadata": {},
   "source": [
    "### Spatial two Stage Least Squares (S2SLS)\n",
    "\n",
    "The endogeneity of the lagged dependent variable $\\mathbf{Wy}$ can be dealt with by using instrumental variables $[\\mathbf{X}, \\mathbf{WX}, \\mathbf{W^2X}]$.\n",
    "\n",
    "The default setting of instrumental variables in PySAL `GM_Lag` includes exogeneous variables and their first-oder spatial lags $[\\mathbf{X}, \\mathbf{WX}]$."
   ]
  },
  {
   "cell_type": "code",
   "execution_count": 25,
   "metadata": {},
   "outputs": [],
   "source": [
    "S2SLS1 = ps.spreg.GM_Lag(y,x,w=w,name_y=y_name,name_x=x_names,name_w='baltim_k4',name_ds='baltim')"
   ]
  },
  {
   "cell_type": "code",
   "execution_count": 26,
   "metadata": {},
   "outputs": [
    {
     "name": "stdout",
     "output_type": "stream",
     "text": [
      "REGRESSION\n",
      "----------\n",
      "SUMMARY OF OUTPUT: SPATIAL TWO STAGE LEAST SQUARES\n",
      "--------------------------------------------------\n",
      "Data set            :      baltim\n",
      "Weights matrix      :   baltim_k4\n",
      "Dependent Variable  :       PRICE                Number of Observations:         211\n",
      "Mean dependent var  :     44.3072                Number of Variables   :          11\n",
      "S.D. dependent var  :     23.6061                Degrees of Freedom    :         200\n",
      "Pseudo R-squared    :      0.7064\n",
      "Spatial Pseudo R-squared:  0.6856\n",
      "\n",
      "------------------------------------------------------------------------------------\n",
      "            Variable     Coefficient       Std.Error     z-Statistic     Probability\n",
      "------------------------------------------------------------------------------------\n",
      "            CONSTANT       1.3276578       5.7718694       0.2300222       0.8180746\n",
      "               NROOM       0.8894675       1.1026083       0.8066940       0.4198428\n",
      "               NBATH       5.6036165       1.8043761       3.1055700       0.0018991\n",
      "               PATIO       7.0709845       2.8348494       2.4943069       0.0126203\n",
      "              FIREPL       7.1552855       2.5203968       2.8389519       0.0045262\n",
      "                  AC       6.4790945       2.4253311       2.6714268       0.0075530\n",
      "                 GAR       3.6751527       1.7756639       2.0697344       0.0384772\n",
      "                 AGE      -0.0942686       0.0544832      -1.7302327       0.0835887\n",
      "               LOTSZ       0.0674761       0.0153788       4.3875982       0.0000115\n",
      "                SQFT       0.0750551       0.1699164       0.4417178       0.6586934\n",
      "             W_PRICE       0.4780523       0.0738868       6.4700639       0.0000000\n",
      "------------------------------------------------------------------------------------\n",
      "Instrumented: W_PRICE\n",
      "Instruments: W_AC, W_AGE, W_FIREPL, W_GAR, W_LOTSZ, W_NBATH, W_NROOM,\n",
      "             W_PATIO, W_SQFT\n",
      "================================ END OF REPORT =====================================\n"
     ]
    }
   ],
   "source": [
    "print( S2SLS1.summary )"
   ]
  },
  {
   "cell_type": "markdown",
   "metadata": {},
   "source": [
    "#### including spatial diagnostics, set `spat_diag=True`"
   ]
  },
  {
   "cell_type": "code",
   "execution_count": 27,
   "metadata": {},
   "outputs": [
    {
     "name": "stdout",
     "output_type": "stream",
     "text": [
      "REGRESSION\n",
      "----------\n",
      "SUMMARY OF OUTPUT: SPATIAL TWO STAGE LEAST SQUARES\n",
      "--------------------------------------------------\n",
      "Data set            :      baltim\n",
      "Weights matrix      :   baltim_k4\n",
      "Dependent Variable  :       PRICE                Number of Observations:         211\n",
      "Mean dependent var  :     44.3072                Number of Variables   :          11\n",
      "S.D. dependent var  :     23.6061                Degrees of Freedom    :         200\n",
      "Pseudo R-squared    :      0.7064\n",
      "Spatial Pseudo R-squared:  0.6856\n",
      "\n",
      "------------------------------------------------------------------------------------\n",
      "            Variable     Coefficient       Std.Error     z-Statistic     Probability\n",
      "------------------------------------------------------------------------------------\n",
      "            CONSTANT       1.3276578       5.7718694       0.2300222       0.8180746\n",
      "               NROOM       0.8894675       1.1026083       0.8066940       0.4198428\n",
      "               NBATH       5.6036165       1.8043761       3.1055700       0.0018991\n",
      "               PATIO       7.0709845       2.8348494       2.4943069       0.0126203\n",
      "              FIREPL       7.1552855       2.5203968       2.8389519       0.0045262\n",
      "                  AC       6.4790945       2.4253311       2.6714268       0.0075530\n",
      "                 GAR       3.6751527       1.7756639       2.0697344       0.0384772\n",
      "                 AGE      -0.0942686       0.0544832      -1.7302327       0.0835887\n",
      "               LOTSZ       0.0674761       0.0153788       4.3875982       0.0000115\n",
      "                SQFT       0.0750551       0.1699164       0.4417178       0.6586934\n",
      "             W_PRICE       0.4780523       0.0738868       6.4700639       0.0000000\n",
      "------------------------------------------------------------------------------------\n",
      "Instrumented: W_PRICE\n",
      "Instruments: W_AC, W_AGE, W_FIREPL, W_GAR, W_LOTSZ, W_NBATH, W_NROOM,\n",
      "             W_PATIO, W_SQFT\n",
      "\n",
      "DIAGNOSTICS FOR SPATIAL DEPENDENCE\n",
      "TEST                           MI/DF       VALUE           PROB\n",
      "Anselin-Kelejian Test             1           3.390          0.0656\n",
      "================================ END OF REPORT =====================================\n"
     ]
    }
   ],
   "source": [
    "S2SLS1_sp = ps.spreg.GM_Lag(y,x,w=w,spat_diag=True,\n",
    "                          name_y=y_name,name_x=x_names,\n",
    "                          name_w='baltim_k4',name_ds='baltim')\n",
    "print( S2SLS1_sp.summary )"
   ]
  },
  {
   "cell_type": "markdown",
   "metadata": {},
   "source": [
    "### Direct & Indirect Impacts"
   ]
  },
  {
   "cell_type": "code",
   "execution_count": 28,
   "metadata": {},
   "outputs": [
    {
     "data": {
      "text/plain": [
       "array([[ 1.32765782],\n",
       "       [ 0.88946746],\n",
       "       [ 5.60361648],\n",
       "       [ 7.07098446],\n",
       "       [ 7.15528549],\n",
       "       [ 6.47909448],\n",
       "       [ 3.67515267],\n",
       "       [-0.09426859],\n",
       "       [ 0.0674761 ],\n",
       "       [ 0.07505512]])"
      ]
     },
     "execution_count": 28,
     "metadata": {},
     "output_type": "execute_result"
    }
   ],
   "source": [
    "b = S2SLS1_sp.betas[:-1]\n",
    "b"
   ]
  },
  {
   "cell_type": "code",
   "execution_count": 29,
   "metadata": {},
   "outputs": [
    {
     "data": {
      "text/plain": [
       "array([0.47805226])"
      ]
     },
     "execution_count": 29,
     "metadata": {},
     "output_type": "execute_result"
    }
   ],
   "source": [
    "rho = S2SLS1_sp.betas[-1]\n",
    "rho"
   ]
  },
  {
   "cell_type": "code",
   "execution_count": 30,
   "metadata": {},
   "outputs": [],
   "source": [
    "btot = b / (1.0 - rho) #direct impact\n",
    "bind = btot - b #indirect impact"
   ]
  },
  {
   "cell_type": "code",
   "execution_count": 31,
   "metadata": {},
   "outputs": [
    {
     "name": "stdout",
     "output_type": "stream",
     "text": [
      "Variable       Direct       Indirect      Total\n",
      "  CONSTANT    1.3276578    1.2160026    2.5436604\n",
      "     NROOM    0.8894675    0.8146638    1.7041313\n",
      "     NBATH    5.6036165    5.1323558   10.7359723\n",
      "     PATIO    7.0709845    6.4763190   13.5473035\n",
      "    FIREPL    7.1552855    6.5535304   13.7088159\n",
      "        AC    6.4790945    5.9342066   12.4133011\n",
      "       GAR    3.6751527    3.3660746    7.0412273\n",
      "       AGE   -0.0942686   -0.0863407   -0.1806092\n",
      "     LOTSZ    0.0674761    0.0618014    0.1292775\n",
      "      SQFT    0.0750551    0.0687430    0.1437982\n"
     ]
    }
   ],
   "source": [
    "varnames = [\"CONSTANT\"] + x_names\n",
    "print( \"Variable       Direct       Indirect      Total\" )\n",
    "for i in range(len(varnames)):\n",
    "    print(\"%10s %12.7f %12.7f %12.7f\" % (varnames[i],b[i][0],bind[i][0],btot[i][0]))"
   ]
  },
  {
   "cell_type": "markdown",
   "metadata": {},
   "source": [
    "#### using second order spatial lags for the instruments, set `w_lags = 2`"
   ]
  },
  {
   "cell_type": "code",
   "execution_count": 33,
   "metadata": {},
   "outputs": [
    {
     "name": "stdout",
     "output_type": "stream",
     "text": [
      "REGRESSION\n",
      "----------\n",
      "SUMMARY OF OUTPUT: SPATIAL TWO STAGE LEAST SQUARES\n",
      "--------------------------------------------------\n",
      "Data set            :      baltim\n",
      "Weights matrix      :   baltim_k4\n",
      "Dependent Variable  :       PRICE                Number of Observations:         211\n",
      "Mean dependent var  :     44.3072                Number of Variables   :          11\n",
      "S.D. dependent var  :     23.6061                Degrees of Freedom    :         200\n",
      "Pseudo R-squared    :      0.7061\n",
      "Spatial Pseudo R-squared:  0.6845\n",
      "\n",
      "------------------------------------------------------------------------------------\n",
      "            Variable     Coefficient       Std.Error     z-Statistic     Probability\n",
      "------------------------------------------------------------------------------------\n",
      "            CONSTANT       0.8965615       5.7234031       0.1566483       0.8755220\n",
      "               NROOM       0.9025714       1.1030756       0.8182316       0.4132249\n",
      "               NBATH       5.6027365       1.8055518       3.1030605       0.0019153\n",
      "               PATIO       7.0068398       2.8343528       2.4721128       0.0134317\n",
      "              FIREPL       7.0763557       2.5180454       2.8102574       0.0049502\n",
      "                  AC       6.4520788       2.4264263       2.6590871       0.0078353\n",
      "                 GAR       3.6412243       1.7757744       2.0504994       0.0403157\n",
      "                 AGE      -0.0919270       0.0543559      -1.6912033       0.0907980\n",
      "               LOTSZ       0.0669372       0.0153583       4.3583650       0.0000131\n",
      "                SQFT       0.0728409       0.1699806       0.4285248       0.6682691\n",
      "             W_PRICE       0.4874444       0.0719813       6.7718234       0.0000000\n",
      "------------------------------------------------------------------------------------\n",
      "Instrumented: W_PRICE\n",
      "Instruments: W2_AC, W2_AGE, W2_FIREPL, W2_GAR, W2_LOTSZ, W2_NBATH, W2_NROOM,\n",
      "             W2_PATIO, W2_SQFT, W_AC, W_AGE, W_FIREPL, W_GAR, W_LOTSZ,\n",
      "             W_NBATH, W_NROOM, W_PATIO, W_SQFT\n",
      "\n",
      "DIAGNOSTICS FOR SPATIAL DEPENDENCE\n",
      "TEST                           MI/DF       VALUE           PROB\n",
      "Anselin-Kelejian Test             1           3.622          0.0570\n",
      "================================ END OF REPORT =====================================\n"
     ]
    }
   ],
   "source": [
    "S2SLS2_sp = ps.spreg.GM_Lag(y,x,w=w,w_lags=2,spat_diag=True,\n",
    "                          name_y=y_name,name_x=x_names,\n",
    "                          name_w='baltim_k4',name_ds='baltim')\n",
    "print(S2SLS2_sp.summary)"
   ]
  },
  {
   "cell_type": "markdown",
   "metadata": {},
   "source": [
    "## Spatial Model with Lag and Error\n",
    "Or SAR-SAR\n",
    "\n",
    "$$\\mathbf{y}= \\rho \\mathbf{Wy} + \\mathbf{X} \\beta + \\mathbf{\\mu}$$\n",
    "$$\\mathbf{\\mu} = \\lambda \\mathbf{W \\mu} + \\mathbf{\\epsilon}$$"
   ]
  },
  {
   "cell_type": "code",
   "execution_count": 34,
   "metadata": {},
   "outputs": [
    {
     "data": {
      "text/plain": [
       "\u001b[0;31mInit signature:\u001b[0m \u001b[0mps\u001b[0m\u001b[0;34m.\u001b[0m\u001b[0mspreg\u001b[0m\u001b[0;34m.\u001b[0m\u001b[0mGM_Combo\u001b[0m\u001b[0;34m(\u001b[0m\u001b[0my\u001b[0m\u001b[0;34m,\u001b[0m \u001b[0mx\u001b[0m\u001b[0;34m,\u001b[0m \u001b[0myend\u001b[0m\u001b[0;34m=\u001b[0m\u001b[0;32mNone\u001b[0m\u001b[0;34m,\u001b[0m \u001b[0mq\u001b[0m\u001b[0;34m=\u001b[0m\u001b[0;32mNone\u001b[0m\u001b[0;34m,\u001b[0m \u001b[0mw\u001b[0m\u001b[0;34m=\u001b[0m\u001b[0;32mNone\u001b[0m\u001b[0;34m,\u001b[0m \u001b[0mw_lags\u001b[0m\u001b[0;34m=\u001b[0m\u001b[0;36m1\u001b[0m\u001b[0;34m,\u001b[0m \u001b[0mlag_q\u001b[0m\u001b[0;34m=\u001b[0m\u001b[0;32mTrue\u001b[0m\u001b[0;34m,\u001b[0m \u001b[0mvm\u001b[0m\u001b[0;34m=\u001b[0m\u001b[0;32mFalse\u001b[0m\u001b[0;34m,\u001b[0m \u001b[0mname_y\u001b[0m\u001b[0;34m=\u001b[0m\u001b[0;32mNone\u001b[0m\u001b[0;34m,\u001b[0m \u001b[0mname_x\u001b[0m\u001b[0;34m=\u001b[0m\u001b[0;32mNone\u001b[0m\u001b[0;34m,\u001b[0m \u001b[0mname_yend\u001b[0m\u001b[0;34m=\u001b[0m\u001b[0;32mNone\u001b[0m\u001b[0;34m,\u001b[0m \u001b[0mname_q\u001b[0m\u001b[0;34m=\u001b[0m\u001b[0;32mNone\u001b[0m\u001b[0;34m,\u001b[0m \u001b[0mname_w\u001b[0m\u001b[0;34m=\u001b[0m\u001b[0;32mNone\u001b[0m\u001b[0;34m,\u001b[0m \u001b[0mname_ds\u001b[0m\u001b[0;34m=\u001b[0m\u001b[0;32mNone\u001b[0m\u001b[0;34m)\u001b[0m\u001b[0;34m\u001b[0m\u001b[0m\n",
       "\u001b[0;31mDocstring:\u001b[0m     \n",
       "GMM method for a spatial lag and error model with endogenous variables,\n",
       "with results and diagnostics; based on Kelejian and Prucha (1998,\n",
       "1999) [Kelejian1998]_ [Kelejian1999]_.\n",
       "\n",
       "Parameters\n",
       "----------\n",
       "y            : array\n",
       "               nx1 array for dependent variable\n",
       "x            : array\n",
       "               Two dimensional array with n rows and one column for each\n",
       "               independent (exogenous) variable, excluding the constant\n",
       "yend         : array\n",
       "               Two dimensional array with n rows and one column for each\n",
       "               endogenous variable\n",
       "q            : array\n",
       "               Two dimensional array with n rows and one column for each\n",
       "               external exogenous variable to use as instruments (note: \n",
       "               this should not contain any variables from x)\n",
       "w            : pysal W object\n",
       "               Spatial weights object (always needed)   \n",
       "w_lags       : integer\n",
       "               Orders of W to include as instruments for the spatially\n",
       "               lagged dependent variable. For example, w_lags=1, then\n",
       "               instruments are WX; if w_lags=2, then WX, WWX; and so on.\n",
       "lag_q        : boolean\n",
       "               If True, then include spatial lags of the additional \n",
       "               instruments (q).\n",
       "vm           : boolean\n",
       "               If True, include variance-covariance matrix in summary\n",
       "               results\n",
       "name_y       : string\n",
       "               Name of dependent variable for use in output\n",
       "name_x       : list of strings\n",
       "               Names of independent variables for use in output\n",
       "name_yend    : list of strings\n",
       "               Names of endogenous variables for use in output\n",
       "name_q       : list of strings\n",
       "               Names of instruments for use in output\n",
       "name_w       : string\n",
       "               Name of weights matrix for use in output\n",
       "name_ds      : string\n",
       "               Name of dataset for use in output\n",
       "\n",
       "Attributes\n",
       "----------\n",
       "summary      : string\n",
       "               Summary of regression results and diagnostics (note: use in\n",
       "               conjunction with the print command)\n",
       "betas        : array\n",
       "               kx1 array of estimated coefficients\n",
       "u            : array\n",
       "               nx1 array of residuals\n",
       "e_filtered   : array\n",
       "               nx1 array of spatially filtered residuals\n",
       "e_pred       : array\n",
       "               nx1 array of residuals (using reduced form)\n",
       "predy        : array\n",
       "               nx1 array of predicted y values\n",
       "predy_e      : array\n",
       "               nx1 array of predicted y values (using reduced form)\n",
       "n            : integer\n",
       "               Number of observations\n",
       "k            : integer\n",
       "               Number of variables for which coefficients are estimated\n",
       "               (including the constant)\n",
       "y            : array\n",
       "               nx1 array for dependent variable\n",
       "x            : array\n",
       "               Two dimensional array with n rows and one column for each\n",
       "               independent (exogenous) variable, including the constant\n",
       "yend         : array\n",
       "               Two dimensional array with n rows and one column for each\n",
       "               endogenous variable\n",
       "z            : array\n",
       "               nxk array of variables (combination of x and yend)\n",
       "mean_y       : float\n",
       "               Mean of dependent variable\n",
       "std_y        : float\n",
       "               Standard deviation of dependent variable\n",
       "vm           : array\n",
       "               Variance covariance matrix (kxk)\n",
       "pr2          : float\n",
       "               Pseudo R squared (squared correlation between y and ypred)\n",
       "pr2_e        : float\n",
       "               Pseudo R squared (squared correlation between y and ypred_e\n",
       "               (using reduced form))\n",
       "sig2         : float\n",
       "               Sigma squared used in computations (based on filtered\n",
       "               residuals)\n",
       "std_err      : array\n",
       "               1xk array of standard errors of the betas    \n",
       "z_stat       : list of tuples\n",
       "               z statistic; each tuple contains the pair (statistic,\n",
       "               p-value), where each is a float\n",
       "name_y        : string\n",
       "                Name of dependent variable for use in output\n",
       "name_x        : list of strings\n",
       "                Names of independent variables for use in output\n",
       "name_yend     : list of strings\n",
       "                Names of endogenous variables for use in output\n",
       "name_z        : list of strings\n",
       "                Names of exogenous and endogenous variables for use in \n",
       "                output\n",
       "name_q        : list of strings\n",
       "                Names of external instruments\n",
       "name_h        : list of strings\n",
       "                Names of all instruments used in ouput\n",
       "name_w        : string\n",
       "                Name of weights matrix for use in output\n",
       "name_ds       : string\n",
       "                Name of dataset for use in output\n",
       "title         : string\n",
       "                Name of the regression method used\n",
       "\n",
       "Examples\n",
       "--------\n",
       "\n",
       "We first need to import the needed modules, namely numpy to convert the\n",
       "data we read into arrays that ``spreg`` understands and ``pysal`` to\n",
       "perform all the analysis.\n",
       "\n",
       ">>> import numpy as np\n",
       ">>> import pysal\n",
       "\n",
       "Open data on Columbus neighborhood crime (49 areas) using pysal.open().\n",
       "This is the DBF associated with the Columbus shapefile.  Note that\n",
       "pysal.open() also reads data in CSV format; since the actual class\n",
       "requires data to be passed in as numpy arrays, the user can read their\n",
       "data in using any method.  \n",
       "\n",
       ">>> db = pysal.open(pysal.examples.get_path(\"columbus.dbf\"),'r')\n",
       "\n",
       "Extract the CRIME column (crime rates) from the DBF file and make it the\n",
       "dependent variable for the regression. Note that PySAL requires this to be\n",
       "an numpy array of shape (n, 1) as opposed to the also common shape of (n, )\n",
       "that other packages accept.\n",
       "\n",
       ">>> y = np.array(db.by_col(\"CRIME\"))\n",
       ">>> y = np.reshape(y, (49,1))\n",
       "\n",
       "Extract INC (income) vector from the DBF to be used as\n",
       "independent variables in the regression.  Note that PySAL requires this to\n",
       "be an nxj numpy array, where j is the number of independent variables (not\n",
       "including a constant). By default this model adds a vector of ones to the\n",
       "independent variables passed in.\n",
       "\n",
       ">>> X = []\n",
       ">>> X.append(db.by_col(\"INC\"))\n",
       ">>> X = np.array(X).T\n",
       "\n",
       "Since we want to run a spatial error model, we need to specify the spatial\n",
       "weights matrix that includes the spatial configuration of the observations\n",
       "into the error component of the model. To do that, we can open an already\n",
       "existing gal file or create a new one. In this case, we will create one\n",
       "from ``columbus.shp``.\n",
       "\n",
       ">>> w = pysal.rook_from_shapefile(pysal.examples.get_path(\"columbus.shp\"))\n",
       "\n",
       "Unless there is a good reason not to do it, the weights have to be\n",
       "row-standardized so every row of the matrix sums to one. Among other\n",
       "things, this allows to interpret the spatial lag of a variable as the\n",
       "average value of the neighboring observations. In PySAL, this can be\n",
       "easily performed in the following way:\n",
       "\n",
       ">>> w.transform = 'r'\n",
       "\n",
       "The Combo class runs an SARAR model, that is a spatial lag+error model.\n",
       "In this case we will run a simple version of that, where we have the\n",
       "spatial effects as well as exogenous variables. Since it is a spatial\n",
       "model, we have to pass in the weights matrix. If we want to\n",
       "have the names of the variables printed in the output summary, we will\n",
       "have to pass them in as well, although this is optional.\n",
       "\n",
       ">>> reg = GM_Combo(y, X, w=w, name_y='crime', name_x=['income'], name_ds='columbus')\n",
       "\n",
       "Once we have run the model, we can explore a little bit the output. The\n",
       "regression object we have created has many attributes so take your time to\n",
       "discover them. Note that because we are running the classical GMM error\n",
       "model from 1998/99, the spatial parameter is obtained as a point estimate, so\n",
       "although you get a value for it (there are for coefficients under\n",
       "model.betas), you cannot perform inference on it (there are only three\n",
       "values in model.se_betas). Also, this regression uses a two stage least\n",
       "squares estimation method that accounts for the endogeneity created by the\n",
       "spatial lag of the dependent variable. We can check the betas:\n",
       "\n",
       ">>> print reg.name_z\n",
       "['CONSTANT', 'income', 'W_crime', 'lambda']\n",
       ">>> print np.around(np.hstack((reg.betas[:-1],np.sqrt(reg.vm.diagonal()).reshape(3,1))),3)\n",
       "[[ 39.059  11.86 ]\n",
       " [ -1.404   0.391]\n",
       " [  0.467   0.2  ]]\n",
       "\n",
       "And lambda:\n",
       "\n",
       ">>> print 'lambda: ', np.around(reg.betas[-1], 3)\n",
       "lambda:  [-0.048]\n",
       "\n",
       "This class also allows the user to run a spatial lag+error model with the\n",
       "extra feature of including non-spatial endogenous regressors. This means\n",
       "that, in addition to the spatial lag and error, we consider some of the\n",
       "variables on the right-hand side of the equation as endogenous and we\n",
       "instrument for this. As an example, we will include HOVAL (home value) as\n",
       "endogenous and will instrument with DISCBD (distance to the CSB). We first\n",
       "need to read in the variables:\n",
       "\n",
       ">>> yd = []\n",
       ">>> yd.append(db.by_col(\"HOVAL\"))\n",
       ">>> yd = np.array(yd).T\n",
       ">>> q = []\n",
       ">>> q.append(db.by_col(\"DISCBD\"))\n",
       ">>> q = np.array(q).T\n",
       "\n",
       "And then we can run and explore the model analogously to the previous combo:\n",
       "\n",
       ">>> reg = GM_Combo(y, X, yd, q, w=w, name_x=['inc'], name_y='crime', name_yend=['hoval'], name_q=['discbd'], name_ds='columbus')\n",
       ">>> print reg.name_z\n",
       "['CONSTANT', 'inc', 'hoval', 'W_crime', 'lambda']\n",
       ">>> names = np.array(reg.name_z).reshape(5,1)\n",
       ">>> print np.hstack((names[0:4,:], np.around(np.hstack((reg.betas[:-1], np.sqrt(reg.vm.diagonal()).reshape(4,1))),4)))\n",
       "[['CONSTANT' '50.0944' '14.3593']\n",
       " ['inc' '-0.2552' '0.5667']\n",
       " ['hoval' '-0.6885' '0.3029']\n",
       " ['W_crime' '0.4375' '0.2314']]\n",
       "\n",
       ">>> print 'lambda: ', np.around(reg.betas[-1], 3)\n",
       "lambda:  [ 0.254]\n",
       "\u001b[0;31mFile:\u001b[0m           ~/anaconda3/envs/workshop18/lib/python3.6/site-packages/pysal/spreg/error_sp.py\n",
       "\u001b[0;31mType:\u001b[0m           type\n"
      ]
     },
     "metadata": {},
     "output_type": "display_data"
    }
   ],
   "source": [
    "ps.spreg.GM_Combo?"
   ]
  },
  {
   "cell_type": "code",
   "execution_count": 36,
   "metadata": {},
   "outputs": [
    {
     "name": "stdout",
     "output_type": "stream",
     "text": [
      "REGRESSION\n",
      "----------\n",
      "SUMMARY OF OUTPUT: SPATIALLY WEIGHTED TWO STAGE LEAST SQUARES\n",
      "-------------------------------------------------------------\n",
      "Data set            :      baltim\n",
      "Weights matrix      :   baltim_k4\n",
      "Dependent Variable  :       PRICE                Number of Observations:         211\n",
      "Mean dependent var  :     44.3072                Number of Variables   :          11\n",
      "S.D. dependent var  :     23.6061                Degrees of Freedom    :         200\n",
      "Pseudo R-squared    :      0.7039\n",
      "Spatial Pseudo R-squared:  0.6947\n",
      "\n",
      "------------------------------------------------------------------------------------\n",
      "            Variable     Coefficient       Std.Error     z-Statistic     Probability\n",
      "------------------------------------------------------------------------------------\n",
      "            CONSTANT       5.4950267       5.2995333       1.0368888       0.2997877\n",
      "               NROOM       0.2206931       1.0802731       0.2042938       0.8381239\n",
      "               NBATH       4.5302384       1.7005822       2.6639338       0.0077233\n",
      "               PATIO       7.8589870       2.6911555       2.9203021       0.0034969\n",
      "              FIREPL       7.0218702       2.4409304       2.8767187       0.0040183\n",
      "                  AC       6.7800327       2.3321941       2.9071478       0.0036474\n",
      "                 GAR       4.1630037       1.6997808       2.4491415       0.0143197\n",
      "                 AGE      -0.0977656       0.0486203      -2.0107994       0.0443466\n",
      "               LOTSZ       0.0666730       0.0145925       4.5689919       0.0000049\n",
      "                SQFT       0.1020738       0.1605072       0.6359457       0.5248118\n",
      "             W_PRICE       0.4869073       0.0694438       7.0115254       0.0000000\n",
      "              lambda      -0.2805231    \n",
      "------------------------------------------------------------------------------------\n",
      "Instrumented: W_PRICE\n",
      "Instruments: W_AC, W_AGE, W_FIREPL, W_GAR, W_LOTSZ, W_NBATH, W_NROOM,\n",
      "             W_PATIO, W_SQFT\n",
      "================================ END OF REPORT =====================================\n"
     ]
    }
   ],
   "source": [
    "combo1 = ps.spreg.GM_Combo(y,x,w=w,name_y=y_name,\n",
    "                       name_x=x_names,name_w=\"baltim_k4\",\n",
    "                       name_ds=\"baltim\")\n",
    "print(combo1.summary)"
   ]
  },
  {
   "cell_type": "markdown",
   "metadata": {},
   "source": [
    "## Spatial Error Model\n",
    "\n",
    "$$\\mathbf{y}= \\mathbf{X} \\beta + \\mathbf{\\mu}$$\n",
    "$$\\mathbf{\\mu} = \\lambda \\mathbf{W \\mu} + \\mathbf{\\epsilon}$$"
   ]
  },
  {
   "cell_type": "code",
   "execution_count": 37,
   "metadata": {},
   "outputs": [
    {
     "name": "stdout",
     "output_type": "stream",
     "text": [
      "REGRESSION\n",
      "----------\n",
      "SUMMARY OF OUTPUT: SPATIALLY WEIGHTED LEAST SQUARES\n",
      "---------------------------------------------------\n",
      "Data set            :      baltim\n",
      "Weights matrix      :   baltim_k4\n",
      "Dependent Variable  :       PRICE                Number of Observations:         211\n",
      "Mean dependent var  :     44.3072                Number of Variables   :          10\n",
      "S.D. dependent var  :     23.6061                Degrees of Freedom    :         201\n",
      "Pseudo R-squared    :      0.6489\n",
      "\n",
      "------------------------------------------------------------------------------------\n",
      "            Variable     Coefficient       Std.Error     z-Statistic     Probability\n",
      "------------------------------------------------------------------------------------\n",
      "            CONSTANT      21.6021078       5.0937229       4.2409271       0.0000223\n",
      "               NROOM       0.6915224       1.1606933       0.5957839       0.5513196\n",
      "               NBATH       6.0197390       1.9592452       3.0724786       0.0021229\n",
      "               PATIO       8.9062269       3.0270939       2.9421706       0.0032592\n",
      "              FIREPL      10.4192027       2.6246652       3.9697264       0.0000720\n",
      "                  AC       7.0887373       2.5963227       2.7302990       0.0063277\n",
      "                 GAR       4.6825992       1.8995474       2.4651131       0.0136970\n",
      "                 AGE      -0.1906434       0.0593705      -3.2110784       0.0013224\n",
      "               LOTSZ       0.0891338       0.0162244       5.4937985       0.0000000\n",
      "                SQFT       0.1383929       0.1836534       0.7535550       0.4511164\n",
      "              lambda       0.2004434    \n",
      "------------------------------------------------------------------------------------\n",
      "================================ END OF REPORT =====================================\n"
     ]
    }
   ],
   "source": [
    "sem = ps.spreg.GM_Error(y,x,w=w,name_y=y_name,\n",
    "                       name_x=x_names,name_w=\"baltim_k4\",\n",
    "                       name_ds=\"baltim\")\n",
    "print( sem.summary )"
   ]
  },
  {
   "cell_type": "code",
   "execution_count": null,
   "metadata": {},
   "outputs": [],
   "source": []
  },
  {
   "cell_type": "code",
   "execution_count": null,
   "metadata": {},
   "outputs": [],
   "source": []
  },
  {
   "cell_type": "markdown",
   "metadata": {},
   "source": [
    "## Practice##"
   ]
  },
  {
   "cell_type": "markdown",
   "metadata": {},
   "source": [
    "Create a regression object using the classic Harrison-Rubinfeld Boston house price data set (included as Boston.shp). Regression median house value (MEDV) on crime rate (CRIM), Charles river dummy (CHAS), nitric oxides (NOX), number of rooms (RM), age (AGE), weighted distance to five employment centers (DIS) and percent \"lower status population\" (LSTAT). A full description of the Boston data set is available on the GeoDa Center sample data set site.\n",
    "\n",
    "Use a k-nearest neighbor spatial weights (k = 4) for the spatial diagnostics.\n",
    "\n",
    "What is the most likely alternative spatial regression model, given the results of a spatial specification search.\n",
    "\n",
    "Try any other combinations of explanatory variables, spatial weights and standard error specifications."
   ]
  },
  {
   "cell_type": "code",
   "execution_count": null,
   "metadata": {},
   "outputs": [],
   "source": []
  },
  {
   "cell_type": "code",
   "execution_count": null,
   "metadata": {},
   "outputs": [],
   "source": []
  },
  {
   "cell_type": "code",
   "execution_count": null,
   "metadata": {},
   "outputs": [],
   "source": []
  },
  {
   "cell_type": "markdown",
   "metadata": {},
   "source": [
    "## Solutions"
   ]
  },
  {
   "cell_type": "code",
   "execution_count": 33,
   "metadata": {},
   "outputs": [
    {
     "data": {
      "text/plain": [
       "[u'POLY_ID',\n",
       " u'ID',\n",
       " u'TOWN',\n",
       " u'TOWNNO',\n",
       " u'TRACT',\n",
       " u'LON',\n",
       " u'LAT',\n",
       " u'x',\n",
       " u'y',\n",
       " u'MEDV',\n",
       " u'CMEDV',\n",
       " u'CRIM',\n",
       " u'ZN',\n",
       " u'INDUS',\n",
       " u'CHAS',\n",
       " u'NOX',\n",
       " u'RM',\n",
       " u'AGE',\n",
       " u'DIS',\n",
       " u'RAD',\n",
       " u'TAX',\n",
       " u'PTRATIO',\n",
       " u'B',\n",
       " u'LSTAT']"
      ]
     },
     "execution_count": 33,
     "metadata": {},
     "output_type": "execute_result"
    }
   ],
   "source": [
    "db = ps.open(\"data/Boston.dbf\",'r')\n",
    "db.header"
   ]
  },
  {
   "cell_type": "code",
   "execution_count": 34,
   "metadata": {},
   "outputs": [],
   "source": [
    "y_name = \"MEDV\"\n",
    "y = np.array([db.by_col(y_name)]).T"
   ]
  },
  {
   "cell_type": "code",
   "execution_count": 35,
   "metadata": {},
   "outputs": [],
   "source": [
    "x_names = [\"CRIM\",\"CHAS\",\"NOX\",\"RM\",\"AGE\",\"DIS\",\"LSTAT\"]\n",
    "x = np.array([db.by_col(var) for var in x_names]).T"
   ]
  },
  {
   "cell_type": "code",
   "execution_count": 36,
   "metadata": {},
   "outputs": [],
   "source": [
    "w = ps.knnW_from_shapefile('data/Boston.shp',k=4)"
   ]
  },
  {
   "cell_type": "code",
   "execution_count": 37,
   "metadata": {},
   "outputs": [],
   "source": [
    "ols1a = ps.spreg.OLS(y,x,w=w,spat_diag=True,moran=True, name_y=y_name,name_x=x_names, name_ds='Boston.shp')"
   ]
  },
  {
   "cell_type": "code",
   "execution_count": 38,
   "metadata": {},
   "outputs": [
    {
     "name": "stdout",
     "output_type": "stream",
     "text": [
      "REGRESSION\n",
      "----------\n",
      "SUMMARY OF OUTPUT: ORDINARY LEAST SQUARES\n",
      "-----------------------------------------\n",
      "Data set            :  Boston.shp\n",
      "Weights matrix      :     unknown\n",
      "Dependent Variable  :        MEDV                Number of Observations:         506\n",
      "Mean dependent var  :     22.5328                Number of Variables   :           8\n",
      "S.D. dependent var  :      9.1971                Degrees of Freedom    :         498\n",
      "R-squared           :      0.6788\n",
      "Adjusted R-squared  :      0.6743\n",
      "Sum squared residual:   13719.651                F-statistic           :    150.3613\n",
      "Sigma-square        :      27.550                Prob(F-statistic)     :  1.732e-118\n",
      "S.E. of regression  :       5.249                Log likelihood        :   -1552.895\n",
      "Sigma-square ML     :      27.114                Akaike info criterion :    3121.790\n",
      "S.E of regression ML:      5.2071                Schwarz criterion     :    3155.602\n",
      "\n",
      "------------------------------------------------------------------------------------\n",
      "            Variable     Coefficient       Std.Error     t-Statistic     Probability\n",
      "------------------------------------------------------------------------------------\n",
      "            CONSTANT      11.4725706       3.9048811       2.9380077       0.0034564\n",
      "                CRIM      -0.1074230       0.0315102      -3.4091522       0.0007045\n",
      "                CHAS       3.8639095       0.9385306       4.1169776       0.0000449\n",
      "                 NOX     -13.2572627       3.5597665      -3.7241945       0.0002183\n",
      "                  RM       4.9333429       0.4323621      11.4102121       0.0000000\n",
      "                 AGE      -0.0168636       0.0143248      -1.1772306       0.2396658\n",
      "                 DIS      -1.0649851       0.1931115      -5.5148716       0.0000001\n",
      "               LSTAT      -0.5746656       0.0547460     -10.4969367       0.0000000\n",
      "------------------------------------------------------------------------------------\n",
      "\n",
      "REGRESSION DIAGNOSTICS\n",
      "MULTICOLLINEARITY CONDITION NUMBER           47.587\n",
      "\n",
      "TEST ON NORMALITY OF ERRORS\n",
      "TEST                             DF        VALUE           PROB\n",
      "Jarque-Bera                       2         482.230           0.0000\n",
      "\n",
      "DIAGNOSTICS FOR HETEROSKEDASTICITY\n",
      "RANDOM COEFFICIENTS\n",
      "TEST                             DF        VALUE           PROB\n",
      "Breusch-Pagan test                7          97.286           0.0000\n",
      "Koenker-Bassett test              7          32.560           0.0000\n",
      "\n",
      "DIAGNOSTICS FOR SPATIAL DEPENDENCE\n",
      "TEST                           MI/DF       VALUE           PROB\n",
      "Moran's I (error)              0.4736        16.803           0.0000\n",
      "Lagrange Multiplier (lag)         1         167.220           0.0000\n",
      "Robust LM (lag)                   1           4.999           0.0254\n",
      "Lagrange Multiplier (error)       1         261.062           0.0000\n",
      "Robust LM (error)                 1          98.841           0.0000\n",
      "Lagrange Multiplier (SARMA)       2         266.061           0.0000\n",
      "\n",
      "================================ END OF REPORT =====================================\n"
     ]
    }
   ],
   "source": [
    "print(ols1a.summary)"
   ]
  },
  {
   "cell_type": "code",
   "execution_count": 39,
   "metadata": {},
   "outputs": [],
   "source": [
    "kw = ps.adaptive_kernelW_from_shapefile('data/Boston.shp',\n",
    "                                             k=12,diagonal=True)"
   ]
  },
  {
   "cell_type": "code",
   "execution_count": 40,
   "metadata": {},
   "outputs": [
    {
     "name": "stdout",
     "output_type": "stream",
     "text": [
      "REGRESSION\n",
      "----------\n",
      "SUMMARY OF OUTPUT: ORDINARY LEAST SQUARES\n",
      "-----------------------------------------\n",
      "Data set            :  Boston.shp\n",
      "Weights matrix      :     unknown\n",
      "Dependent Variable  :        MEDV                Number of Observations:         506\n",
      "Mean dependent var  :     22.5328                Number of Variables   :           8\n",
      "S.D. dependent var  :      9.1971                Degrees of Freedom    :         498\n",
      "R-squared           :      0.6788\n",
      "Adjusted R-squared  :      0.6743\n",
      "Sum squared residual:   13719.651                F-statistic           :    150.3613\n",
      "Sigma-square        :      27.550                Prob(F-statistic)     :  1.732e-118\n",
      "S.E. of regression  :       5.249                Log likelihood        :   -1552.895\n",
      "Sigma-square ML     :      27.114                Akaike info criterion :    3121.790\n",
      "S.E of regression ML:      5.2071                Schwarz criterion     :    3155.602\n",
      "\n",
      "HAC Standard Errors; Kernel Weights: Boston_tri_k12\n",
      "------------------------------------------------------------------------------------\n",
      "            Variable     Coefficient       Std.Error     t-Statistic     Probability\n",
      "------------------------------------------------------------------------------------\n",
      "            CONSTANT      11.4725706       9.1535525       1.2533462       0.2106678\n",
      "                CRIM      -0.1074230       0.0390349      -2.7519731       0.0061398\n",
      "                CHAS       3.8639095       1.4681591       2.6318056       0.0087567\n",
      "                 NOX     -13.2572627       4.9271588      -2.6906506       0.0073709\n",
      "                  RM       4.9333429       1.1433919       4.3146561       0.0000193\n",
      "                 AGE      -0.0168636       0.0214346      -0.7867480       0.4318037\n",
      "                 DIS      -1.0649851       0.2383633      -4.4679079       0.0000098\n",
      "               LSTAT      -0.5746656       0.1316164      -4.3662150       0.0000154\n",
      "------------------------------------------------------------------------------------\n",
      "\n",
      "REGRESSION DIAGNOSTICS\n",
      "MULTICOLLINEARITY CONDITION NUMBER           47.587\n",
      "\n",
      "TEST ON NORMALITY OF ERRORS\n",
      "TEST                             DF        VALUE           PROB\n",
      "Jarque-Bera                       2         482.230           0.0000\n",
      "\n",
      "DIAGNOSTICS FOR HETEROSKEDASTICITY\n",
      "RANDOM COEFFICIENTS\n",
      "TEST                             DF        VALUE           PROB\n",
      "Breusch-Pagan test                7          97.286           0.0000\n",
      "Koenker-Bassett test              7          32.560           0.0000\n",
      "\n",
      "DIAGNOSTICS FOR SPATIAL DEPENDENCE\n",
      "TEST                           MI/DF       VALUE           PROB\n",
      "Moran's I (error)              0.4736        16.803           0.0000\n",
      "Lagrange Multiplier (lag)         1         167.220           0.0000\n",
      "Robust LM (lag)                   1           4.999           0.0254\n",
      "Lagrange Multiplier (error)       1         261.062           0.0000\n",
      "Robust LM (error)                 1          98.841           0.0000\n",
      "Lagrange Multiplier (SARMA)       2         266.061           0.0000\n",
      "\n",
      "================================ END OF REPORT =====================================\n"
     ]
    }
   ],
   "source": [
    "ols6 = ps.spreg.OLS(y,x,w=w,spat_diag=True,moran=True,robust='hac',gwk=kw,\n",
    "                       name_y=y_name,name_x=x_names,\n",
    "                       name_gwk='Boston_tri_k12',name_ds='Boston.shp')\n",
    "print(ols6.summary)"
   ]
  },
  {
   "cell_type": "code",
   "execution_count": null,
   "metadata": {},
   "outputs": [],
   "source": []
  }
 ],
 "metadata": {
  "kernelspec": {
   "display_name": "Python 3",
   "language": "python",
   "name": "python3"
  },
  "language_info": {
   "codemirror_mode": {
    "name": "ipython",
    "version": 3
   },
   "file_extension": ".py",
   "mimetype": "text/x-python",
   "name": "python",
   "nbconvert_exporter": "python",
   "pygments_lexer": "ipython3",
   "version": "3.6.6"
  }
 },
 "nbformat": 4,
 "nbformat_minor": 2
}
