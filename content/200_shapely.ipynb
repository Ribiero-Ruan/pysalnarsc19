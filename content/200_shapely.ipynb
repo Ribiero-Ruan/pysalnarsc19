{
 "cells": [
  {
   "cell_type": "markdown",
   "metadata": {},
   "source": [
    "# Introduction to Shapley\n",
    "\n",
    "[Serge Rey](http://sergerey.org)\n",
    "\n",
    "We begin our series on geospatial data analysis with a look at the\n",
    "library [Shapely](https://shapely.readthedocs.io/en/latest/). Shapely\n",
    "supports the creation, manipulation, and analysis of planar geometric\n",
    "objects. Its role in the Python geospatial ecosystem is to provide\n",
    "fundamental support for vector data models, which in turn are built up\n",
    "from points, lines, and polygons.\n",
    "\n",
    "## Objectives\n",
    "\n",
    "-   Understand the purpose of Shapely\n",
    "-   Gain familiarity with core geometric types (Point, LineString,\n",
    "    Polygon, and their collection types)\n",
    "-   Explore deterministic spatial analysis and relationships\n",
    "\n",
    "## Basic Imports\n",
    "\n",
    "We will utilize a common set of imports across notebooks to facilitate\n",
    "plotting:"
   ]
  },
  {
   "cell_type": "code",
   "execution_count": 1,
   "metadata": {
    "attributes": {
     "classes": [
      "example"
     ],
     "id": ""
    }
   },
   "outputs": [],
   "source": [
    "import matplotlib\n",
    "import matplotlib.pyplot as plt\n",
    "import numpy as np\n",
    "%matplotlib inline"
   ]
  },
  {
   "cell_type": "markdown",
   "metadata": {},
   "source": [
    "Matplotlib is the workhorse of visualization in Python so we import it\n",
    "first. We also alias `matplotlib's` `pyplot` module as `plt`. `numpy` is\n",
    "the core mathematical library for Python and we alias it as `np`.\n",
    "Finally, we use the Jupyter *magic* `%matplotlib inline` to ensure that\n",
    "any plots we generate are shown within the notebook itself (i.e.,\n",
    "inline).\n",
    "\n",
    "## Basic Geometric Types\n",
    "\n",
    "### Points\n",
    "\n",
    "Our first primitive geometry type is a **Point**. We import the class\n",
    "for creating point objects from shapely\\'s `geometry` module:"
   ]
  },
  {
   "cell_type": "code",
   "execution_count": 2,
   "metadata": {
    "attributes": {
     "classes": [
      "example"
     ],
     "id": ""
    }
   },
   "outputs": [],
   "source": [
    "from shapely.geometry import Point"
   ]
  },
  {
   "cell_type": "markdown",
   "metadata": {},
   "source": [
    "With the class imported, we can instantiate two example points:"
   ]
  },
  {
   "cell_type": "code",
   "execution_count": 3,
   "metadata": {
    "attributes": {
     "classes": [
      "example"
     ],
     "id": ""
    }
   },
   "outputs": [],
   "source": [
    "p_1 = Point((2.0, 5.0))\n",
    "p_2 = Point((4.0, 7,0))"
   ]
  },
  {
   "cell_type": "markdown",
   "metadata": {},
   "source": [
    "and inspect their values:"
   ]
  },
  {
   "cell_type": "code",
   "execution_count": 4,
   "metadata": {
    "attributes": {
     "classes": [
      "example"
     ],
     "id": ""
    }
   },
   "outputs": [
    {
     "data": {
      "image/svg+xml": [
       "<svg xmlns=\"http://www.w3.org/2000/svg\" xmlns:xlink=\"http://www.w3.org/1999/xlink\" width=\"100.0\" height=\"100.0\" viewBox=\"1.0 4.0 2.0 2.0\" preserveAspectRatio=\"xMinYMin meet\"><g transform=\"matrix(1,0,0,-1,0,10.0)\"><circle cx=\"2.0\" cy=\"5.0\" r=\"0.06\" stroke=\"#555555\" stroke-width=\"0.02\" fill=\"#66cc99\" opacity=\"0.6\" /></g></svg>"
      ],
      "text/plain": [
       "<shapely.geometry.point.Point at 0x7f87b15f2d30>"
      ]
     },
     "execution_count": 4,
     "metadata": {},
     "output_type": "execute_result"
    }
   ],
   "source": [
    "p_1"
   ]
  },
  {
   "cell_type": "markdown",
   "metadata": {},
   "source": [
    "and here:"
   ]
  },
  {
   "cell_type": "code",
   "execution_count": 5,
   "metadata": {
    "attributes": {
     "classes": [
      "example"
     ],
     "id": ""
    }
   },
   "outputs": [
    {
     "data": {
      "image/svg+xml": [
       "<svg xmlns=\"http://www.w3.org/2000/svg\" xmlns:xlink=\"http://www.w3.org/1999/xlink\" width=\"100.0\" height=\"100.0\" viewBox=\"3.0 6.0 2.0 2.0\" preserveAspectRatio=\"xMinYMin meet\"><g transform=\"matrix(1,0,0,-1,0,14.0)\"><circle cx=\"4.0\" cy=\"7.0\" r=\"0.06\" stroke=\"#555555\" stroke-width=\"0.02\" fill=\"#66cc99\" opacity=\"0.6\" /></g></svg>"
      ],
      "text/plain": [
       "<shapely.geometry.point.Point at 0x7f87b15f2cf8>"
      ]
     },
     "execution_count": 5,
     "metadata": {},
     "output_type": "execute_result"
    }
   ],
   "source": [
    "p_2"
   ]
  },
  {
   "cell_type": "markdown",
   "metadata": {},
   "source": [
    "As we see, the inspection generates a plot of the point object. Shapely\n",
    "is a geometric library so this makes sense.\n",
    "\n",
    "We can introspect the point object to learn more:"
   ]
  },
  {
   "cell_type": "code",
   "execution_count": 6,
   "metadata": {
    "attributes": {
     "classes": [
      "example"
     ],
     "id": ""
    }
   },
   "outputs": [
    {
     "data": {
      "text/plain": [
       "(array('d', [2.0]), array('d', [5.0]))"
      ]
     },
     "execution_count": 6,
     "metadata": {},
     "output_type": "execute_result"
    }
   ],
   "source": [
    "p_1.xy"
   ]
  },
  {
   "cell_type": "markdown",
   "metadata": {},
   "source": [
    "and we learn that the coordinates for `p_1` are stored in an attribute\n",
    "that is of type `numpy array`.\n",
    "\n",
    "If we want to check the `type` of of Python object we do so as follows:"
   ]
  },
  {
   "cell_type": "code",
   "execution_count": 7,
   "metadata": {
    "attributes": {
     "classes": [
      "example"
     ],
     "id": ""
    }
   },
   "outputs": [
    {
     "data": {
      "text/plain": [
       "shapely.geometry.point.Point"
      ]
     },
     "execution_count": 7,
     "metadata": {},
     "output_type": "execute_result"
    }
   ],
   "source": [
    "type(p_1)"
   ]
  },
  {
   "cell_type": "markdown",
   "metadata": {},
   "source": [
    "So points are straightforward, we pass in a tuple of x,y coordinates and\n",
    "we get back a point object.\n",
    "\n",
    "While simple, they are useful in that they can do things. Things like\n",
    "measure the distance from each other:"
   ]
  },
  {
   "cell_type": "code",
   "execution_count": 8,
   "metadata": {
    "attributes": {
     "classes": [
      "example"
     ],
     "id": ""
    }
   },
   "outputs": [
    {
     "data": {
      "text/plain": [
       "2.8284271247461903"
      ]
     },
     "execution_count": 8,
     "metadata": {},
     "output_type": "execute_result"
    }
   ],
   "source": [
    "p_1.distance(p_2)"
   ]
  },
  {
   "cell_type": "markdown",
   "metadata": {},
   "source": [
    "and"
   ]
  },
  {
   "cell_type": "code",
   "execution_count": 9,
   "metadata": {
    "attributes": {
     "classes": [
      "example"
     ],
     "id": ""
    }
   },
   "outputs": [
    {
     "data": {
      "text/plain": [
       "2.8284271247461903"
      ]
     },
     "execution_count": 9,
     "metadata": {},
     "output_type": "execute_result"
    }
   ],
   "source": [
    "p_2.distance(p_1)"
   ]
  },
  {
   "cell_type": "markdown",
   "metadata": {},
   "source": [
    "Points are zero-dimensional geometric objects, meaning they do not have\n",
    "area or length.\n",
    "\n",
    "### LineStrings\n",
    "\n",
    "Our next geometric type is a `LineString`. This is a sequence of points\n",
    "connected with a segment. We import the class in the same way we did for\n",
    "our `Point` class:"
   ]
  },
  {
   "cell_type": "code",
   "execution_count": 10,
   "metadata": {
    "attributes": {
     "classes": [
      "example"
     ],
     "id": ""
    }
   },
   "outputs": [],
   "source": [
    "from shapely.geometry import LineString"
   ]
  },
  {
   "cell_type": "markdown",
   "metadata": {},
   "source": [
    "Let\\'s now reuse our two point objects as arguments to construct the\n",
    "first `LineString`:"
   ]
  },
  {
   "cell_type": "code",
   "execution_count": 11,
   "metadata": {
    "attributes": {
     "classes": [
      "example"
     ],
     "id": ""
    }
   },
   "outputs": [],
   "source": [
    "l_1 = LineString([(2.0, 5.0), (4.0,7.0)])"
   ]
  },
  {
   "cell_type": "markdown",
   "metadata": {},
   "source": [
    "and we get:"
   ]
  },
  {
   "cell_type": "code",
   "execution_count": 12,
   "metadata": {
    "attributes": {
     "classes": [
      "example"
     ],
     "id": ""
    }
   },
   "outputs": [
    {
     "data": {
      "image/svg+xml": [
       "<svg xmlns=\"http://www.w3.org/2000/svg\" xmlns:xlink=\"http://www.w3.org/1999/xlink\" width=\"100.0\" height=\"100.0\" viewBox=\"1.92 4.92 2.16 2.16\" preserveAspectRatio=\"xMinYMin meet\"><g transform=\"matrix(1,0,0,-1,0,12.0)\"><polyline fill=\"none\" stroke=\"#66cc99\" stroke-width=\"0.0432\" points=\"2.0,5.0 4.0,7.0\" opacity=\"0.8\" /></g></svg>"
      ],
      "text/plain": [
       "<shapely.geometry.linestring.LineString at 0x7f87b1608c88>"
      ]
     },
     "execution_count": 12,
     "metadata": {},
     "output_type": "execute_result"
    }
   ],
   "source": [
    "l_1 "
   ]
  },
  {
   "cell_type": "markdown",
   "metadata": {},
   "source": [
    "which plots the single segment for our `LineString` object.\n",
    "\n",
    "`LineStrings` are one-dimensional, and that dimension is *length*:"
   ]
  },
  {
   "cell_type": "code",
   "execution_count": 13,
   "metadata": {
    "attributes": {
     "classes": [
      "example"
     ],
     "id": ""
    }
   },
   "outputs": [
    {
     "data": {
      "text/plain": [
       "2.8284271247461903"
      ]
     },
     "execution_count": 13,
     "metadata": {},
     "output_type": "execute_result"
    }
   ],
   "source": [
    "l_1.length"
   ]
  },
  {
   "cell_type": "markdown",
   "metadata": {},
   "source": [
    "And, again, we can check the objects type:"
   ]
  },
  {
   "cell_type": "code",
   "execution_count": 14,
   "metadata": {
    "attributes": {
     "classes": [
      "example"
     ],
     "id": ""
    }
   },
   "outputs": [
    {
     "data": {
      "text/plain": [
       "shapely.geometry.linestring.LineString"
      ]
     },
     "execution_count": 14,
     "metadata": {},
     "output_type": "execute_result"
    }
   ],
   "source": [
    "type(l_1)"
   ]
  },
  {
   "cell_type": "markdown",
   "metadata": {},
   "source": [
    "Like, points, `LineStrings` also have a distance method:"
   ]
  },
  {
   "cell_type": "code",
   "execution_count": 15,
   "metadata": {
    "attributes": {
     "classes": [
      "example"
     ],
     "id": ""
    }
   },
   "outputs": [
    {
     "data": {
      "text/plain": [
       "0.7071067811865476"
      ]
     },
     "execution_count": 15,
     "metadata": {},
     "output_type": "execute_result"
    }
   ],
   "source": [
    "p_3 = Point(3, 5)\n",
    "l_1.distance(p_3)"
   ]
  },
  {
   "cell_type": "markdown",
   "metadata": {},
   "source": [
    "Note, this is the minimum distance between `l_1` and `p_3`:"
   ]
  },
  {
   "cell_type": "code",
   "execution_count": 16,
   "metadata": {
    "attributes": {
     "classes": [
      "example"
     ],
     "id": ""
    }
   },
   "outputs": [
    {
     "data": {
      "text/plain": [
       "True"
      ]
     },
     "execution_count": 16,
     "metadata": {},
     "output_type": "execute_result"
    }
   ],
   "source": [
    "p_3.distance(p_1) > l_1.distance(p_3) and p_3.distance(p_2) > l_1.distance(p_3)"
   ]
  },
  {
   "cell_type": "markdown",
   "metadata": {},
   "source": [
    "LineStrings can have more than a single pair of points:"
   ]
  },
  {
   "cell_type": "code",
   "execution_count": 17,
   "metadata": {
    "attributes": {
     "classes": [
      "example"
     ],
     "id": ""
    }
   },
   "outputs": [
    {
     "data": {
      "image/svg+xml": [
       "<svg xmlns=\"http://www.w3.org/2000/svg\" xmlns:xlink=\"http://www.w3.org/1999/xlink\" width=\"100.0\" height=\"100.0\" viewBox=\"1.28 0.28 19.439999999999998 9.440000000000001\" preserveAspectRatio=\"xMinYMin meet\"><g transform=\"matrix(1,0,0,-1,0,10.0)\"><polyline fill=\"none\" stroke=\"#66cc99\" stroke-width=\"0.3888\" points=\"2.0,4.0 5.0,7.0 10.0,1.0 20.0,9.0\" opacity=\"0.8\" /></g></svg>"
      ],
      "text/plain": [
       "<shapely.geometry.linestring.LineString at 0x7f87b1618438>"
      ]
     },
     "execution_count": 17,
     "metadata": {},
     "output_type": "execute_result"
    }
   ],
   "source": [
    "l_2 = LineString([(2.0, 4.0), (5.0, 7.0), (10,1), (20,9)])\n",
    "l_2"
   ]
  },
  {
   "cell_type": "markdown",
   "metadata": {},
   "source": [
    "and this is a longer object:"
   ]
  },
  {
   "cell_type": "code",
   "execution_count": 18,
   "metadata": {
    "attributes": {
     "classes": [
      "example"
     ],
     "id": ""
    }
   },
   "outputs": [
    {
     "data": {
      "text/plain": [
       "True"
      ]
     },
     "execution_count": 18,
     "metadata": {},
     "output_type": "execute_result"
    }
   ],
   "source": [
    "l_2.length > l_1.length"
   ]
  },
  {
   "cell_type": "markdown",
   "metadata": {},
   "source": [
    "A very useful construct is a *bounding rectangle* which is a rectangle\n",
    "that contains a geometric object. We can get the coordinates for the\n",
    "bounding rectangle for `l_2` as follows:"
   ]
  },
  {
   "cell_type": "code",
   "execution_count": 19,
   "metadata": {
    "attributes": {
     "classes": [
      "example"
     ],
     "id": ""
    }
   },
   "outputs": [
    {
     "data": {
      "text/plain": [
       "(2.0, 1.0, 20.0, 9.0)"
      ]
     },
     "execution_count": 19,
     "metadata": {},
     "output_type": "execute_result"
    }
   ],
   "source": [
    "l_2.bounds"
   ]
  },
  {
   "cell_type": "markdown",
   "metadata": {},
   "source": [
    "Bounding rectangles are used to filter objects when testing for\n",
    "different types of spatial relationships, such as containment,\n",
    "intersection, touching, and more. We will return to these below.\n",
    "\n",
    "### LinearRings\n",
    "\n",
    "An ordered sequence of point tuples can be used to construct a\n",
    "`LinearRing`. At first glance this seems redundant, since a `LineString`\n",
    "is an ordered sequence of point tuples. However, a `LinearRing` is\n",
    "distinct from a `LineString` in four ways:\n",
    "\n",
    "-   The sequence will be closed (i.e., the first and last point will be\n",
    "    equal)\n",
    "-   It does not cross itself\n",
    "-   It does not touch itself at a single point"
   ]
  },
  {
   "cell_type": "code",
   "execution_count": 20,
   "metadata": {},
   "outputs": [
    {
     "data": {
      "image/svg+xml": [
       "<svg xmlns=\"http://www.w3.org/2000/svg\" xmlns:xlink=\"http://www.w3.org/1999/xlink\" width=\"100.0\" height=\"100.0\" viewBox=\"1.92 4.92 2.16 2.16\" preserveAspectRatio=\"xMinYMin meet\"><g transform=\"matrix(1,0,0,-1,0,12.0)\"><polyline fill=\"none\" stroke=\"#66cc99\" stroke-width=\"0.0432\" points=\"2.0,5.0 4.0,7.0 3.0,5.0 2.0,5.0\" opacity=\"0.8\" /></g></svg>"
      ],
      "text/plain": [
       "<shapely.geometry.polygon.LinearRing at 0x7f87b1618e80>"
      ]
     },
     "execution_count": 20,
     "metadata": {},
     "output_type": "execute_result"
    }
   ],
   "source": [
    "from shapely.geometry.polygon import LinearRing\n",
    "r1 = LinearRing([(2.0, 5.0), (4.0, 7.0), (3.0, 5.0)])\n",
    "r1"
   ]
  },
  {
   "cell_type": "markdown",
   "metadata": {},
   "source": [
    "We see that the ring is closed even though the last point tuple we\n",
    "passed in was not equal to the first.\n",
    "\n",
    "Although the ring looks like a polygon (our next geometric primitive),\n",
    "it isn\\'t one as the ring has zero-area:"
   ]
  },
  {
   "cell_type": "code",
   "execution_count": 21,
   "metadata": {
    "attributes": {
     "classes": [
      "example"
     ],
     "id": ""
    }
   },
   "outputs": [
    {
     "data": {
      "text/plain": [
       "0.0"
      ]
     },
     "execution_count": 21,
     "metadata": {},
     "output_type": "execute_result"
    }
   ],
   "source": [
    "r1.area"
   ]
  },
  {
   "cell_type": "markdown",
   "metadata": {},
   "source": [
    "but it does have length:"
   ]
  },
  {
   "cell_type": "code",
   "execution_count": 22,
   "metadata": {
    "attributes": {
     "classes": [
      "example"
     ],
     "id": ""
    }
   },
   "outputs": [
    {
     "data": {
      "text/plain": [
       "6.06449510224598"
      ]
     },
     "execution_count": 22,
     "metadata": {},
     "output_type": "execute_result"
    }
   ],
   "source": [
    "r1.length"
   ]
  },
  {
   "cell_type": "markdown",
   "metadata": {},
   "source": [
    "and its coordinates can be obtained as:"
   ]
  },
  {
   "cell_type": "code",
   "execution_count": 23,
   "metadata": {
    "attributes": {
     "classes": [
      "example"
     ],
     "id": ""
    }
   },
   "outputs": [
    {
     "data": {
      "text/plain": [
       "[(2.0, 5.0), (4.0, 7.0), (3.0, 5.0), (2.0, 5.0)]"
      ]
     },
     "execution_count": 23,
     "metadata": {},
     "output_type": "execute_result"
    }
   ],
   "source": [
    "list(r1.coords)"
   ]
  },
  {
   "cell_type": "markdown",
   "metadata": {},
   "source": [
    "Again, note the additional point tuple beyond what we passed in when\n",
    "creating the ring above.\n",
    "\n",
    "### Polygons\n",
    "\n",
    "Our fourth geometry type is a **Polygon**:"
   ]
  },
  {
   "cell_type": "code",
   "execution_count": 24,
   "metadata": {
    "attributes": {
     "classes": [
      "example"
     ],
     "id": ""
    }
   },
   "outputs": [],
   "source": [
    "from shapely.geometry import Polygon"
   ]
  },
  {
   "cell_type": "markdown",
   "metadata": {},
   "source": [
    "`Polygon` takes two positional arguments, where the first is a sequence\n",
    "of ordered point tuples that define the polygon\\'s exterior ring, and\n",
    "the second is a sequence of interior rings that define holes.\n",
    "\n",
    "For example, let\\'s start with a simple polygon with a single exterior\n",
    "ring:"
   ]
  },
  {
   "cell_type": "code",
   "execution_count": 25,
   "metadata": {
    "attributes": {
     "classes": [
      "example"
     ],
     "id": ""
    }
   },
   "outputs": [
    {
     "data": {
      "image/svg+xml": [
       "<svg xmlns=\"http://www.w3.org/2000/svg\" xmlns:xlink=\"http://www.w3.org/1999/xlink\" width=\"100.0\" height=\"100.0\" viewBox=\"-0.4 -0.4 10.8 10.8\" preserveAspectRatio=\"xMinYMin meet\"><g transform=\"matrix(1,0,0,-1,0,10.0)\"><path fill-rule=\"evenodd\" fill=\"#66cc99\" stroke=\"#555555\" stroke-width=\"0.21600000000000003\" opacity=\"0.6\" d=\"M 0.0,0.0 L 10.0,0.0 L 10.0,10.0 L 0.0,10.0 L 0.0,0.0 z\" /></g></svg>"
      ],
      "text/plain": [
       "<shapely.geometry.polygon.Polygon at 0x7f87b1615828>"
      ]
     },
     "execution_count": 25,
     "metadata": {},
     "output_type": "execute_result"
    }
   ],
   "source": [
    "poly_1 = Polygon([(0, 0), (10, 0), (10, 10), (0, 10)])\n",
    "poly_1"
   ]
  },
  {
   "cell_type": "markdown",
   "metadata": {},
   "source": [
    "Like the `LinearRing` the polygon will be closed if we don\\'t do so\n",
    "explicitly. However, unlike the `LinearRing` the `Polygon` will have\n",
    "non-zero area:"
   ]
  },
  {
   "cell_type": "code",
   "execution_count": 26,
   "metadata": {
    "attributes": {
     "classes": [
      "example"
     ],
     "id": ""
    }
   },
   "outputs": [
    {
     "data": {
      "text/plain": [
       "100.0"
      ]
     },
     "execution_count": 26,
     "metadata": {},
     "output_type": "execute_result"
    }
   ],
   "source": [
    "poly_1.area"
   ]
  },
  {
   "cell_type": "markdown",
   "metadata": {},
   "source": [
    "`Polygons` have length:"
   ]
  },
  {
   "cell_type": "code",
   "execution_count": 27,
   "metadata": {
    "attributes": {
     "classes": [
      "example"
     ],
     "id": ""
    }
   },
   "outputs": [
    {
     "data": {
      "text/plain": [
       "40.0"
      ]
     },
     "execution_count": 27,
     "metadata": {},
     "output_type": "execute_result"
    }
   ],
   "source": [
    "poly_1.length"
   ]
  },
  {
   "cell_type": "markdown",
   "metadata": {},
   "source": [
    "and an exterior:"
   ]
  },
  {
   "cell_type": "code",
   "execution_count": 28,
   "metadata": {
    "attributes": {
     "classes": [
      "example"
     ],
     "id": ""
    }
   },
   "outputs": [
    {
     "data": {
      "image/svg+xml": [
       "<svg xmlns=\"http://www.w3.org/2000/svg\" xmlns:xlink=\"http://www.w3.org/1999/xlink\" width=\"100.0\" height=\"100.0\" viewBox=\"-0.4 -0.4 10.8 10.8\" preserveAspectRatio=\"xMinYMin meet\"><g transform=\"matrix(1,0,0,-1,0,10.0)\"><polyline fill=\"none\" stroke=\"#66cc99\" stroke-width=\"0.21600000000000003\" points=\"0.0,0.0 10.0,0.0 10.0,10.0 0.0,10.0 0.0,0.0\" opacity=\"0.8\" /></g></svg>"
      ],
      "text/plain": [
       "<shapely.geometry.polygon.LinearRing at 0x7f87b160d1d0>"
      ]
     },
     "execution_count": 28,
     "metadata": {},
     "output_type": "execute_result"
    }
   ],
   "source": [
    "poly_1.exterior"
   ]
  },
  {
   "cell_type": "markdown",
   "metadata": {},
   "source": [
    "which is a `LinearRing`:"
   ]
  },
  {
   "cell_type": "code",
   "execution_count": 29,
   "metadata": {
    "attributes": {
     "classes": [
      "example"
     ],
     "id": ""
    }
   },
   "outputs": [
    {
     "data": {
      "text/plain": [
       "shapely.geometry.polygon.LinearRing"
      ]
     },
     "execution_count": 29,
     "metadata": {},
     "output_type": "execute_result"
    }
   ],
   "source": [
    "type(poly_1.exterior)"
   ]
  },
  {
   "cell_type": "markdown",
   "metadata": {},
   "source": [
    "A more complex polygon is one with holes:"
   ]
  },
  {
   "cell_type": "code",
   "execution_count": 30,
   "metadata": {
    "attributes": {
     "classes": [
      "example"
     ],
     "id": ""
    }
   },
   "outputs": [
    {
     "data": {
      "image/svg+xml": [
       "<svg xmlns=\"http://www.w3.org/2000/svg\" xmlns:xlink=\"http://www.w3.org/1999/xlink\" width=\"100.0\" height=\"100.0\" viewBox=\"9.6 -0.4 10.799999999999999 10.8\" preserveAspectRatio=\"xMinYMin meet\"><g transform=\"matrix(1,0,0,-1,0,10.0)\"><path fill-rule=\"evenodd\" fill=\"#66cc99\" stroke=\"#555555\" stroke-width=\"0.21600000000000003\" opacity=\"0.6\" d=\"M 10.0,0.0 L 20.0,0.0 L 15.0,10.0 L 10.0,0.0 z M 13.0,5.0 L 14.0,7.0 L 15.0,5.0 L 13.0,5.0 z M 15.0,2.0 L 16.0,5.0 L 17.0,2.0 L 15.0,2.0 z\" /></g></svg>"
      ],
      "text/plain": [
       "<shapely.geometry.polygon.Polygon at 0x7f87b160dc50>"
      ]
     },
     "execution_count": 30,
     "metadata": {},
     "output_type": "execute_result"
    }
   ],
   "source": [
    "poly_2 = Polygon([(10, 0), (20,0), (15, 10)],\n",
    "                 [[(13, 5), (14,7), (15,5) ],\n",
    "                  [(15, 2),  (16, 5), (17, 2)]])\n",
    "poly_2"
   ]
  },
  {
   "cell_type": "markdown",
   "metadata": {},
   "source": [
    "The holes do not count toward the polygon\\'s area:"
   ]
  },
  {
   "cell_type": "code",
   "execution_count": 31,
   "metadata": {
    "attributes": {
     "classes": [
      "example"
     ],
     "id": ""
    }
   },
   "outputs": [
    {
     "data": {
      "text/plain": [
       "45.0"
      ]
     },
     "execution_count": 31,
     "metadata": {},
     "output_type": "execute_result"
    }
   ],
   "source": [
    "poly_2.area"
   ]
  },
  {
   "cell_type": "markdown",
   "metadata": {},
   "source": [
    "whereas:"
   ]
  },
  {
   "cell_type": "code",
   "execution_count": 32,
   "metadata": {
    "attributes": {
     "classes": [
      "example"
     ],
     "id": ""
    }
   },
   "outputs": [
    {
     "data": {
      "text/plain": [
       "50.0"
      ]
     },
     "execution_count": 32,
     "metadata": {},
     "output_type": "execute_result"
    }
   ],
   "source": [
    "Polygon(poly_2.exterior.coords).area"
   ]
  },
  {
   "cell_type": "markdown",
   "metadata": {},
   "source": [
    "and"
   ]
  },
  {
   "cell_type": "code",
   "execution_count": 33,
   "metadata": {
    "attributes": {
     "classes": [
      "example"
     ],
     "id": ""
    }
   },
   "outputs": [
    {
     "data": {
      "text/plain": [
       "50.0"
      ]
     },
     "execution_count": 33,
     "metadata": {},
     "output_type": "execute_result"
    }
   ],
   "source": [
    "h1, h2 = [Polygon(h) for h in list(poly_2.interiors)]\n",
    "h1.area + h2.area + poly_2.area"
   ]
  },
  {
   "cell_type": "markdown",
   "metadata": {},
   "source": [
    "## Container (Multi) Types\n",
    "\n",
    "In addition to these primitive geometric types, Shapely provides what\n",
    "are known as *collection types*. These serve two purposes. First, as we\n",
    "will see below, certain *spatial operations* can result in a collection\n",
    "of geometric objects, and thus there is a need to have a structure to\n",
    "hold these collections. Second, within GIS applications, it is sometimes\n",
    "necessary to represent a single feature as a collection of geometric\n",
    "objects. For example, think of the state of California which is composed\n",
    "of one mainland polygon and eight polygons for the Channel Islands. The\n",
    "state feature would be represented as a collection of these nine\n",
    "polygons.\n",
    "\n",
    "### MultiPoints\n",
    "\n",
    "For `Points`:"
   ]
  },
  {
   "cell_type": "code",
   "execution_count": 34,
   "metadata": {
    "attributes": {
     "classes": [
      "example"
     ],
     "id": ""
    }
   },
   "outputs": [],
   "source": [
    "from shapely.geometry import MultiPoint\n",
    "mp_1 = MultiPoint([p_1, p_2])"
   ]
  },
  {
   "cell_type": "markdown",
   "metadata": {},
   "source": [
    "MultiPoints have a number of useful attributes:"
   ]
  },
  {
   "cell_type": "code",
   "execution_count": 35,
   "metadata": {
    "attributes": {
     "classes": [
      "example"
     ],
     "id": ""
    }
   },
   "outputs": [
    {
     "data": {
      "text/plain": [
       "(2.0, 5.0, 4.0, 7.0)"
      ]
     },
     "execution_count": 35,
     "metadata": {},
     "output_type": "execute_result"
    }
   ],
   "source": [
    "mp_1.bounds"
   ]
  },
  {
   "cell_type": "markdown",
   "metadata": {},
   "source": [
    "and"
   ]
  },
  {
   "cell_type": "code",
   "execution_count": 36,
   "metadata": {
    "attributes": {
     "classes": [
      "example"
     ],
     "id": ""
    }
   },
   "outputs": [
    {
     "data": {
      "image/svg+xml": [
       "<svg xmlns=\"http://www.w3.org/2000/svg\" xmlns:xlink=\"http://www.w3.org/1999/xlink\" width=\"100.0\" height=\"100.0\" viewBox=\"1.92 4.92 2.16 2.16\" preserveAspectRatio=\"xMinYMin meet\"><g transform=\"matrix(1,0,0,-1,0,12.0)\"><path fill-rule=\"evenodd\" fill=\"#66cc99\" stroke=\"#555555\" stroke-width=\"0.0432\" opacity=\"0.6\" d=\"M 2.0,5.0 L 4.0,5.0 L 4.0,7.0 L 2.0,7.0 L 2.0,5.0 z\" /></g></svg>"
      ],
      "text/plain": [
       "<shapely.geometry.polygon.Polygon at 0x7f87b1578780>"
      ]
     },
     "execution_count": 36,
     "metadata": {},
     "output_type": "execute_result"
    }
   ],
   "source": [
    "mp_1.envelope"
   ]
  },
  {
   "cell_type": "markdown",
   "metadata": {},
   "source": [
    "Let\\'s create a new collection:"
   ]
  },
  {
   "cell_type": "code",
   "execution_count": 37,
   "metadata": {
    "attributes": {
     "classes": [
      "example"
     ],
     "id": ""
    }
   },
   "outputs": [],
   "source": [
    "mp_2 = MultiPoint([p_1, p_2, Point(-7, 2)])"
   ]
  },
  {
   "cell_type": "markdown",
   "metadata": {},
   "source": [
    "and inspect:"
   ]
  },
  {
   "cell_type": "code",
   "execution_count": 38,
   "metadata": {
    "attributes": {
     "classes": [
      "example"
     ],
     "id": ""
    }
   },
   "outputs": [
    {
     "data": {
      "text/plain": [
       "(-7.0, 2.0, 4.0, 7.0)"
      ]
     },
     "execution_count": 38,
     "metadata": {},
     "output_type": "execute_result"
    }
   ],
   "source": [
    "mp_2.bounds"
   ]
  },
  {
   "cell_type": "markdown",
   "metadata": {},
   "source": [
    "The `MultiPoint` is cleary distnct from its component `Points`"
   ]
  },
  {
   "cell_type": "code",
   "execution_count": 39,
   "metadata": {
    "attributes": {
     "classes": [
      "example"
     ],
     "id": ""
    }
   },
   "outputs": [
    {
     "data": {
      "text/plain": [
       "(2.0, 5.0, 2.0, 5.0)"
      ]
     },
     "execution_count": 39,
     "metadata": {},
     "output_type": "execute_result"
    }
   ],
   "source": [
    "p_1.bounds"
   ]
  },
  {
   "cell_type": "markdown",
   "metadata": {},
   "source": [
    "### MultiLineStrings"
   ]
  },
  {
   "cell_type": "code",
   "execution_count": 40,
   "metadata": {
    "attributes": {
     "classes": [
      "example"
     ],
     "id": ""
    }
   },
   "outputs": [
    {
     "data": {
      "image/svg+xml": [
       "<svg xmlns=\"http://www.w3.org/2000/svg\" xmlns:xlink=\"http://www.w3.org/1999/xlink\" width=\"100.0\" height=\"100.0\" viewBox=\"-0.6 -0.6 16.2 8.2\" preserveAspectRatio=\"xMinYMin meet\"><g transform=\"matrix(1,0,0,-1,0,7.0)\"><polyline fill=\"none\" stroke=\"#66cc99\" stroke-width=\"0.324\" points=\"0.0,0.0 15.0,7.0 7.0,2.0\" opacity=\"0.8\" /></g></svg>"
      ],
      "text/plain": [
       "<shapely.geometry.linestring.LineString at 0x7f87b1593898>"
      ]
     },
     "execution_count": 40,
     "metadata": {},
     "output_type": "execute_result"
    }
   ],
   "source": [
    "from shapely.geometry import MultiLineString\n",
    "\n",
    "l_2 = LineString([(0, 0), (15, 7), (7, 2)])\n",
    "l_2"
   ]
  },
  {
   "cell_type": "markdown",
   "metadata": {},
   "source": [
    "Recall our earlier `LineString`:"
   ]
  },
  {
   "cell_type": "code",
   "execution_count": 41,
   "metadata": {
    "attributes": {
     "classes": [
      "example"
     ],
     "id": ""
    }
   },
   "outputs": [
    {
     "data": {
      "image/svg+xml": [
       "<svg xmlns=\"http://www.w3.org/2000/svg\" xmlns:xlink=\"http://www.w3.org/1999/xlink\" width=\"100.0\" height=\"100.0\" viewBox=\"1.92 4.92 2.16 2.16\" preserveAspectRatio=\"xMinYMin meet\"><g transform=\"matrix(1,0,0,-1,0,12.0)\"><polyline fill=\"none\" stroke=\"#66cc99\" stroke-width=\"0.0432\" points=\"2.0,5.0 4.0,7.0\" opacity=\"0.8\" /></g></svg>"
      ],
      "text/plain": [
       "<shapely.geometry.linestring.LineString at 0x7f87b1608c88>"
      ]
     },
     "execution_count": 41,
     "metadata": {},
     "output_type": "execute_result"
    }
   ],
   "source": [
    "l_1"
   ]
  },
  {
   "cell_type": "markdown",
   "metadata": {},
   "source": [
    "and put them together into a `MultiLineString`:"
   ]
  },
  {
   "cell_type": "code",
   "execution_count": 42,
   "metadata": {
    "attributes": {
     "classes": [
      "example"
     ],
     "id": ""
    }
   },
   "outputs": [],
   "source": [
    "mls_1 = MultiLineString((l_1, l_2))"
   ]
  },
  {
   "cell_type": "markdown",
   "metadata": {},
   "source": [
    "If we want the bounding rectangle for the pair of `LineStrings` we can\n",
    "query the `MultiLineString`:"
   ]
  },
  {
   "cell_type": "code",
   "execution_count": 43,
   "metadata": {
    "attributes": {
     "classes": [
      "example"
     ],
     "id": ""
    }
   },
   "outputs": [
    {
     "data": {
      "text/plain": [
       "(0.0, 0.0, 15.0, 7.0)"
      ]
     },
     "execution_count": 43,
     "metadata": {},
     "output_type": "execute_result"
    }
   ],
   "source": [
    "mls_1.bounds"
   ]
  },
  {
   "cell_type": "markdown",
   "metadata": {},
   "source": [
    "which is different from the individual bounds:"
   ]
  },
  {
   "cell_type": "code",
   "execution_count": 44,
   "metadata": {
    "attributes": {
     "classes": [
      "example"
     ],
     "id": ""
    }
   },
   "outputs": [
    {
     "data": {
      "text/plain": [
       "(2.0, 5.0, 4.0, 7.0)"
      ]
     },
     "execution_count": 44,
     "metadata": {},
     "output_type": "execute_result"
    }
   ],
   "source": [
    "l_1.bounds"
   ]
  },
  {
   "cell_type": "markdown",
   "metadata": {},
   "source": [
    "and"
   ]
  },
  {
   "cell_type": "code",
   "execution_count": 45,
   "metadata": {
    "attributes": {
     "classes": [
      "example"
     ],
     "id": ""
    }
   },
   "outputs": [
    {
     "data": {
      "text/plain": [
       "(0.0, 0.0, 15.0, 7.0)"
      ]
     },
     "execution_count": 45,
     "metadata": {},
     "output_type": "execute_result"
    }
   ],
   "source": [
    "l_2.bounds"
   ]
  },
  {
   "cell_type": "markdown",
   "metadata": {},
   "source": [
    "### MultiPolygons"
   ]
  },
  {
   "cell_type": "code",
   "execution_count": 46,
   "metadata": {
    "attributes": {
     "classes": [
      "example"
     ],
     "id": ""
    }
   },
   "outputs": [],
   "source": [
    "from shapely.geometry import MultiPolygon"
   ]
  },
  {
   "cell_type": "markdown",
   "metadata": {},
   "source": [
    "## Spatial Relationships\n",
    "\n",
    "Shapely supports a number of natural language relationships between\n",
    "geometric objects.\n",
    "\n",
    "### Intersects"
   ]
  },
  {
   "cell_type": "code",
   "execution_count": 47,
   "metadata": {
    "attributes": {
     "classes": [
      "example"
     ],
     "id": ""
    }
   },
   "outputs": [],
   "source": [
    "l_1 = LineString( ( (10,5), (10,15) ) )\n",
    "l_2 = LineString( ( (5,8), (12, 9) ) )\n",
    "l_3 = LineString( ( (11, 15), (17, 8) ) )"
   ]
  },
  {
   "cell_type": "markdown",
   "metadata": {},
   "source": [
    "Do `l_1` and `l_2` intersect?"
   ]
  },
  {
   "cell_type": "code",
   "execution_count": 48,
   "metadata": {
    "attributes": {
     "classes": [
      "example"
     ],
     "id": ""
    }
   },
   "outputs": [
    {
     "data": {
      "text/plain": [
       "True"
      ]
     },
     "execution_count": 48,
     "metadata": {},
     "output_type": "execute_result"
    }
   ],
   "source": [
    "l_1.intersects(l_2)"
   ]
  },
  {
   "cell_type": "markdown",
   "metadata": {},
   "source": [
    "How about `l_1` and `l_3`?"
   ]
  },
  {
   "cell_type": "code",
   "execution_count": 49,
   "metadata": {
    "attributes": {
     "classes": [
      "example"
     ],
     "id": ""
    }
   },
   "outputs": [
    {
     "data": {
      "text/plain": [
       "False"
      ]
     },
     "execution_count": 49,
     "metadata": {},
     "output_type": "execute_result"
    }
   ],
   "source": [
    "l_1.intersects(l_3)"
   ]
  },
  {
   "cell_type": "markdown",
   "metadata": {},
   "source": [
    "Intersects works for different geometric types as well:"
   ]
  },
  {
   "cell_type": "code",
   "execution_count": 50,
   "metadata": {
    "attributes": {
     "classes": [
      "example"
     ],
     "id": ""
    }
   },
   "outputs": [
    {
     "data": {
      "text/plain": [
       "True"
      ]
     },
     "execution_count": 50,
     "metadata": {},
     "output_type": "execute_result"
    }
   ],
   "source": [
    "poly_1 = Polygon(((9, 6), (12, 8), (12, 1), (9, 1))) \n",
    "l_1.intersects(poly_1)"
   ]
  },
  {
   "cell_type": "markdown",
   "metadata": {},
   "source": [
    "### Contains and Within"
   ]
  },
  {
   "cell_type": "code",
   "execution_count": 51,
   "metadata": {
    "attributes": {
     "classes": [
      "example"
     ],
     "id": ""
    }
   },
   "outputs": [
    {
     "data": {
      "text/plain": [
       "True"
      ]
     },
     "execution_count": 51,
     "metadata": {},
     "output_type": "execute_result"
    }
   ],
   "source": [
    "p_1 = Point(11, 7)\n",
    "poly_1.contains(p_1)"
   ]
  },
  {
   "cell_type": "markdown",
   "metadata": {},
   "source": [
    "And from the perspective of `p_1` it is *within* `poly_1`:"
   ]
  },
  {
   "cell_type": "code",
   "execution_count": 52,
   "metadata": {
    "attributes": {
     "classes": [
      "example"
     ],
     "id": ""
    }
   },
   "outputs": [
    {
     "data": {
      "text/plain": [
       "True"
      ]
     },
     "execution_count": 52,
     "metadata": {},
     "output_type": "execute_result"
    }
   ],
   "source": [
    "p_1.within(poly_1)"
   ]
  },
  {
   "cell_type": "markdown",
   "metadata": {},
   "source": [
    "### Crosses\n",
    "\n",
    "`poly_1` crosses `l_1`"
   ]
  },
  {
   "cell_type": "code",
   "execution_count": 53,
   "metadata": {
    "attributes": {
     "classes": [
      "example"
     ],
     "id": ""
    }
   },
   "outputs": [
    {
     "data": {
      "text/plain": [
       "True"
      ]
     },
     "execution_count": 53,
     "metadata": {},
     "output_type": "execute_result"
    }
   ],
   "source": [
    "poly_1.crosses(l_1)"
   ]
  },
  {
   "cell_type": "markdown",
   "metadata": {},
   "source": [
    "because its interior intersects, but does not contain, the interior of\n",
    "`l_1`:"
   ]
  },
  {
   "cell_type": "code",
   "execution_count": 54,
   "metadata": {
    "attributes": {
     "classes": [
      "example"
     ],
     "id": ""
    }
   },
   "outputs": [
    {
     "data": {
      "text/plain": [
       "False"
      ]
     },
     "execution_count": 54,
     "metadata": {},
     "output_type": "execute_result"
    }
   ],
   "source": [
    "poly_1.contains(l_1)"
   ]
  },
  {
   "cell_type": "markdown",
   "metadata": {},
   "source": [
    "### Touches"
   ]
  },
  {
   "cell_type": "code",
   "execution_count": 55,
   "metadata": {
    "attributes": {
     "classes": [
      "example"
     ],
     "id": ""
    }
   },
   "outputs": [
    {
     "data": {
      "text/plain": [
       "True"
      ]
     },
     "execution_count": 55,
     "metadata": {},
     "output_type": "execute_result"
    }
   ],
   "source": [
    "poly_2 = Polygon([(0, 0), (0, 2), (2, 2), (2, 0) ])\n",
    "line_2 = LineString([ (0, 1), (-1, 2) ] )\n",
    "line_3 = LineString([ (2, 1), (1, 1) ] )\n",
    "line_2.touches(poly_2)"
   ]
  },
  {
   "cell_type": "markdown",
   "metadata": {},
   "source": [
    "but:"
   ]
  },
  {
   "cell_type": "code",
   "execution_count": 56,
   "metadata": {
    "attributes": {
     "classes": [
      "example"
     ],
     "id": ""
    }
   },
   "outputs": [
    {
     "data": {
      "text/plain": [
       "False"
      ]
     },
     "execution_count": 56,
     "metadata": {},
     "output_type": "execute_result"
    }
   ],
   "source": [
    "line_3.touches(poly_2)"
   ]
  },
  {
   "cell_type": "markdown",
   "metadata": {},
   "source": [
    "because:"
   ]
  },
  {
   "cell_type": "code",
   "execution_count": 57,
   "metadata": {
    "attributes": {
     "classes": [
      "example"
     ],
     "id": ""
    }
   },
   "outputs": [
    {
     "data": {
      "text/plain": [
       "True"
      ]
     },
     "execution_count": 57,
     "metadata": {},
     "output_type": "execute_result"
    }
   ],
   "source": [
    "line_3.within(poly_2)"
   ]
  },
  {
   "cell_type": "markdown",
   "metadata": {},
   "source": [
    "while"
   ]
  },
  {
   "cell_type": "code",
   "execution_count": 58,
   "metadata": {
    "attributes": {
     "classes": [
      "example"
     ],
     "id": ""
    }
   },
   "outputs": [
    {
     "data": {
      "text/plain": [
       "False"
      ]
     },
     "execution_count": 58,
     "metadata": {},
     "output_type": "execute_result"
    }
   ],
   "source": [
    "line_2.within(poly_2)"
   ]
  },
  {
   "cell_type": "markdown",
   "metadata": {},
   "source": [
    "## Spatial Operations\n",
    "\n",
    "Many times we are not only interested in testing for a geometrical\n",
    "relationship between two objects, but also in obtaining a new geometric\n",
    "object that results from that relationship. **Spatial Operations**\n",
    "accomplish this for us.\n",
    "\n",
    "### Intersections"
   ]
  },
  {
   "cell_type": "code",
   "execution_count": 59,
   "metadata": {
    "attributes": {
     "classes": [
      "example"
     ],
     "id": ""
    }
   },
   "outputs": [],
   "source": [
    "poly_1 = Point((10, 10)).buffer(6)\n",
    "poly_2 = Point((20, 10)).buffer(6)\n",
    "mp = MultiPolygon((poly_1, poly_2))"
   ]
  },
  {
   "cell_type": "markdown",
   "metadata": {},
   "source": [
    "We will import the library `decartes` to facilitate visualization of\n",
    "these operations:"
   ]
  },
  {
   "cell_type": "code",
   "execution_count": 60,
   "metadata": {
    "attributes": {
     "classes": [
      "example"
     ],
     "id": ""
    }
   },
   "outputs": [
    {
     "data": {
      "image/png": "[encoded data removed]",
      "text/plain": [
       "<Figure size 432x288 with 1 Axes>"
      ]
     },
     "metadata": {
      "needs_background": "light"
     },
     "output_type": "display_data"
    }
   ],
   "source": [
    "import descartes\n",
    "ax = plt.gca()\n",
    "ax.add_patch(descartes.PolygonPatch(poly_1, fc='b', ec='k', alpha=0.2))\n",
    "ax.add_patch(descartes.PolygonPatch(poly_2, fc='g', ec='k', alpha=0.2))\n",
    "minx, miny, maxx, maxy = mp.bounds\n",
    "ax.set_xlim(minx, maxx); ax.set_ylim(miny, maxy)\n",
    "ax.set_aspect('equal')\n",
    "plt.show()"
   ]
  },
  {
   "cell_type": "markdown",
   "metadata": {},
   "source": [
    "Testing the relationships we see:"
   ]
  },
  {
   "cell_type": "code",
   "execution_count": 61,
   "metadata": {
    "attributes": {
     "classes": [
      "example"
     ],
     "id": ""
    }
   },
   "outputs": [
    {
     "data": {
      "text/plain": [
       "True"
      ]
     },
     "execution_count": 61,
     "metadata": {},
     "output_type": "execute_result"
    }
   ],
   "source": [
    "poly_1.intersects(poly_2)"
   ]
  },
  {
   "cell_type": "markdown",
   "metadata": {},
   "source": [
    "and"
   ]
  },
  {
   "cell_type": "code",
   "execution_count": 62,
   "metadata": {
    "attributes": {
     "classes": [
      "example"
     ],
     "id": ""
    }
   },
   "outputs": [
    {
     "data": {
      "text/plain": [
       "True"
      ]
     },
     "execution_count": 62,
     "metadata": {},
     "output_type": "execute_result"
    }
   ],
   "source": [
    "poly_2.intersects(poly_1)"
   ]
  },
  {
   "cell_type": "markdown",
   "metadata": {},
   "source": [
    "Getting the object from this relationship is done as follows:"
   ]
  },
  {
   "cell_type": "code",
   "execution_count": 63,
   "metadata": {
    "attributes": {
     "classes": [
      "example"
     ],
     "id": ""
    }
   },
   "outputs": [
    {
     "data": {
      "image/svg+xml": [
       "<svg xmlns=\"http://www.w3.org/2000/svg\" xmlns:xlink=\"http://www.w3.org/1999/xlink\" width=\"100.0\" height=\"100.0\" viewBox=\"13.734818814880445 6.42005400088601 2.5303623702391107 7.15989199822798\" preserveAspectRatio=\"xMinYMin meet\"><g transform=\"matrix(1,0,0,-1,0,20.0)\"><path fill-rule=\"evenodd\" fill=\"#66cc99\" stroke=\"#555555\" stroke-width=\"0.1431978399645596\" opacity=\"0.6\" d=\"M 16.0,10.0 L 15.971108360033181,9.411897158022636 L 15.884711682419383,8.829458067903232 L 15.741642014393253,8.258291936473228 L 15.543277195067722,7.703899405809464 L 15.291527586090131,7.171619579044017 L 15.0,6.685235186005564 L 14.708472413909874,7.171619579044005 L 14.456722804932284,7.703899405809453 L 14.25835798560675,8.258291936473217 L 14.11528831758062,8.829458067903223 L 14.028891639966819,9.41189715802263 L 14.0,9.999999999999995 L 14.028891639966819,10.588102841977358 L 14.115288317580616,11.170541932096764 L 14.258357985606747,11.74170806352677 L 14.456722804932278,12.296100594190536 L 14.708472413909869,12.828380420955984 L 14.999999999999998,13.314764813994435 L 15.291527586090112,12.82838042095602 L 15.543277195067704,12.296100594190577 L 15.74164201439324,11.741708063526815 L 15.884711682419374,11.170541932096814 L 15.971108360033178,10.588102841977411 L 16.0,10.00000000000005 L 16.0,10.0 z\" /></g></svg>"
      ],
      "text/plain": [
       "<shapely.geometry.polygon.Polygon at 0x7f87b15a3550>"
      ]
     },
     "execution_count": 63,
     "metadata": {},
     "output_type": "execute_result"
    }
   ],
   "source": [
    "int_1_2 = poly_1.intersection(poly_2)\n",
    "int_1_2"
   ]
  },
  {
   "cell_type": "markdown",
   "metadata": {},
   "source": [
    "And its type is:"
   ]
  },
  {
   "cell_type": "code",
   "execution_count": 64,
   "metadata": {
    "attributes": {
     "classes": [
      "example"
     ],
     "id": ""
    }
   },
   "outputs": [
    {
     "data": {
      "text/plain": [
       "shapely.geometry.polygon.Polygon"
      ]
     },
     "execution_count": 64,
     "metadata": {},
     "output_type": "execute_result"
    }
   ],
   "source": [
    "type(int_1_2)"
   ]
  },
  {
   "cell_type": "markdown",
   "metadata": {},
   "source": [
    "### Difference\n",
    "\n",
    "Continuing on with set theoretic operations:"
   ]
  },
  {
   "cell_type": "code",
   "execution_count": 65,
   "metadata": {
    "attributes": {
     "classes": [
      "example"
     ],
     "id": ""
    }
   },
   "outputs": [
    {
     "data": {
      "image/svg+xml": [
       "<svg xmlns=\"http://www.w3.org/2000/svg\" xmlns:xlink=\"http://www.w3.org/1999/xlink\" width=\"100.0\" height=\"100.0\" viewBox=\"3.52 3.52 12.251527586090132 12.96\" preserveAspectRatio=\"xMinYMin meet\"><g transform=\"matrix(1,0,0,-1,0,20.0)\"><path fill-rule=\"evenodd\" fill=\"#66cc99\" stroke=\"#555555\" stroke-width=\"0.25920000000000004\" opacity=\"0.6\" d=\"M 15.291527586090131,7.171619579044017 L 14.988817673815273,6.66657860188239 L 14.638062720176425,6.19364029501813 L 14.24264068711929,5.757359312880719 L 13.806359704981878,5.361937279823582 L 13.333421398117618,5.011182326184732 L 12.828380420955991,4.708472413909873 L 12.296100594190545,4.456722804932282 L 11.741708063526781,4.258357985606749 L 11.170541932096778,4.115288317580619 L 10.588102841977372,4.02889163996682 L 10.000000000000009,4.0 L 9.411897158022647,4.028891639966818 L 8.829458067903241,4.115288317580616 L 8.258291936473237,4.258357985606744 L 7.703899405809473,4.456722804932275 L 7.171619579044026,4.708472413909863 L 6.666578601882397,5.011182326184722 L 6.193640295018136,5.361937279823571 L 5.757359312880722,5.757359312880707 L 5.361937279823585,6.193640295018119 L 5.011182326184734,6.666578601882378 L 4.708472413909874,7.171619579044005 L 4.456722804932283,7.703899405809453 L 4.258357985606749,8.258291936473217 L 4.115288317580619,8.829458067903223 L 4.028891639966819,9.41189715802263 L 4.0,9.999999999999995 L 4.028891639966819,10.588102841977358 L 4.115288317580616,11.170541932096764 L 4.258357985606746,11.74170806352677 L 4.456722804932278,12.296100594190536 L 4.708472413909869,12.828380420955984 L 5.011182326184727,13.333421398117611 L 5.361937279823577,13.806359704981872 L 5.757359312880714,14.242640687119284 L 6.193640295018124,14.63806272017642 L 6.6665786018823825,14.98881767381527 L 7.171619579044008,15.291527586090126 L 7.703899405809453,15.543277195067716 L 8.258291936473215,15.74164201439325 L 8.829458067903218,15.884711682419379 L 9.411897158022622,15.97110836003318 L 9.999999999999982,16.0 L 10.588102841977344,15.971108360033183 L 11.170541932096748,15.884711682419386 L 11.741708063526751,15.74164201439326 L 12.296100594190516,15.54327719506773 L 12.828380420955963,15.291527586090144 L 13.33342139811759,14.988817673815287 L 13.80635970498185,14.63806272017644 L 14.242640687119263,14.242640687119309 L 14.6380627201764,13.806359704981901 L 14.988817673815252,13.333421398117643 L 15.291527586090112,12.82838042095602 L 14.999999999999998,13.314764813994435 L 14.708472413909869,12.828380420955984 L 14.456722804932278,12.296100594190536 L 14.258357985606747,11.74170806352677 L 14.115288317580616,11.170541932096764 L 14.028891639966819,10.588102841977358 L 14.0,9.999999999999995 L 14.028891639966819,9.41189715802263 L 14.11528831758062,8.829458067903223 L 14.25835798560675,8.258291936473217 L 14.456722804932284,7.703899405809453 L 14.708472413909874,7.171619579044005 L 15.0,6.685235186005564 L 15.291527586090131,7.171619579044017 z\" /></g></svg>"
      ],
      "text/plain": [
       "<shapely.geometry.polygon.Polygon at 0x7f87b1513470>"
      ]
     },
     "execution_count": 65,
     "metadata": {},
     "output_type": "execute_result"
    }
   ],
   "source": [
    "poly_1.difference(int_1_2)"
   ]
  },
  {
   "cell_type": "markdown",
   "metadata": {},
   "source": [
    "and"
   ]
  },
  {
   "cell_type": "code",
   "execution_count": 66,
   "metadata": {
    "attributes": {
     "classes": [
      "example"
     ],
     "id": ""
    }
   },
   "outputs": [
    {
     "data": {
      "image/svg+xml": [
       "<svg xmlns=\"http://www.w3.org/2000/svg\" xmlns:xlink=\"http://www.w3.org/1999/xlink\" width=\"100.0\" height=\"100.0\" viewBox=\"3.52 3.52 11.96 12.96\" preserveAspectRatio=\"xMinYMin meet\"><g transform=\"matrix(1,0,0,-1,0,20.0)\"><path fill-rule=\"evenodd\" fill=\"#66cc99\" stroke=\"#555555\" stroke-width=\"0.25920000000000004\" opacity=\"0.6\" d=\"M 15.0,6.685235186005564 L 14.988817673815273,6.66657860188239 L 14.638062720176425,6.19364029501813 L 14.24264068711929,5.757359312880719 L 13.806359704981878,5.361937279823582 L 13.333421398117618,5.011182326184732 L 12.828380420955991,4.708472413909873 L 12.296100594190545,4.456722804932282 L 11.741708063526781,4.258357985606749 L 11.170541932096778,4.115288317580619 L 10.588102841977372,4.02889163996682 L 10.000000000000009,4.0 L 9.411897158022647,4.028891639966818 L 8.829458067903241,4.115288317580616 L 8.258291936473237,4.258357985606744 L 7.703899405809473,4.456722804932275 L 7.171619579044026,4.708472413909863 L 6.666578601882397,5.011182326184722 L 6.193640295018136,5.361937279823571 L 5.757359312880722,5.757359312880707 L 5.361937279823585,6.193640295018119 L 5.011182326184734,6.666578601882378 L 4.708472413909874,7.171619579044005 L 4.456722804932283,7.703899405809453 L 4.258357985606749,8.258291936473217 L 4.115288317580619,8.829458067903223 L 4.028891639966819,9.41189715802263 L 4.0,9.999999999999995 L 4.028891639966819,10.588102841977358 L 4.115288317580616,11.170541932096764 L 4.258357985606746,11.74170806352677 L 4.456722804932278,12.296100594190536 L 4.708472413909869,12.828380420955984 L 5.011182326184727,13.333421398117611 L 5.361937279823577,13.806359704981872 L 5.757359312880714,14.242640687119284 L 6.193640295018124,14.63806272017642 L 6.6665786018823825,14.98881767381527 L 7.171619579044008,15.291527586090126 L 7.703899405809453,15.543277195067716 L 8.258291936473215,15.74164201439325 L 8.829458067903218,15.884711682419379 L 9.411897158022622,15.97110836003318 L 9.999999999999982,16.0 L 10.588102841977344,15.971108360033183 L 11.170541932096748,15.884711682419386 L 11.741708063526751,15.74164201439326 L 12.296100594190516,15.54327719506773 L 12.828380420955963,15.291527586090144 L 13.33342139811759,14.988817673815287 L 13.80635970498185,14.63806272017644 L 14.242640687119263,14.242640687119309 L 14.6380627201764,13.806359704981901 L 14.988817673815252,13.333421398117643 L 14.999999999999998,13.314764813994435 L 14.708472413909869,12.828380420955984 L 14.456722804932278,12.296100594190536 L 14.258357985606747,11.74170806352677 L 14.115288317580616,11.170541932096764 L 14.028891639966819,10.588102841977358 L 14.0,9.999999999999995 L 14.028891639966819,9.41189715802263 L 14.11528831758062,8.829458067903223 L 14.25835798560675,8.258291936473217 L 14.456722804932284,7.703899405809453 L 14.708472413909874,7.171619579044005 L 15.0,6.685235186005564 z\" /></g></svg>"
      ],
      "text/plain": [
       "<shapely.geometry.polygon.Polygon at 0x7f87b15a38d0>"
      ]
     },
     "execution_count": 66,
     "metadata": {},
     "output_type": "execute_result"
    }
   ],
   "source": [
    "poly_1.difference(poly_2)"
   ]
  },
  {
   "cell_type": "markdown",
   "metadata": {},
   "source": [
    "but"
   ]
  },
  {
   "cell_type": "code",
   "execution_count": 67,
   "metadata": {
    "attributes": {
     "classes": [
      "example"
     ],
     "id": ""
    }
   },
   "outputs": [
    {
     "data": {
      "text/plain": [
       "shapely.geometry.polygon.Polygon"
      ]
     },
     "execution_count": 67,
     "metadata": {},
     "output_type": "execute_result"
    }
   ],
   "source": [
    "type(int_1_2)"
   ]
  },
  {
   "cell_type": "markdown",
   "metadata": {},
   "source": [
    "### Union"
   ]
  },
  {
   "cell_type": "code",
   "execution_count": 68,
   "metadata": {
    "attributes": {
     "classes": [
      "example"
     ],
     "id": ""
    }
   },
   "outputs": [
    {
     "data": {
      "image/svg+xml": [
       "<svg xmlns=\"http://www.w3.org/2000/svg\" xmlns:xlink=\"http://www.w3.org/1999/xlink\" width=\"100.0\" height=\"100.0\" viewBox=\"3.12 3.12 23.759999999999998 13.759999999999998\" preserveAspectRatio=\"xMinYMin meet\"><g transform=\"matrix(1,0,0,-1,0,20.0)\"><g><path fill-rule=\"evenodd\" fill=\"#66cc99\" stroke=\"#555555\" stroke-width=\"0.47519999999999996\" opacity=\"0.6\" d=\"M 15.0,6.685235186005564 L 14.988817673815273,6.66657860188239 L 14.638062720176425,6.19364029501813 L 14.24264068711929,5.757359312880719 L 13.806359704981878,5.361937279823582 L 13.333421398117618,5.011182326184732 L 12.828380420955991,4.708472413909873 L 12.296100594190545,4.456722804932282 L 11.741708063526781,4.258357985606749 L 11.170541932096778,4.115288317580619 L 10.588102841977372,4.02889163996682 L 10.000000000000009,4.0 L 9.411897158022647,4.028891639966818 L 8.829458067903241,4.115288317580616 L 8.258291936473237,4.258357985606744 L 7.703899405809473,4.456722804932275 L 7.171619579044026,4.708472413909863 L 6.666578601882397,5.011182326184722 L 6.193640295018136,5.361937279823571 L 5.757359312880722,5.757359312880707 L 5.361937279823585,6.193640295018119 L 5.011182326184734,6.666578601882378 L 4.708472413909874,7.171619579044005 L 4.456722804932283,7.703899405809453 L 4.258357985606749,8.258291936473217 L 4.115288317580619,8.829458067903223 L 4.028891639966819,9.41189715802263 L 4.0,9.999999999999995 L 4.028891639966819,10.588102841977358 L 4.115288317580616,11.170541932096764 L 4.258357985606746,11.74170806352677 L 4.456722804932278,12.296100594190536 L 4.708472413909869,12.828380420955984 L 5.011182326184727,13.333421398117611 L 5.361937279823577,13.806359704981872 L 5.757359312880714,14.242640687119284 L 6.193640295018124,14.63806272017642 L 6.6665786018823825,14.98881767381527 L 7.171619579044008,15.291527586090126 L 7.703899405809453,15.543277195067716 L 8.258291936473215,15.74164201439325 L 8.829458067903218,15.884711682419379 L 9.411897158022622,15.97110836003318 L 9.999999999999982,16.0 L 10.588102841977344,15.971108360033183 L 11.170541932096748,15.884711682419386 L 11.741708063526751,15.74164201439326 L 12.296100594190516,15.54327719506773 L 12.828380420955963,15.291527586090144 L 13.33342139811759,14.988817673815287 L 13.80635970498185,14.63806272017644 L 14.242640687119263,14.242640687119309 L 14.6380627201764,13.806359704981901 L 14.988817673815252,13.333421398117643 L 14.999999999999998,13.314764813994435 L 14.708472413909869,12.828380420955984 L 14.456722804932278,12.296100594190536 L 14.258357985606747,11.74170806352677 L 14.115288317580616,11.170541932096764 L 14.028891639966819,10.588102841977358 L 14.0,9.999999999999995 L 14.028891639966819,9.41189715802263 L 14.11528831758062,8.829458067903223 L 14.25835798560675,8.258291936473217 L 14.456722804932284,7.703899405809453 L 14.708472413909874,7.171619579044005 L 15.0,6.685235186005564 z\" /><path fill-rule=\"evenodd\" fill=\"#66cc99\" stroke=\"#555555\" stroke-width=\"0.47519999999999996\" opacity=\"0.6\" d=\"M 26.0,10.0 L 25.97110836003318,9.411897158022636 L 25.884711682419383,8.829458067903232 L 25.741642014393253,8.258291936473228 L 25.543277195067724,7.703899405809464 L 25.291527586090133,7.171619579044017 L 24.988817673815273,6.66657860188239 L 24.638062720176425,6.19364029501813 L 24.24264068711929,5.757359312880719 L 23.80635970498188,5.361937279823582 L 23.33342139811762,5.011182326184732 L 22.82838042095599,4.708472413909873 L 22.296100594190545,4.456722804932282 L 21.741708063526783,4.258357985606749 L 21.17054193209678,4.115288317580619 L 20.588102841977374,4.02889163996682 L 20.00000000000001,4.0 L 19.411897158022647,4.028891639966818 L 18.82945806790324,4.115288317580616 L 18.25829193647324,4.258357985606744 L 17.703899405809473,4.456722804932275 L 17.171619579044027,4.708472413909863 L 16.666578601882396,5.011182326184722 L 16.193640295018135,5.361937279823571 L 15.757359312880723,5.757359312880707 L 15.361937279823586,6.193640295018119 L 15.011182326184734,6.666578601882378 L 15.0,6.685235186005564 L 15.291527586090131,7.171619579044017 L 15.543277195067722,7.703899405809464 L 15.741642014393253,8.258291936473228 L 15.884711682419383,8.829458067903232 L 15.971108360033181,9.411897158022636 L 16.0,10.0 L 16.0,10.00000000000005 L 15.971108360033178,10.588102841977411 L 15.884711682419374,11.170541932096814 L 15.74164201439324,11.741708063526815 L 15.543277195067704,12.296100594190577 L 15.291527586090112,12.82838042095602 L 14.999999999999998,13.314764813994435 L 15.011182326184727,13.333421398117611 L 15.361937279823577,13.806359704981872 L 15.757359312880714,14.242640687119284 L 16.193640295018124,14.63806272017642 L 16.66657860188238,14.98881767381527 L 17.17161957904401,15.291527586090126 L 17.70389940580945,15.543277195067716 L 18.258291936473213,15.74164201439325 L 18.829458067903218,15.884711682419379 L 19.411897158022622,15.97110836003318 L 19.999999999999982,16.0 L 20.588102841977346,15.971108360033183 L 21.17054193209675,15.884711682419386 L 21.74170806352675,15.74164201439326 L 22.296100594190516,15.54327719506773 L 22.828380420955963,15.291527586090144 L 23.33342139811759,14.988817673815287 L 23.806359704981848,14.63806272017644 L 24.242640687119263,14.242640687119309 L 24.6380627201764,13.806359704981901 L 24.98881767381525,13.333421398117643 L 25.291527586090112,12.82838042095602 L 25.543277195067702,12.296100594190577 L 25.74164201439324,11.741708063526815 L 25.884711682419372,11.170541932096814 L 25.971108360033178,10.588102841977411 L 26.0,10.00000000000005 L 26.0,10.0 z\" /></g></g></svg>"
      ],
      "text/plain": [
       "<shapely.geometry.multipolygon.MultiPolygon at 0x7f87b1598400>"
      ]
     },
     "execution_count": 68,
     "metadata": {},
     "output_type": "execute_result"
    }
   ],
   "source": [
    "u_1_2 = poly_1.union(poly_2)\n",
    "\n",
    "u_1_2\n",
    "\n",
    "d_1_2 = poly_1.difference(poly_2)\n",
    "d_2_1 = poly_2.difference(poly_1)\n",
    "\n",
    "d_1_2\n",
    "\n",
    "d_2_1\n",
    "\n",
    "d_1_2.union(d_2_1)"
   ]
  },
  {
   "cell_type": "markdown",
   "metadata": {},
   "source": [
    "### Cascaded Union\n",
    "\n",
    "Let\\'s use another special operation:"
   ]
  },
  {
   "cell_type": "code",
   "execution_count": 69,
   "metadata": {
    "attributes": {
     "classes": [
      "example"
     ],
     "id": ""
    }
   },
   "outputs": [],
   "source": [
    "from shapely.ops import cascaded_union"
   ]
  },
  {
   "cell_type": "markdown",
   "metadata": {},
   "source": [
    "Putting things back together:"
   ]
  },
  {
   "cell_type": "code",
   "execution_count": 70,
   "metadata": {
    "attributes": {
     "classes": [
      "example"
     ],
     "id": ""
    }
   },
   "outputs": [
    {
     "data": {
      "image/svg+xml": [
       "<svg xmlns=\"http://www.w3.org/2000/svg\" xmlns:xlink=\"http://www.w3.org/1999/xlink\" width=\"100.0\" height=\"100.0\" viewBox=\"3.12 3.12 23.759999999999998 13.759999999999998\" preserveAspectRatio=\"xMinYMin meet\"><g transform=\"matrix(1,0,0,-1,0,20.0)\"><path fill-rule=\"evenodd\" fill=\"#66cc99\" stroke=\"#555555\" stroke-width=\"0.47519999999999996\" opacity=\"0.6\" d=\"M 15.0,6.685235186005564 L 14.988817673815273,6.66657860188239 L 14.638062720176425,6.19364029501813 L 14.24264068711929,5.757359312880719 L 13.806359704981878,5.361937279823582 L 13.333421398117618,5.011182326184732 L 12.828380420955991,4.708472413909873 L 12.296100594190545,4.456722804932282 L 11.741708063526781,4.258357985606749 L 11.170541932096778,4.115288317580619 L 10.588102841977372,4.02889163996682 L 10.000000000000009,4.0 L 9.411897158022647,4.028891639966818 L 8.829458067903241,4.115288317580616 L 8.258291936473237,4.258357985606744 L 7.703899405809473,4.456722804932275 L 7.171619579044026,4.708472413909863 L 6.666578601882397,5.011182326184722 L 6.193640295018136,5.361937279823571 L 5.757359312880722,5.757359312880707 L 5.361937279823585,6.193640295018119 L 5.011182326184734,6.666578601882378 L 4.708472413909874,7.171619579044005 L 4.456722804932283,7.703899405809453 L 4.258357985606749,8.258291936473217 L 4.115288317580619,8.829458067903223 L 4.028891639966819,9.41189715802263 L 4.0,9.999999999999995 L 4.028891639966819,10.588102841977358 L 4.115288317580616,11.170541932096764 L 4.258357985606746,11.74170806352677 L 4.456722804932278,12.296100594190536 L 4.708472413909869,12.828380420955984 L 5.011182326184727,13.333421398117611 L 5.361937279823577,13.806359704981872 L 5.757359312880714,14.242640687119284 L 6.193640295018124,14.63806272017642 L 6.6665786018823825,14.98881767381527 L 7.171619579044008,15.291527586090126 L 7.703899405809453,15.543277195067716 L 8.258291936473215,15.74164201439325 L 8.829458067903218,15.884711682419379 L 9.411897158022622,15.97110836003318 L 9.999999999999982,16.0 L 10.588102841977344,15.971108360033183 L 11.170541932096748,15.884711682419386 L 11.741708063526751,15.74164201439326 L 12.296100594190516,15.54327719506773 L 12.828380420955963,15.291527586090144 L 13.33342139811759,14.988817673815287 L 13.80635970498185,14.63806272017644 L 14.242640687119263,14.242640687119309 L 14.6380627201764,13.806359704981901 L 14.988817673815252,13.333421398117643 L 14.999999999999998,13.314764813994435 L 15.011182326184727,13.333421398117611 L 15.361937279823577,13.806359704981872 L 15.757359312880714,14.242640687119284 L 16.193640295018124,14.63806272017642 L 16.66657860188238,14.98881767381527 L 17.17161957904401,15.291527586090126 L 17.70389940580945,15.543277195067716 L 18.258291936473213,15.74164201439325 L 18.829458067903218,15.884711682419379 L 19.411897158022622,15.97110836003318 L 19.999999999999982,16.0 L 20.588102841977346,15.971108360033183 L 21.17054193209675,15.884711682419386 L 21.74170806352675,15.74164201439326 L 22.296100594190516,15.54327719506773 L 22.828380420955963,15.291527586090144 L 23.33342139811759,14.988817673815287 L 23.806359704981848,14.63806272017644 L 24.242640687119263,14.242640687119309 L 24.6380627201764,13.806359704981901 L 24.98881767381525,13.333421398117643 L 25.291527586090112,12.82838042095602 L 25.543277195067702,12.296100594190577 L 25.74164201439324,11.741708063526815 L 25.884711682419372,11.170541932096814 L 25.971108360033178,10.588102841977411 L 26.0,10.00000000000005 L 26.0,10.0 L 25.97110836003318,9.411897158022636 L 25.884711682419383,8.829458067903232 L 25.741642014393253,8.258291936473228 L 25.543277195067724,7.703899405809464 L 25.291527586090133,7.171619579044017 L 24.988817673815273,6.66657860188239 L 24.638062720176425,6.19364029501813 L 24.24264068711929,5.757359312880719 L 23.80635970498188,5.361937279823582 L 23.33342139811762,5.011182326184732 L 22.82838042095599,4.708472413909873 L 22.296100594190545,4.456722804932282 L 21.741708063526783,4.258357985606749 L 21.17054193209678,4.115288317580619 L 20.588102841977374,4.02889163996682 L 20.00000000000001,4.0 L 19.411897158022647,4.028891639966818 L 18.82945806790324,4.115288317580616 L 18.25829193647324,4.258357985606744 L 17.703899405809473,4.456722804932275 L 17.171619579044027,4.708472413909863 L 16.666578601882396,5.011182326184722 L 16.193640295018135,5.361937279823571 L 15.757359312880723,5.757359312880707 L 15.361937279823586,6.193640295018119 L 15.011182326184734,6.666578601882378 L 15.0,6.685235186005564 z\" /></g></svg>"
      ],
      "text/plain": [
       "<shapely.geometry.polygon.Polygon at 0x7f87b1593e48>"
      ]
     },
     "execution_count": 70,
     "metadata": {},
     "output_type": "execute_result"
    }
   ],
   "source": [
    "cu = cascaded_union([d_1_2, d_2_1, int_1_2])\n",
    "cu"
   ]
  },
  {
   "cell_type": "markdown",
   "metadata": {},
   "source": [
    "Putting things partially back together:"
   ]
  },
  {
   "cell_type": "code",
   "execution_count": 71,
   "metadata": {
    "attributes": {
     "classes": [
      "example"
     ],
     "id": ""
    }
   },
   "outputs": [
    {
     "data": {
      "image/svg+xml": [
       "<svg xmlns=\"http://www.w3.org/2000/svg\" xmlns:xlink=\"http://www.w3.org/1999/xlink\" width=\"100.0\" height=\"100.0\" viewBox=\"3.12 3.12 23.759999999999998 13.759999999999998\" preserveAspectRatio=\"xMinYMin meet\"><g transform=\"matrix(1,0,0,-1,0,20.0)\"><g><path fill-rule=\"evenodd\" fill=\"#66cc99\" stroke=\"#555555\" stroke-width=\"0.47519999999999996\" opacity=\"0.6\" d=\"M 15.0,6.685235186005564 L 14.988817673815273,6.66657860188239 L 14.638062720176425,6.19364029501813 L 14.24264068711929,5.757359312880719 L 13.806359704981878,5.361937279823582 L 13.333421398117618,5.011182326184732 L 12.828380420955991,4.708472413909873 L 12.296100594190545,4.456722804932282 L 11.741708063526781,4.258357985606749 L 11.170541932096778,4.115288317580619 L 10.588102841977372,4.02889163996682 L 10.000000000000009,4.0 L 9.411897158022647,4.028891639966818 L 8.829458067903241,4.115288317580616 L 8.258291936473237,4.258357985606744 L 7.703899405809473,4.456722804932275 L 7.171619579044026,4.708472413909863 L 6.666578601882397,5.011182326184722 L 6.193640295018136,5.361937279823571 L 5.757359312880722,5.757359312880707 L 5.361937279823585,6.193640295018119 L 5.011182326184734,6.666578601882378 L 4.708472413909874,7.171619579044005 L 4.456722804932283,7.703899405809453 L 4.258357985606749,8.258291936473217 L 4.115288317580619,8.829458067903223 L 4.028891639966819,9.41189715802263 L 4.0,9.999999999999995 L 4.028891639966819,10.588102841977358 L 4.115288317580616,11.170541932096764 L 4.258357985606746,11.74170806352677 L 4.456722804932278,12.296100594190536 L 4.708472413909869,12.828380420955984 L 5.011182326184727,13.333421398117611 L 5.361937279823577,13.806359704981872 L 5.757359312880714,14.242640687119284 L 6.193640295018124,14.63806272017642 L 6.6665786018823825,14.98881767381527 L 7.171619579044008,15.291527586090126 L 7.703899405809453,15.543277195067716 L 8.258291936473215,15.74164201439325 L 8.829458067903218,15.884711682419379 L 9.411897158022622,15.97110836003318 L 9.999999999999982,16.0 L 10.588102841977344,15.971108360033183 L 11.170541932096748,15.884711682419386 L 11.741708063526751,15.74164201439326 L 12.296100594190516,15.54327719506773 L 12.828380420955963,15.291527586090144 L 13.33342139811759,14.988817673815287 L 13.80635970498185,14.63806272017644 L 14.242640687119263,14.242640687119309 L 14.6380627201764,13.806359704981901 L 14.988817673815252,13.333421398117643 L 14.999999999999998,13.314764813994435 L 14.708472413909869,12.828380420955984 L 14.456722804932278,12.296100594190536 L 14.258357985606747,11.74170806352677 L 14.115288317580616,11.170541932096764 L 14.028891639966819,10.588102841977358 L 14.0,9.999999999999995 L 14.028891639966819,9.41189715802263 L 14.11528831758062,8.829458067903223 L 14.25835798560675,8.258291936473217 L 14.456722804932284,7.703899405809453 L 14.708472413909874,7.171619579044005 L 15.0,6.685235186005564 z\" /><path fill-rule=\"evenodd\" fill=\"#66cc99\" stroke=\"#555555\" stroke-width=\"0.47519999999999996\" opacity=\"0.6\" d=\"M 26.0,10.0 L 25.97110836003318,9.411897158022636 L 25.884711682419383,8.829458067903232 L 25.741642014393253,8.258291936473228 L 25.543277195067724,7.703899405809464 L 25.291527586090133,7.171619579044017 L 24.988817673815273,6.66657860188239 L 24.638062720176425,6.19364029501813 L 24.24264068711929,5.757359312880719 L 23.80635970498188,5.361937279823582 L 23.33342139811762,5.011182326184732 L 22.82838042095599,4.708472413909873 L 22.296100594190545,4.456722804932282 L 21.741708063526783,4.258357985606749 L 21.17054193209678,4.115288317580619 L 20.588102841977374,4.02889163996682 L 20.00000000000001,4.0 L 19.411897158022647,4.028891639966818 L 18.82945806790324,4.115288317580616 L 18.25829193647324,4.258357985606744 L 17.703899405809473,4.456722804932275 L 17.171619579044027,4.708472413909863 L 16.666578601882396,5.011182326184722 L 16.193640295018135,5.361937279823571 L 15.757359312880723,5.757359312880707 L 15.361937279823586,6.193640295018119 L 15.011182326184734,6.666578601882378 L 15.0,6.685235186005564 L 15.291527586090131,7.171619579044017 L 15.543277195067722,7.703899405809464 L 15.741642014393253,8.258291936473228 L 15.884711682419383,8.829458067903232 L 15.971108360033181,9.411897158022636 L 16.0,10.0 L 16.0,10.00000000000005 L 15.971108360033178,10.588102841977411 L 15.884711682419374,11.170541932096814 L 15.74164201439324,11.741708063526815 L 15.543277195067704,12.296100594190577 L 15.291527586090112,12.82838042095602 L 14.999999999999998,13.314764813994435 L 15.011182326184727,13.333421398117611 L 15.361937279823577,13.806359704981872 L 15.757359312880714,14.242640687119284 L 16.193640295018124,14.63806272017642 L 16.66657860188238,14.98881767381527 L 17.17161957904401,15.291527586090126 L 17.70389940580945,15.543277195067716 L 18.258291936473213,15.74164201439325 L 18.829458067903218,15.884711682419379 L 19.411897158022622,15.97110836003318 L 19.999999999999982,16.0 L 20.588102841977346,15.971108360033183 L 21.17054193209675,15.884711682419386 L 21.74170806352675,15.74164201439326 L 22.296100594190516,15.54327719506773 L 22.828380420955963,15.291527586090144 L 23.33342139811759,14.988817673815287 L 23.806359704981848,14.63806272017644 L 24.242640687119263,14.242640687119309 L 24.6380627201764,13.806359704981901 L 24.98881767381525,13.333421398117643 L 25.291527586090112,12.82838042095602 L 25.543277195067702,12.296100594190577 L 25.74164201439324,11.741708063526815 L 25.884711682419372,11.170541932096814 L 25.971108360033178,10.588102841977411 L 26.0,10.00000000000005 L 26.0,10.0 z\" /></g></g></svg>"
      ],
      "text/plain": [
       "<shapely.geometry.multipolygon.MultiPolygon at 0x7f87b1593630>"
      ]
     },
     "execution_count": 71,
     "metadata": {},
     "output_type": "execute_result"
    }
   ],
   "source": [
    "d_1_2_d_2_1 = d_1_2.union(d_2_1)\n",
    "d_1_2_d_2_1"
   ]
  },
  {
   "cell_type": "markdown",
   "metadata": {},
   "source": [
    "A testing point:"
   ]
  },
  {
   "cell_type": "code",
   "execution_count": 72,
   "metadata": {
    "attributes": {
     "classes": [
      "example"
     ],
     "id": ""
    }
   },
   "outputs": [
    {
     "data": {
      "text/plain": [
       "False"
      ]
     },
     "execution_count": 72,
     "metadata": {},
     "output_type": "execute_result"
    }
   ],
   "source": [
    "p = Point(15, 10)\n",
    "d_1_2_d_2_1.contains(p)"
   ]
  },
  {
   "cell_type": "markdown",
   "metadata": {},
   "source": [
    "but:"
   ]
  },
  {
   "cell_type": "code",
   "execution_count": 73,
   "metadata": {
    "attributes": {
     "classes": [
      "example"
     ],
     "id": ""
    }
   },
   "outputs": [
    {
     "data": {
      "text/plain": [
       "True"
      ]
     },
     "execution_count": 73,
     "metadata": {},
     "output_type": "execute_result"
    }
   ],
   "source": [
    "cu.contains(p)"
   ]
  },
  {
   "cell_type": "markdown",
   "metadata": {},
   "source": [
    "### Buffers\n",
    "\n",
    "We already saw the use of the `buffer` method above in constructing\n",
    "circles, which were nothing more than a `Polygon` that results from a\n",
    "`Point` calling its `buffer` method. `buffer` is a method that all\n",
    "primitives and collection types poses.\n",
    "\n",
    "LineString:"
   ]
  },
  {
   "cell_type": "code",
   "execution_count": 74,
   "metadata": {
    "attributes": {
     "classes": [
      "example"
     ],
     "id": ""
    }
   },
   "outputs": [
    {
     "data": {
      "image/svg+xml": [
       "<svg xmlns=\"http://www.w3.org/2000/svg\" xmlns:xlink=\"http://www.w3.org/1999/xlink\" width=\"100.0\" height=\"100.0\" viewBox=\"16.640057062777405 -4.358767845204785 36.71848884721258 19.717313755194777\" preserveAspectRatio=\"xMinYMin meet\"><g transform=\"matrix(1,0,0,-1,0,10.999778064785207)\"><path fill-rule=\"evenodd\" fill=\"#66cc99\" stroke=\"#555555\" stroke-width=\"0.7343697769442517\" opacity=\"0.6\" d=\"M 29.607767729723633,8.96116135138184 L 29.831603563978224,8.992898050662694 L 30.05759107101289,8.999170645177541 L 30.28284271247462,8.979898987322333 L 37.28284271247462,7.979898987322333 L 37.481188964656255,7.94125144695195 L 37.67462289485841,7.882786219870132 L 37.86116979082311,7.805100161036412 L 38.038925248076104,7.708986345442819 L 38.20607461145327,7.595425971835689 L 38.36091150040166,7.465578345935316 L 38.50185522893578,7.320769045411897 L 38.62746694241347,7.162476387438193 L 41.87598205824747,2.6145552252705855 L 48.29668336659091,13.04819485132867 L 48.40762636357998,13.210101732101261 L 48.53390478916774,13.36035467168482 L 48.67430251308499,13.497506652134547 L 48.82746742850119,13.62023682490381 L 48.99192447355242,13.727363231337705 L 49.166089836993486,13.817854185581025 L 49.34828621116597,13.890838210277018 L 49.53675894538792,13.945612429370733 L 49.72969294419911,13.981649337189669 L 49.92523014772252,13.998601878611748 L 50.12148742579673,13.996306791395872 L 50.31657471354873,13.974786178486557 L 50.508613213751914,13.93424729515048 L 50.695753490670405,13.875080552994977 L 50.876193281136196,13.797855760090835 L 51.04819485132867,13.703316633409088 L 51.21010173210126,13.592373636420024 L 51.36035467168482,13.466095210832261 L 51.49750665213455,13.325697486915017 L 51.620236824903806,13.172532571498817 L 51.727363231337705,13.00807552644758 L 51.81785418558103,12.833910163006516 L 51.89083821027702,12.651713788834032 L 51.94561242937073,12.46324105461208 L 51.981649337189666,12.270307055800894 L 51.998601878611744,12.074769852277479 L 51.996306791395874,11.878512574203272 L 51.97478617848655,11.68342528645127 L 51.93424729515048,11.491386786248084 L 51.87508055299497,11.304246509329595 L 51.79785576009083,11.123806718863806 L 51.70331663340909,10.95180514867133 L 43.70331663340909,-2.0481948513286694 L 43.59199886560705,-2.2105947347918944 L 43.46525249250304,-2.3612623307847818 L 43.324305856532675,-2.49873746812217 L 43.17052491973399,-2.621687828246152 L 43.00540002574235,-2.7289218571807368 L 42.83053145636067,-2.8194003132888135 L 42.6476139226814,-2.8922463389181665 L 42.45842014106191,-2.9467539583287814 L 42.26478365312414,-2.9823949195451025 L 42.06858105627592,-2.998823813826541 L 41.871713816963855,-2.9958814231416695 L 41.67608984291191,-2.973596263204602 L 41.48360499293535,-2.9321843071194573 L 41.296124703524775,-2.872046892311171 L 41.11546591026331,-2.793766831027289 L 40.943379439282666,-2.698102762105224 L 40.78153303940851,-2.5859817987439007 L 40.63149521943638,-2.4584905435327746 L 40.49472004717671,-2.3168645578146334 L 40.37253305758653,-2.1624763874381934 L 35.869957372274044,4.141129571999287 L 30.056299589303688,4.971652112423624 L 20.392232270276367,3.0388386486181593 L 20.198116137299696,3.009836691087526 L 20.00209203761953,3.0000010941556496 L 19.806047790473468,3.009426579997669 L 19.61187140913021,3.0380223760324303 L 19.421432918289696,3.085513089112067 L 19.23656634472299,3.151441357708557 L 19.05905205459189,3.235172256555259 L 18.89059960754954,3.3358994113243137 L 18.732831292746432,3.4526527644522313 L 18.587266505299056,3.584307917324515 L 18.45530711368433,3.729596958848977 L 18.338223958979853,3.887120676132669 L 18.23714461596959,4.055362029666924 L 18.153042533982315,4.232700763247128 L 18.08672766204245,4.417429007925693 L 18.03883864861816,4.607767729723633 L 18.009836691087525,4.8018838627003015 L 18.00000109415565,4.997907962380464 L 18.00942657999767,5.193952209526528 L 18.03802237603243,5.388128590869789 L 18.085513089112066,5.578567081710302 L 18.151441357708556,5.763433655277006 L 18.235172256555256,5.940947945408106 L 18.33589941132431,6.109400392450455 L 18.45265276445223,6.267168707253564 L 18.584307917324512,6.412733494700942 L 18.729596958848973,6.544692886315666 L 18.887120676132664,6.6617760410201425 L 19.055362029666917,6.7628553840304075 L 19.23270076324712,6.84695746601768 L 19.417429007925683,6.91327233795755 L 19.607767729723623,6.961161351381839 L 29.607767729723633,8.96116135138184 z\" /></g></svg>"
      ],
      "text/plain": [
       "<shapely.geometry.polygon.Polygon at 0x7f87b1608e10>"
      ]
     },
     "execution_count": 74,
     "metadata": {},
     "output_type": "execute_result"
    }
   ],
   "source": [
    "l_3 = LineString([(20, 5), (30, 7), (37, 6), (42, -1), (50, 12)])\n",
    "buf_l_3 = l_3.buffer(2)\n",
    "buf_l_3"
   ]
  },
  {
   "cell_type": "markdown",
   "metadata": {},
   "source": [
    "And it is a `Polygon`"
   ]
  },
  {
   "cell_type": "code",
   "execution_count": 75,
   "metadata": {
    "attributes": {
     "classes": [
      "example"
     ],
     "id": ""
    }
   },
   "outputs": [
    {
     "data": {
      "text/plain": [
       "shapely.geometry.polygon.Polygon"
      ]
     },
     "execution_count": 75,
     "metadata": {},
     "output_type": "execute_result"
    }
   ],
   "source": [
    "type(buf_l_3)"
   ]
  },
  {
   "cell_type": "markdown",
   "metadata": {},
   "source": [
    "while the calling object was a `LineString`:"
   ]
  },
  {
   "cell_type": "code",
   "execution_count": 76,
   "metadata": {
    "attributes": {
     "classes": [
      "example"
     ],
     "id": ""
    }
   },
   "outputs": [
    {
     "data": {
      "text/plain": [
       "shapely.geometry.linestring.LineString"
      ]
     },
     "execution_count": 76,
     "metadata": {},
     "output_type": "execute_result"
    }
   ],
   "source": [
    "type(l_3)"
   ]
  },
  {
   "cell_type": "markdown",
   "metadata": {},
   "source": [
    "The relation between the buffer and the original object looks like:"
   ]
  },
  {
   "cell_type": "code",
   "execution_count": 77,
   "metadata": {
    "attributes": {
     "classes": [
      "example"
     ],
     "id": ""
    }
   },
   "outputs": [
    {
     "data": {
      "image/png": "[encoded data removed]",
      "text/plain": [
       "<Figure size 432x288 with 1 Axes>"
      ]
     },
     "metadata": {
      "needs_background": "light"
     },
     "output_type": "display_data"
    }
   ],
   "source": [
    "ax = plt.gca()\n",
    "ax.add_patch(descartes.PolygonPatch(buf_l_3, fc='b', ec='k', alpha=0.2))\n",
    "ax.add_patch(descartes.PolygonPatch(l_3.buffer(0.1)))\n",
    "minx, miny, maxx, maxy = buf_l_3.bounds\n",
    "ax.set_xlim(minx, maxx); ax.set_ylim(miny, maxy)\n",
    "ax.set_aspect('equal')\n",
    "plt.show()"
   ]
  },
  {
   "cell_type": "markdown",
   "metadata": {},
   "source": [
    "As a more complicated example consider two sections of a road network,\n",
    "the sections are `LineStrings`:"
   ]
  },
  {
   "cell_type": "code",
   "execution_count": 78,
   "metadata": {
    "attributes": {
     "classes": [
      "example"
     ],
     "id": ""
    }
   },
   "outputs": [
    {
     "data": {
      "image/svg+xml": [
       "<svg xmlns=\"http://www.w3.org/2000/svg\" xmlns:xlink=\"http://www.w3.org/1999/xlink\" width=\"100.0\" height=\"100.0\" viewBox=\"4.8 4.8 5.3999999999999995 5.3999999999999995\" preserveAspectRatio=\"xMinYMin meet\"><g transform=\"matrix(1,0,0,-1,0,15.0)\"><polyline fill=\"none\" stroke=\"#66cc99\" stroke-width=\"0.10799999999999998\" points=\"5.0,10.0 7.0,5.0 10.0,10.0\" opacity=\"0.8\" /></g></svg>"
      ],
      "text/plain": [
       "<shapely.geometry.linestring.LineString at 0x7f87b16189e8>"
      ]
     },
     "execution_count": 78,
     "metadata": {},
     "output_type": "execute_result"
    }
   ],
   "source": [
    "l_1 = LineString([(5, 10), (7, 5), (10, 10)])\n",
    "l_1"
   ]
  },
  {
   "cell_type": "markdown",
   "metadata": {},
   "source": [
    "and"
   ]
  },
  {
   "cell_type": "code",
   "execution_count": 79,
   "metadata": {
    "attributes": {
     "classes": [
      "example"
     ],
     "id": ""
    }
   },
   "outputs": [
    {
     "data": {
      "image/svg+xml": [
       "<svg xmlns=\"http://www.w3.org/2000/svg\" xmlns:xlink=\"http://www.w3.org/1999/xlink\" width=\"100.0\" height=\"100.0\" viewBox=\"4.8 -0.2 5.3999999999999995 3.4000000000000004\" preserveAspectRatio=\"xMinYMin meet\"><g transform=\"matrix(1,0,0,-1,0,3.0)\"><polyline fill=\"none\" stroke=\"#66cc99\" stroke-width=\"0.10799999999999998\" points=\"5.0,0.0 7.0,3.0 10.0,0.0\" opacity=\"0.8\" /></g></svg>"
      ],
      "text/plain": [
       "<shapely.geometry.linestring.LineString at 0x7f87b14f5da0>"
      ]
     },
     "execution_count": 79,
     "metadata": {},
     "output_type": "execute_result"
    }
   ],
   "source": [
    "l_2 = LineString([(5, 0), (7, 3), (10, 0)])\n",
    "l_2"
   ]
  },
  {
   "cell_type": "markdown",
   "metadata": {},
   "source": [
    "and they are combined into the network as a `MultiLineString`:"
   ]
  },
  {
   "cell_type": "code",
   "execution_count": 80,
   "metadata": {
    "attributes": {
     "classes": [
      "example"
     ],
     "id": ""
    }
   },
   "outputs": [],
   "source": [
    "ml = MultiLineString([l_1, l_2])"
   ]
  },
  {
   "cell_type": "markdown",
   "metadata": {},
   "source": [
    "We can buffer the `MultiLineString`, but the result will depend on the\n",
    "size of the buffer:"
   ]
  },
  {
   "cell_type": "code",
   "execution_count": 81,
   "metadata": {
    "attributes": {
     "classes": [
      "example"
     ],
     "id": ""
    }
   },
   "outputs": [
    {
     "data": {
      "image/svg+xml": [
       "<svg xmlns=\"http://www.w3.org/2000/svg\" xmlns:xlink=\"http://www.w3.org/1999/xlink\" width=\"100.0\" height=\"100.0\" viewBox=\"4.3300008800704735 -0.6699992566989827 6.339998376628509 11.339979930872536\" preserveAspectRatio=\"xMinYMin meet\"><g transform=\"matrix(1,0,0,-1,0,9.99998141747457)\"><g><path fill-rule=\"evenodd\" fill=\"#66cc99\" stroke=\"#555555\" stroke-width=\"0.22679959861745072\" opacity=\"0.6\" d=\"M 6.791987426415539,3.138675049056307 L 6.806590800623006,3.158407328101797 L 6.823059015111809,3.1766122528784377 L 6.841233284313117,3.1931142925575435 L 6.860938372977522,3.20775433542976 L 6.881984285783151,3.2203912230509353 L 6.904168099259541,3.2309031112836526 L 6.927275918363964,3.2391886451113328 L 6.951084938845027,3.245167935897428 L 6.97536559550834,3.2487833316670174 L 6.999883775670796,3.249999972983809 L 7.024403076461492,3.2488061290627996 L 7.048687084204492,3.2452133108778245 L 7.072501653905777,3.239256160173415 L 7.0956171668656935,3.2309921154511083 L 7.117810744649142,3.2205008581507446 L 7.138868398066512,3.20788354436665 L 7.1585870904450415,3.1932618295064397 L 7.1767766952966365,3.176776695296637 L 10.176776695296637,0.1767766952966369 L 10.193252613340684,0.1585983210409111 L 10.207867403075637,0.13889255825490027 L 10.22048031608709,0.11784918420649913 L 10.230969883127822,0.09567085809127218 L 10.239235083933051,0.07257116931361535 L 10.245196320100808,0.04877258050403185 L 10.24879618166805,0.024504285082389957 L 10.25,-1.6653345369377348e-16 L 10.24879618166805,-0.024504285082390286 L 10.245196320100808,-0.04877258050403217 L 10.239235083933051,-0.07257116931361567 L 10.230969883127822,-0.09567085809127249 L 10.22048031608709,-0.11784918420649944 L 10.207867403075637,-0.13889255825490054 L 10.193252613340684,-0.15859832104091134 L 10.176776695296637,-0.17677669529663684 L 10.15859832104091,-0.1932526133406842 L 10.1388925582549,-0.20786740307563625 L 10.1178491842065,-0.22048031608708868 L 10.095670858091273,-0.23096988312782163 L 10.072571169313616,-0.23923508393305215 L 10.048772580504032,-0.24519632010080755 L 10.02450428508239,-0.24879618166804918 L 10.0,-0.25 L 9.97549571491761,-0.2487961816680493 L 9.951227419495968,-0.24519632010080775 L 9.927428830686384,-0.23923508393305243 L 9.904329141908729,-0.23096988312782202 L 9.882150815793501,-0.22048031608708918 L 9.8611074417451,-0.20786740307563684 L 9.84140167895909,-0.19325261334068491 L 9.823223304703363,-0.17677669529663767 L 7.03885620753589,2.6075904018708362 L 5.208012573584461,-0.1386750490563073 L 5.193418404443471,-0.15839608840669606 L 5.1769615103344355,-0.17659168683761833 L 5.1588003801438775,-0.19308661078945874 L 5.139109915483417,-0.20772200512751837 L 5.1180797462916345,-0.22035692300380136 L 5.095912404594109,-0.23086968325221047 L 5.072821374009289,-0.23915904224469406 L 5.049029033784546,-0.24514516892273008 L 5.024764517162462,-0.24877041361405924 L 5.000261504702442,-0.2499998632305438 L 4.975755973809184,-0.2488216775002914 L 4.951483926141276,-0.24524720299594627 L 4.927679114786212,-0.2393108638609917 L 4.904570793090374,-0.2310698302864305 L 4.882381506823987,-0.2206034679305928 L 4.861324950943692,-0.20801257358446096 L 4.841603911593304,-0.19341840444347122 L 4.823408313162382,-0.17696151033443583 L 4.806913389210542,-0.1588003801438781 L 4.792277994872482,-0.13910991548341667 L 4.779643076996199,-0.11807974629163474 L 4.769130316747789,-0.09591240459410919 L 4.760840957755306,-0.07282137400928848 L 4.75485483107727,-0.04902903378454618 L 4.751229586385941,-0.024764517162462293 L 4.750000136769456,-0.00026150470244197185 L 4.751178322499708,0.024244026190816097 L 4.754752797004054,0.04851607385872355 L 4.760689136139009,0.07232088521378795 L 4.7689301697135695,0.095429206909626 L 4.779396532069407,0.11761849317601361 L 4.791987426415539,0.1386750490563073 L 6.791987426415539,3.138675049056307 z\" /><path fill-rule=\"evenodd\" fill=\"#66cc99\" stroke=\"#555555\" stroke-width=\"0.22679959861745072\" opacity=\"0.6\" d=\"M 7.044935906317129,5.560805835098989 L 9.785626768571865,10.128623938856881 L 9.799266384940031,10.14901683054258 L 9.81483917575338,10.167974608689267 L 9.832195166523428,10.185314699530016 L 9.851167209571308,10.200870108510971 L 9.871572593751296,10.214491028540195 L 9.89321480405902,10.226046282711852 L 9.915885414178383,10.235424587611528 L 9.939366093740917,10.242535625036332 L 9.963430710966591,10.24731091180858 L 9.987847510436463,10.249704459306212 L 10.012381345024059,10.249693216358384 L 10.036795940490741,10.24727729124083 L 10.060856170935791,10.242479950633106 L 10.084330323187361,10.235347395547763 L 10.106992328326994,10.22594831638932 L 10.128623938856881,10.214373231428135 L 10.14901683054258,10.200733615059969 L 10.167974608689267,10.18516082424662 L 10.185314699530016,10.167804833476572 L 10.200870108510971,10.148832790428692 L 10.214491028540195,10.128427406248704 L 10.226046282711852,10.10678519594098 L 10.235424587611528,10.084114585821618 L 10.242535625036332,10.060633906259083 L 10.24731091180858,10.03656928903341 L 10.249704459306212,10.012152489563537 L 10.249693216358384,9.987618654975941 L 10.24727729124083,9.963204059509259 L 10.242479950633108,9.93914382906421 L 10.235347395547763,9.915669676812639 L 10.22594831638932,9.893007671673006 L 10.214373231428137,9.871376061143119 L 7.214373231428136,4.871376061143119 L 7.200975359681386,4.851309365456538 L 7.185705441872496,4.832627693870997 L 7.1687057142912725,4.815505062493651 L 7.150134526066316,4.800100965277862 L 7.1301648641739455,4.786558888368294 L 7.108982742098436,4.775004973555624 L 7.086785467152893,4.76554684329049 L 7.063779802600326,4.758272598201479 L 7.0401800416943985,4.753249996455043 L 7.016206011579799,4.750525822601466 L 6.992081025645495,4.750125451785956 L 6.968029803404313,4.752052613384143 L 6.944276377274743,4.756289356263676 L 6.921042005762894,4.7627962159955 L 6.898543112482906,4.771512582457275 L 6.876989270213421,4.782357264404775 L 6.856581248768255,4.79522924575241 L 6.83750914486495,4.810008626518254 L 6.819950611411135,4.826557739668858 L 6.804069202702525,4.844722433460671 L 6.790012850946738,4.864333507333303 L 6.777912488303786,4.885208287979559 L 6.7678808272786855,4.907152330911474 L 4.7678808272786855,9.907152330911474 L 4.759897881529639,9.930351075341791 L 4.7542272504346315,9.954220576990544 L 4.75092354527099,9.978530959508452 L 4.7500185825254295,10.003048100622468 L 4.7515210774838925,10.027535886861228 L 4.755416560298581,10.051758487456867 L 4.761667515340504,10.075482625524229 L 4.770213742495486,10.098479824644793 L 4.780972936924182,10.120528609219479 L 4.79384148170267,10.14141663739974 L 4.808695445710072,10.160942746055644 L 4.825391777152992,10.17891888808678 L 4.8437696812324935,10.195171943418625 L 4.863652168685905,10.209545386243514 L 4.884847760290178,10.221900792449716 L 4.907152330911474,10.232119172721315 L 4.930351075341791,10.240102118470361 L 4.954220576990542,10.245772749565369 L 4.978530959508452,10.249076454729009 L 5.003048100622467,10.24998141747457 L 5.027535886861227,10.248478922516107 L 5.051758487456866,10.244583439701419 L 5.075482625524228,10.238332484659496 L 5.098479824644792,10.229786257504514 L 5.120528609219477,10.219027063075819 L 5.14141663739974,10.20615851829733 L 5.160942746055644,10.191304554289928 L 5.17891888808678,10.174608222847008 L 5.195171943418625,10.156230318767507 L 5.209545386243513,10.136347831314096 L 5.221900792449715,10.115152239709822 L 5.2321191727213145,10.092847669088528 L 7.044935906317129,5.560805835098989 z\" /></g></g></svg>"
      ],
      "text/plain": [
       "<shapely.geometry.multipolygon.MultiPolygon at 0x7f87b14f5cf8>"
      ]
     },
     "execution_count": 81,
     "metadata": {},
     "output_type": "execute_result"
    }
   ],
   "source": [
    "b1 = ml.buffer(0.25)\n",
    "b1"
   ]
  },
  {
   "cell_type": "markdown",
   "metadata": {},
   "source": [
    "with:"
   ]
  },
  {
   "cell_type": "code",
   "execution_count": 82,
   "metadata": {
    "attributes": {
     "classes": [
      "example"
     ],
     "id": ""
    }
   },
   "outputs": [
    {
     "data": {
      "text/plain": [
       "shapely.geometry.multipolygon.MultiPolygon"
      ]
     },
     "execution_count": 82,
     "metadata": {},
     "output_type": "execute_result"
    }
   ],
   "source": [
    "type(b1)"
   ]
  },
  {
   "cell_type": "markdown",
   "metadata": {},
   "source": [
    "If we increase the size of the buffer:"
   ]
  },
  {
   "cell_type": "code",
   "execution_count": 83,
   "metadata": {
    "attributes": {
     "classes": [
      "example"
     ],
     "id": ""
    }
   },
   "outputs": [
    {
     "data": {
      "image/svg+xml": [
       "<svg xmlns=\"http://www.w3.org/2000/svg\" xmlns:xlink=\"http://www.w3.org/1999/xlink\" width=\"100.0\" height=\"100.0\" viewBox=\"2.4400070405637875 -2.559994053591862 10.119987013028076 15.119839446980286\" preserveAspectRatio=\"xMinYMin meet\"><g transform=\"matrix(1,0,0,-1,0,9.99985133979656)\"><path fill-rule=\"evenodd\" fill=\"#66cc99\" stroke=\"#555555\" stroke-width=\"0.30239678893960575\" opacity=\"0.6\" d=\"M 5.267070195369361,4.006156568518031 L 5.2232999064302845,4.081666303836473 L 5.143046618229481,4.257218647291793 L 3.143046618229481,9.257218647291793 L 3.079183052237113,9.442808602734335 L 3.0338180034770548,9.633764615924342 L 3.007388362167924,9.828247676067624 L 3.000148660203439,10.024384804979746 L 3.0121686198711415,10.220287094889821 L 3.043332482388653,10.414067899654935 L 3.0933401227240296,10.603861004193831 L 3.161709939963885,10.787838597158338 L 3.2477834953934552,10.964228873755822 L 3.350731853621362,11.13133309919792 L 3.469563565680574,11.287541968445161 L 3.603134217223938,11.43135110469424 L 3.7501574498599464,11.561375547349005 L 3.9092173494872418,11.676363089948106 L 4.078782082321426,11.775206339597725 L 4.257218647291793,11.856953381770518 L 4.442808602734331,11.920816947762887 L 4.633764615924338,11.966181996522945 L 4.828247676067621,11.992611637832075 L 5.024384804979742,11.99985133979656 L 5.220287094889819,11.98783138012886 L 5.41406789965493,11.956667517611347 L 5.603861004193826,11.906659877275972 L 5.787838597158332,11.838290060036117 L 5.964228873755817,11.752216504606547 L 6.131333099197915,11.649268146378642 L 6.287541968445156,11.53043643431943 L 6.431351104694234,11.396865782776068 L 6.561375547349002,11.249842550140059 L 6.676363089948102,11.090782650512764 L 6.7752063395977205,10.921217917678582 L 6.8569533817705155,10.742781352708215 L 7.3594872505370335,9.486446680791921 L 8.285014148574913,11.028991510855054 L 8.394131079520246,11.192134644340642 L 8.518713406027048,11.343796869514144 L 8.65756133218743,11.48251759624013 L 8.809337676570472,11.60696086808777 L 8.972580750010373,11.715928228321555 L 9.145718432472167,11.808370261694819 L 9.327083313427064,11.88339670089222 L 9.514928749927336,11.940285000290665 L 9.707445687732726,11.978487294468636 L 9.902780083491706,11.997635674449704 L 10.09905076019247,11.99754573086708 L 10.294367523925931,11.978218329926634 L 10.486849367486327,11.939839605064853 L 10.674642585498892,11.882779164382104 L 10.855938626615954,11.807586531114568 L 11.028991510855054,11.714985851425089 L 11.19213464434064,11.605868920479756 L 11.34379686951414,11.481286593972953 L 11.482517596240127,11.342438667812573 L 11.606960868087768,11.190662323429532 L 11.715928228321554,11.02741924998963 L 11.808370261694817,10.854281567527837 L 11.883396700892218,10.672916686572941 L 11.940285000290663,10.48507125007267 L 11.978487294468636,10.29255431226728 L 11.997635674449702,10.097219916508301 L 11.99754573086708,9.900949239807534 L 11.978218329926634,9.705632476074076 L 11.939839605064854,9.51315063251368 L 11.882779164382105,9.325357414501115 L 11.807586531114572,9.144061373384055 L 11.714985851425093,8.971008489144955 L 8.768398145491146,4.060028979255045 L 11.414213562373096,1.4142135623730951 L 11.546020906725476,1.2687865683272888 L 11.662939224605092,1.1111404660392021 L 11.763842528696712,0.9427934736519931 L 11.847759065022574,0.7653668647301775 L 11.913880671464419,0.5805693545089228 L 11.96157056080646,0.3901806440322548 L 11.990369453344394,0.19603428065911965 L 12.0,-1.3322676295501878e-15 L 11.990369453344394,-0.1960342806591223 L 11.96157056080646,-0.3901806440322574 L 11.913880671464417,-0.5805693545089253 L 11.847759065022574,-0.7653668647301799 L 11.76384252869671,-0.9427934736519955 L 11.66293922460509,-1.1111404660392044 L 11.546020906725474,-1.2687865683272908 L 11.414213562373096,-1.4142135623730947 L 11.268786568327291,-1.5460209067254735 L 11.111140466039206,-1.66293922460509 L 10.942793473651996,-1.7638425286967094 L 10.765366864730181,-1.847759065022573 L 10.580569354508928,-1.9138806714644172 L 10.39018064403226,-1.9615705608064604 L 10.196034280659125,-1.9903694533443934 L 10.000000000000004,-2.0 L 9.803965719340884,-1.9903694533443943 L 9.60981935596775,-1.961570560806462 L 9.419430645491081,-1.9138806714644194 L 9.234633135269826,-1.8477590650225761 L 9.057206526348011,-1.7638425286967134 L 8.888859533960801,-1.6629392246050947 L 8.731213431672716,-1.5460209067254793 L 8.585786437626911,-1.4142135623731014 L 7.310849660287119,-0.13927678503330998 L 6.664100588675687,-1.1094003924504583 L 6.547347235547768,-1.2671687072535684 L 6.415692082675484,-1.4127334947009467 L 6.270403041151022,-1.54469288631567 L 6.112879323867331,-1.661776041020147 L 5.944637970333075,-1.7628553840304109 L 5.76729923675287,-1.8469574660176837 L 5.582570992074306,-1.9132723379575525 L 5.3922322702763665,-1.9611613513818407 L 5.198116137299698,-1.990163308912474 L 5.0020920376195335,-1.9999989058443504 L 4.806047790473471,-1.9905734200023313 L 4.61187140913021,-1.9619776239675701 L 4.421432918289697,-1.9144869108879337 L 4.236566344722992,-1.848558642291444 L 4.059052054591892,-1.7648277434447424 L 3.890599607549542,-1.6641005886756877 L 3.7328312927464338,-1.5473472355477698 L 3.5872665052990556,-1.4156920826754866 L 3.4553071136843325,-1.2704030411510248 L 3.338223958979855,-1.1128793238673333 L 3.2371446159695907,-0.944637970333078 L 3.153042533982318,-0.7672992367528735 L 3.086727662042448,-0.5825709920743078 L 3.03883864861816,-0.3922322702763694 L 3.009836691087526,-0.19811613729969835 L 3.0000010941556496,-0.002092037619535775 L 3.009426579997669,0.19395220952652878 L 3.03802237603243,0.3881285908697884 L 3.0855130891120663,0.5785670817103036 L 3.1514413577085563,0.763433655277008 L 3.2351722565552583,0.9409479454081089 L 3.335899411324313,1.1094003924504583 L 5.267070195369361,4.006156568518031 z\" /></g></svg>"
      ],
      "text/plain": [
       "<shapely.geometry.polygon.Polygon at 0x7f87b1615f28>"
      ]
     },
     "execution_count": 83,
     "metadata": {},
     "output_type": "execute_result"
    }
   ],
   "source": [
    "b2 = ml.buffer(2.0)\n",
    "b2"
   ]
  },
  {
   "cell_type": "markdown",
   "metadata": {},
   "source": [
    "we get a single `Polygon`"
   ]
  },
  {
   "cell_type": "code",
   "execution_count": 84,
   "metadata": {
    "attributes": {
     "classes": [
      "example"
     ],
     "id": ""
    }
   },
   "outputs": [
    {
     "data": {
      "text/plain": [
       "shapely.geometry.polygon.Polygon"
      ]
     },
     "execution_count": 84,
     "metadata": {},
     "output_type": "execute_result"
    }
   ],
   "source": [
    "type(b2)"
   ]
  },
  {
   "cell_type": "markdown",
   "metadata": {},
   "source": [
    "## Shapely as a Simple GIS\n",
    "\n",
    "As a precursor for the rest of this workshop series, let\\'s consider how\n",
    "Shapely might be used as a simple GIS.\n",
    "\n",
    "Consider the simple landscape below that has three census tracks (as\n",
    "`Polygons`) and a highway (a `LineString`):"
   ]
  },
  {
   "cell_type": "code",
   "execution_count": 85,
   "metadata": {
    "attributes": {
     "classes": [
      "example"
     ],
     "id": ""
    }
   },
   "outputs": [],
   "source": [
    "tract_1 = Polygon([(0, 0), (0, 10), (10, 10), (10, 0)])\n",
    "tract_2 = Polygon([(10, 0), (10, 10), (20, 10), (20, 0)])\n",
    "tract_3 = Polygon([(20, 0), (20, 10), (30, 10), (30, 0)])\n",
    "highway = LineString( [(-4, -4), (5, -4), (5, 15),\n",
    "                       (25, 15), (25, -1), (34,-1)]).buffer(0.01)"
   ]
  },
  {
   "cell_type": "markdown",
   "metadata": {},
   "source": [
    "Our urban landscape looks like:"
   ]
  },
  {
   "cell_type": "code",
   "execution_count": 86,
   "metadata": {
    "attributes": {
     "classes": [
      "example"
     ],
     "id": ""
    }
   },
   "outputs": [
    {
     "data": {
      "image/png": "[encoded data removed]",
      "text/plain": [
       "<Figure size 432x288 with 1 Axes>"
      ]
     },
     "metadata": {
      "needs_background": "light"
     },
     "output_type": "display_data"
    }
   ],
   "source": [
    "ax = plt.gca()\n",
    "ax.add_patch(descartes.PolygonPatch(tract_1, fc='b', ec='k', alpha=0.2))\n",
    "ax.add_patch(descartes.PolygonPatch(tract_2, fc='g', ec='k', alpha=0.2))\n",
    "ax.add_patch(descartes.PolygonPatch(tract_3, fc='y', ec='k', alpha=0.2))\n",
    "ax.add_patch(descartes.PolygonPatch(highway, fc='k', ec='red'))\n",
    "minx, miny, maxx, maxy = highway.bounds\n",
    "ax.set_xlim(minx, maxx); ax.set_ylim(miny-2, maxy+2)\n",
    "ax.set_aspect('equal')\n",
    "plt.show()"
   ]
  },
  {
   "cell_type": "markdown",
   "metadata": {},
   "source": [
    "We combine the three polygons inside a `MultiPolygon` object as this\n",
    "will simplify some bounds checking."
   ]
  },
  {
   "cell_type": "code",
   "execution_count": 87,
   "metadata": {
    "attributes": {
     "classes": [
      "example"
     ],
     "id": ""
    }
   },
   "outputs": [],
   "source": [
    "city = MultiPolygon([tract_1, tract_2, tract_3])"
   ]
  },
  {
   "cell_type": "markdown",
   "metadata": {},
   "source": [
    "For example, let\\'s test if the highway intersects the collection of\n",
    "tracts - think of the collection as say a city, so we are in effect\n",
    "asking if the network intersects the city:"
   ]
  },
  {
   "cell_type": "code",
   "execution_count": 88,
   "metadata": {
    "attributes": {
     "classes": [
      "example"
     ],
     "id": ""
    }
   },
   "outputs": [
    {
     "data": {
      "text/plain": [
       "True"
      ]
     },
     "execution_count": 88,
     "metadata": {},
     "output_type": "execute_result"
    }
   ],
   "source": [
    "highway.intersects(city)"
   ]
  },
  {
   "cell_type": "markdown",
   "metadata": {},
   "source": [
    "Since it does intersect the city, we might be interested in determining\n",
    "how much of the network is within the city boundaries:"
   ]
  },
  {
   "cell_type": "code",
   "execution_count": 89,
   "metadata": {
    "attributes": {
     "classes": [
      "example"
     ],
     "id": ""
    }
   },
   "outputs": [
    {
     "name": "stdout",
     "output_type": "stream",
     "text": [
      "The city contains 40.08 miles or 0.274435 of the network.\n"
     ]
    }
   ],
   "source": [
    "highway_in_city = highway.intersection(city)\n",
    "lic = highway_in_city.length\n",
    "ltot = highway.length\n",
    "print(\"The city contains %2.2f miles or %f of the network.\"%(lic, lic/ltot))"
   ]
  },
  {
   "cell_type": "markdown",
   "metadata": {},
   "source": [
    "and we can see the segments in the city:"
   ]
  },
  {
   "cell_type": "code",
   "execution_count": 90,
   "metadata": {
    "attributes": {
     "classes": [
      "example"
     ],
     "id": ""
    }
   },
   "outputs": [
    {
     "data": {
      "image/svg+xml": [
       "<svg xmlns=\"http://www.w3.org/2000/svg\" xmlns:xlink=\"http://www.w3.org/1999/xlink\" width=\"100.0\" height=\"100.0\" viewBox=\"4.1892 -0.8008000000000002 21.6216 11.601600000000001\" preserveAspectRatio=\"xMinYMin meet\"><g transform=\"matrix(1,0,0,-1,0,10.0)\"><g><path fill-rule=\"evenodd\" fill=\"#66cc99\" stroke=\"#555555\" stroke-width=\"0.43243200000000004\" opacity=\"0.6\" d=\"M 4.99,0.0 L 4.99,10.0 L 5.01,10.0 L 5.01,0.0 L 4.99,0.0 z\" /><path fill-rule=\"evenodd\" fill=\"#66cc99\" stroke=\"#555555\" stroke-width=\"0.43243200000000004\" opacity=\"0.6\" d=\"M 25.01,10.0 L 25.01,0.0 L 24.99,0.0 L 24.99,10.0 L 25.01,10.0 z\" /></g></g></svg>"
      ],
      "text/plain": [
       "<shapely.geometry.multipolygon.MultiPolygon at 0x7f87b15935c0>"
      ]
     },
     "execution_count": 90,
     "metadata": {},
     "output_type": "execute_result"
    }
   ],
   "source": [
    "highway_in_city"
   ]
  },
  {
   "cell_type": "markdown",
   "metadata": {},
   "source": [
    "We may also be interested in identifying which tracts within the city\n",
    "intersect the network:"
   ]
  },
  {
   "cell_type": "code",
   "execution_count": 91,
   "metadata": {
    "attributes": {
     "classes": [
      "example"
     ],
     "id": ""
    }
   },
   "outputs": [],
   "source": [
    "hit = [tract for tract in [tract_1, tract_2, tract_3] if highway.intersects(tract)]"
   ]
  },
  {
   "cell_type": "markdown",
   "metadata": {},
   "source": [
    "`hit` is a list of the two tracts that intersect with the network:"
   ]
  },
  {
   "cell_type": "code",
   "execution_count": 92,
   "metadata": {
    "attributes": {
     "classes": [
      "example"
     ],
     "id": ""
    }
   },
   "outputs": [
    {
     "data": {
      "text/plain": [
       "[<shapely.geometry.polygon.Polygon at 0x7f87b144cb70>,\n",
       " <shapely.geometry.polygon.Polygon at 0x7f87b144ce10>]"
      ]
     },
     "execution_count": 92,
     "metadata": {},
     "output_type": "execute_result"
    }
   ],
   "source": [
    "hit"
   ]
  },
  {
   "cell_type": "markdown",
   "metadata": {},
   "source": [
    "as can be seen below:"
   ]
  },
  {
   "cell_type": "code",
   "execution_count": 93,
   "metadata": {
    "attributes": {
     "classes": [
      "example"
     ],
     "id": ""
    }
   },
   "outputs": [
    {
     "data": {
      "image/png": "[encoded data removed]",
      "text/plain": [
       "<Figure size 432x288 with 1 Axes>"
      ]
     },
     "metadata": {
      "needs_background": "light"
     },
     "output_type": "display_data"
    }
   ],
   "source": [
    "hit.append(highway)\n",
    "ax = plt.gca()\n",
    "for feature in hit:\n",
    "    ax.add_patch(descartes.PolygonPatch(feature))\n",
    "ax.set_xlim(minx, maxx); ax.set_ylim(miny-2, maxy+2)\n",
    "ax.set_aspect('equal')\n",
    "plt.show()"
   ]
  },
  {
   "cell_type": "markdown",
   "metadata": {},
   "source": [
    "Later on, we will utilize similar functionality to add attributes to the\n",
    "tracts to distinguish those that intersect a network from tracts that do\n",
    "not intersect the network. This is known as a *spatial join* since we\n",
    "are joining information from the network to the tracts.\n",
    "\n",
    "### Using a Buffer\n",
    "\n",
    "Let\\'s make our city a little bit more interesting. Suppose a state\n",
    "government agency has discovered a toxic waste site located 1 mile south\n",
    "of the city. State regulations are such that any residents within 2\n",
    "miles of the newly discovered site have to be notified.\n",
    "\n",
    "To determine what residents need to be notified, we will first create a\n",
    "*buffer* around the hazard location, and then test for the intersection\n",
    "of the buffer with the tracts.\n",
    "\n",
    "Step 1: we create the point and its buffer:"
   ]
  },
  {
   "cell_type": "code",
   "execution_count": 94,
   "metadata": {
    "attributes": {
     "classes": [
      "example"
     ],
     "id": ""
    }
   },
   "outputs": [
    {
     "data": {
      "image/png": "[encoded data removed]",
      "text/plain": [
       "<Figure size 432x288 with 1 Axes>"
      ]
     },
     "metadata": {
      "needs_background": "light"
     },
     "output_type": "display_data"
    }
   ],
   "source": [
    "hazard_point = Point(15, -1)\n",
    "buffer = hazard_point.buffer(2)\n",
    "ax = plt.gca()\n",
    "ax.add_patch(descartes.PolygonPatch(tract_1, fc='b', ec='k', alpha=0.2))\n",
    "ax.add_patch(descartes.PolygonPatch(tract_2, fc='g', ec='k', alpha=0.2))\n",
    "ax.add_patch(descartes.PolygonPatch(tract_3, fc='y', ec='k', alpha=0.2))\n",
    "ax.add_patch(descartes.PolygonPatch(highway, fc='k', ec='red'))\n",
    "ax.add_patch(descartes.PolygonPatch(buffer, fc='r', ec='red'))\n",
    "ax.add_patch(descartes.PolygonPatch(hazard_point.buffer(0.1), fc='k', ec='k'))\n",
    "minx, miny, maxx, maxy = highway.bounds\n",
    "ax.set_xlim(minx, maxx); ax.set_ylim(miny-2, maxy+2)\n",
    "ax.set_aspect('equal')\n",
    "plt.show()"
   ]
  },
  {
   "cell_type": "markdown",
   "metadata": {},
   "source": [
    "Step 2, we find out which tracts intersect with the buffer:"
   ]
  },
  {
   "cell_type": "code",
   "execution_count": 95,
   "metadata": {
    "attributes": {
     "classes": [
      "example"
     ],
     "id": ""
    }
   },
   "outputs": [
    {
     "data": {
      "text/plain": [
       "[<shapely.geometry.polygon.Polygon at 0x7f87b144cdd8>]"
      ]
     },
     "execution_count": 95,
     "metadata": {},
     "output_type": "execute_result"
    }
   ],
   "source": [
    "to_warn = [tract for tract in [tract_1, tract_2, tract_3] if buffer.intersects(tract)]\n",
    "to_warn"
   ]
  },
  {
   "cell_type": "markdown",
   "metadata": {},
   "source": [
    "## Summary\n",
    "\n",
    "We have touched on only the more commonly encountered features of\n",
    "Shapely when dealing with geospatial data. Before moving on to other\n",
    "parts of the Python geospatial stack, it is important to note several\n",
    "things.\n",
    "\n",
    "First, shapely does not support coordinate system transformations, and\n",
    "all of its functionality assumes features exist in the same Cartesian\n",
    "plane. Second, we will see that other popular packages in the geospatial\n",
    "Python stack actually use Shapely as a dependency and they themselves\n",
    "deal with coordinate transformations. Third, we will introduce other\n",
    "Shapely operations later on in this series as we have need. Finally,\n",
    "readers are encouraged to more fully explore the [The Shapely User\n",
    "Manual](https://toblerity.org/shapely/).\n",
    "\n",
    "---\n",
    "\n",
    "<a rel=\"license\" href=\"http://creativecommons.org/licenses/by-nc-\n",
    "sa/4.0/\"><img alt=\"Creative Commons License\" style=\"border-width:0\"\n",
    "src=\"https://i.creativecommons.org/l/by-nc-sa/4.0/88x31.png\" /></a><br /><span\n",
    "xmlns:dct=\"http://purl.org/dc/terms/\" property=\"dct:title\">Introduction to Shapley</span> by <a xmlns:cc=\"http://creativecommons.org/ns#\"\n",
    "href=\"http://sergerey.org\" property=\"cc:attributionName\"\n",
    "rel=\"cc:attributionURL\">Serge Rey</a> is licensed under a <a\n",
    "rel=\"license\" href=\"http://creativecommons.org/licenses/by-nc-sa/4.0/\">Creative\n",
    "Commons Attribution-NonCommercial-ShareAlike 4.0 International License</a>."
   ]
  }
 ],
 "metadata": {
  "jupytext": {
   "formats": "ipynb,md"
  },
  "kernelspec": {
   "display_name": "Python 3",
   "language": "python",
   "name": "python3"
  },
  "language_info": {
   "codemirror_mode": {
    "name": "ipython",
    "version": 3
   },
   "file_extension": ".py",
   "mimetype": "text/x-python",
   "name": "python",
   "nbconvert_exporter": "python",
   "pygments_lexer": "ipython3",
   "version": "3.6.7"
  }
 },
 "nbformat": 4,
 "nbformat_minor": 2
}
