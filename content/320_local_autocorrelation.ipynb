{
 "cells": [
  {
   "cell_type": "markdown",
   "metadata": {},
   "source": [
    "\n",
    "## Local Autocorrelation: Hot Spots, Cold Spots, and Spatial Outliers ##\n",
    "\n",
    "In addition to the Global autocorrelation statistics, PySAL has many local\n",
    "autocorrelation statistics. Let's compute a local Moran statistic for the same\n",
    "dataset we used previously.\n",
    "\n",
    "\n",
    "\n",
    "## Imports"
   ]
  },
  {
   "cell_type": "code",
   "execution_count": null,
   "metadata": {
    "lines_to_next_cell": 2
   },
   "outputs": [],
   "source": [
    "import pandas as pd\n",
    "import geopandas as gpd\n",
    "import libpysal as lp\n",
    "import matplotlib.pyplot as plt\n",
    "import rasterio as rio\n",
    "import numpy as np\n",
    "import contextily as ctx\n",
    "import shapely.geometry as geom\n",
    "%matplotlib inline"
   ]
  },
  {
   "cell_type": "code",
   "execution_count": null,
   "metadata": {},
   "outputs": [],
   "source": [
    "df = gpd.read_file(\"data/airbnb.shp\")\n",
    "np.random.seed(12345)\n",
    "import esda"
   ]
  },
  {
   "cell_type": "code",
   "execution_count": null,
   "metadata": {},
   "outputs": [],
   "source": [
    "wq = lp.weights.Queen.from_dataframe(df)\n",
    "wq.transform = 'r'\n",
    "lag_price = lp.weights.lag_spatial(wq, df['median_pri'])\n",
    "y = df['median_pri']\n"
   ]
  },
  {
   "cell_type": "code",
   "execution_count": null,
   "metadata": {},
   "outputs": [],
   "source": [
    "price = df['median_pri']\n",
    "b, a = np.polyfit(price, lag_price, 1)\n",
    "f, ax = plt.subplots(1, figsize=(9, 9))\n",
    "\n",
    "plt.plot(price, lag_price, '.', color='firebrick')\n",
    "\n",
    " # dashed vert at mean of the price\n",
    "plt.vlines(price.mean(), lag_price.min(), lag_price.max(), linestyle='--')\n",
    " # dashed horizontal at mean of lagged price \n",
    "plt.hlines(lag_price.mean(), price.min(), price.max(), linestyle='--')\n",
    "\n",
    "# red line of best fit using global I as slope\n",
    "plt.plot(price, a + b*price, 'r')\n",
    "plt.title('Moran Scatterplot')\n",
    "plt.ylabel('Spatial Lag of Price')\n",
    "plt.xlabel('Price')\n",
    "plt.show()\n"
   ]
  },
  {
   "cell_type": "markdown",
   "metadata": {},
   "source": [
    "Now, instead of a single $I$ statistic, we have an *array* of local $I_i$\n",
    "statistics, stored in the `.Is` attribute, and p-values from the simulation are\n",
    "in `p_sim`."
   ]
  },
  {
   "cell_type": "code",
   "execution_count": null,
   "metadata": {},
   "outputs": [],
   "source": [
    "li = esda.moran.Moran_Local(y, wq)"
   ]
  },
  {
   "cell_type": "code",
   "execution_count": null,
   "metadata": {},
   "outputs": [],
   "source": [
    "li.q"
   ]
  },
  {
   "cell_type": "markdown",
   "metadata": {},
   "source": [
    "We can again test for local clustering using permutations, but here we use\n",
    "conditional random permutations (different distributions for each focal location)"
   ]
  },
  {
   "cell_type": "code",
   "execution_count": null,
   "metadata": {},
   "outputs": [],
   "source": [
    "(li.p_sim < 0.05).sum()"
   ]
  },
  {
   "cell_type": "markdown",
   "metadata": {},
   "source": [
    "We can distinguish the specific type of local spatial association reflected in\n",
    "the four quadrants of the Moran Scatterplot above:"
   ]
  },
  {
   "cell_type": "code",
   "execution_count": null,
   "metadata": {},
   "outputs": [],
   "source": [
    "sig = li.p_sim < 0.05\n",
    "hotspot = sig * li.q==1\n",
    "coldspot = sig * li.q==3\n",
    "doughnut = sig * li.q==2\n",
    "diamond = sig * li.q==4"
   ]
  },
  {
   "cell_type": "code",
   "execution_count": null,
   "metadata": {},
   "outputs": [],
   "source": [
    "spots = ['n.sig.', 'hot spot']\n",
    "labels = [spots[i] for i in hotspot*1]"
   ]
  },
  {
   "cell_type": "code",
   "execution_count": null,
   "metadata": {},
   "outputs": [],
   "source": [
    "df = df\n",
    "from matplotlib import colors\n",
    "hmap = colors.ListedColormap(['red', 'lightgrey'])\n",
    "f, ax = plt.subplots(1, figsize=(9, 9))\n",
    "df.assign(cl=labels).plot(column='cl', categorical=True, \\\n",
    "        k=2, cmap=hmap, linewidth=0.1, ax=ax, \\\n",
    "        edgecolor='white', legend=True)\n",
    "ax.set_axis_off()\n",
    "plt.show()"
   ]
  },
  {
   "cell_type": "code",
   "execution_count": null,
   "metadata": {},
   "outputs": [],
   "source": [
    "spots = ['n.sig.', 'cold spot']\n",
    "labels = [spots[i] for i in coldspot*1]"
   ]
  },
  {
   "cell_type": "code",
   "execution_count": null,
   "metadata": {},
   "outputs": [],
   "source": [
    "df = df\n",
    "from matplotlib import colors\n",
    "hmap = colors.ListedColormap(['blue', 'lightgrey'])\n",
    "f, ax = plt.subplots(1, figsize=(9, 9))\n",
    "df.assign(cl=labels).plot(column='cl', categorical=True, \\\n",
    "        k=2, cmap=hmap, linewidth=0.1, ax=ax, \\\n",
    "        edgecolor='white', legend=True)\n",
    "ax.set_axis_off()\n",
    "plt.show()"
   ]
  },
  {
   "cell_type": "code",
   "execution_count": null,
   "metadata": {},
   "outputs": [],
   "source": [
    "spots = ['n.sig.', 'doughnut']\n",
    "labels = [spots[i] for i in doughnut*1]"
   ]
  },
  {
   "cell_type": "code",
   "execution_count": null,
   "metadata": {},
   "outputs": [],
   "source": [
    "df = df\n",
    "from matplotlib import colors\n",
    "hmap = colors.ListedColormap(['lightblue', 'lightgrey'])\n",
    "f, ax = plt.subplots(1, figsize=(9, 9))\n",
    "df.assign(cl=labels).plot(column='cl', categorical=True, \\\n",
    "        k=2, cmap=hmap, linewidth=0.1, ax=ax, \\\n",
    "        edgecolor='white', legend=True)\n",
    "ax.set_axis_off()\n",
    "plt.show()"
   ]
  },
  {
   "cell_type": "code",
   "execution_count": null,
   "metadata": {},
   "outputs": [],
   "source": [
    "spots = ['n.sig.', 'diamond']\n",
    "labels = [spots[i] for i in diamond*1]"
   ]
  },
  {
   "cell_type": "code",
   "execution_count": null,
   "metadata": {},
   "outputs": [],
   "source": [
    "df = df\n",
    "from matplotlib import colors\n",
    "hmap = colors.ListedColormap(['pink', 'lightgrey'])\n",
    "f, ax = plt.subplots(1, figsize=(9, 9))\n",
    "df.assign(cl=labels).plot(column='cl', categorical=True, \\\n",
    "        k=2, cmap=hmap, linewidth=0.1, ax=ax, \\\n",
    "        edgecolor='white', legend=True)\n",
    "ax.set_axis_off()\n",
    "plt.show()"
   ]
  },
  {
   "cell_type": "code",
   "execution_count": null,
   "metadata": {},
   "outputs": [],
   "source": [
    "sig = 1 * (li.p_sim < 0.05)\n",
    "hotspot = 1 * (sig * li.q==1)\n",
    "coldspot = 3 * (sig * li.q==3)\n",
    "doughnut = 2 * (sig * li.q==2)\n",
    "diamond = 4 * (sig * li.q==4)\n",
    "spots = hotspot + coldspot + doughnut + diamond\n",
    "spots"
   ]
  },
  {
   "cell_type": "code",
   "execution_count": null,
   "metadata": {},
   "outputs": [],
   "source": [
    "spot_labels = [ '0 ns', '1 hot spot', '2 doughnut', '3 cold spot', '4 diamond']\n",
    "labels = [spot_labels[i] for i in spots]"
   ]
  },
  {
   "cell_type": "code",
   "execution_count": null,
   "metadata": {},
   "outputs": [],
   "source": [
    "\n",
    "from matplotlib import colors\n",
    "hmap = colors.ListedColormap([ 'lightgrey', 'red', 'lightblue', 'blue', 'pink'])\n",
    "f, ax = plt.subplots(1, figsize=(9, 9))\n",
    "df.assign(cl=labels).plot(column='cl', categorical=True, \\\n",
    "        k=2, cmap=hmap, linewidth=0.1, ax=ax, \\\n",
    "        edgecolor='white', legend=True)\n",
    "ax.set_axis_off()\n",
    "plt.show()"
   ]
  },
  {
   "cell_type": "markdown",
   "metadata": {},
   "source": [
    "## Putting it all together"
   ]
  },
  {
   "cell_type": "code",
   "execution_count": null,
   "metadata": {},
   "outputs": [],
   "source": [
    "from pysal.explore import esda\n",
    "from pysal.viz.splot import esda as esdaplot"
   ]
  },
  {
   "cell_type": "code",
   "execution_count": null,
   "metadata": {},
   "outputs": [],
   "source": [
    "lisa = esda.Moran_Local(df[\"median_pri\"], wq)"
   ]
  },
  {
   "cell_type": "code",
   "execution_count": null,
   "metadata": {},
   "outputs": [],
   "source": [
    "esdaplot.lisa_cluster(lisa, df);"
   ]
  },
  {
   "cell_type": "code",
   "execution_count": null,
   "metadata": {},
   "outputs": [],
   "source": [
    "esdaplot.plot_local_autocorrelation(lisa, df, \"median_pri\");"
   ]
  },
  {
   "cell_type": "markdown",
   "metadata": {},
   "source": [
    "## P-values revisited"
   ]
  },
  {
   "cell_type": "code",
   "execution_count": null,
   "metadata": {},
   "outputs": [],
   "source": [
    "lisa = esda.Moran_Local(df[\"median_pri\"], wq)"
   ]
  },
  {
   "cell_type": "code",
   "execution_count": null,
   "metadata": {},
   "outputs": [],
   "source": [
    "f, axs = plt.subplots(1, 3, figsize=(16, 3))\n",
    "for i, ax in zip([0.05, 0.01, 0.001], axs):\n",
    "    esdaplot.lisa_cluster(lisa, df, p=i, ax=ax)\n",
    "    ax.set_title(f\"Significance level = {i}\")"
   ]
  },
  {
   "cell_type": "markdown",
   "metadata": {},
   "source": [
    "<div class=\"alert alert-success\" style=\"font-size:120%\">\n",
    "<b>Exercise</b>: <br>\n",
    "Repeat the local analysis using rook contiguity and knn4. How do the results compare across different spatial weights?</div>"
   ]
  },
  {
   "cell_type": "code",
   "execution_count": null,
   "metadata": {},
   "outputs": [],
   "source": [
    "# %load solutions/320_1.py"
   ]
  },
  {
   "cell_type": "markdown",
   "metadata": {},
   "source": [
    "---\n",
    "\n",
    "<a rel=\"license\" href=\"http://creativecommons.org/licenses/by-nc-\n",
    "sa/4.0/\"><img alt=\"Creative Commons License\" style=\"border-width:0\"\n",
    "src=\"https://i.creativecommons.org/l/by-nc-sa/4.0/88x31.png\" /></a><br /><span\n",
    "xmlns:dct=\"http://purl.org/dc/terms/\" property=\"dct:title\">Local Spatial Autocorrelation</span> by <a xmlns:cc=\"http://creativecommons.org/ns#\"\n",
    "href=\"http://sergerey.org\" property=\"cc:attributionName\"\n",
    "rel=\"cc:attributionURL\">Serge Rey</a> is licensed under a <a\n",
    "rel=\"license\" href=\"http://creativecommons.org/licenses/by-nc-sa/4.0/\">Creative\n",
    "Commons Attribution-NonCommercial-ShareAlike 4.0 International License</a>."
   ]
  }
 ],
 "metadata": {
  "jupytext": {
   "formats": "ipynb,md"
  },
  "kernelspec": {
   "display_name": "Python 3",
   "language": "python",
   "name": "python3"
  },
  "language_info": {
   "codemirror_mode": {
    "name": "ipython",
    "version": 3
   },
   "file_extension": ".py",
   "mimetype": "text/x-python",
   "name": "python",
   "nbconvert_exporter": "python",
   "pygments_lexer": "ipython3",
   "version": "3.6.7"
  }
 },
 "nbformat": 4,
 "nbformat_minor": 4
}
