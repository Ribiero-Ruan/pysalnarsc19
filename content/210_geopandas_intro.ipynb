{
 "cells": [
  {
   "cell_type": "markdown",
   "metadata": {},
   "source": [
    "Introduction to GeoPandas\n",
    "=========================\n",
    "\n",
    "[Serge Rey](http://sergerey.org)\n",
    "\n",
    "The second library in the Python geospatial stack that we examine is\n",
    "[GeoPandas](http://geopandas.org/). GeoPandas builds on the capabilities\n",
    "of Shapely and combines these with the popular\n",
    "[pandas](http://pandas.pydata.org) library that provides\n",
    "high-performance and easy-to-use data structures for data analysis in\n",
    "Python.\n",
    "\n",
    "Objectives\n",
    "----------\n",
    "\n",
    "-   Understand GeoDataSeries and GeoDatatFrames\n",
    "-   Learn reading and writing common vector spatial data formats\n",
    "-   Carry out geoprocessing with GeoPandas\n",
    "\n",
    "Setup and Imports\n",
    "-----------------\n",
    "\n",
    "We utilize our common imports"
   ]
  },
  {
   "cell_type": "code",
   "execution_count": 32,
   "metadata": {},
   "outputs": [],
   "source": [
    "%matplotlib inline\n",
    "import matplotlib\n",
    "import numpy as np\n",
    "import matplotlib.pyplot as plt"
   ]
  },
  {
   "cell_type": "markdown",
   "metadata": {},
   "source": [
    "and import geopandas as an alias `gpd`"
   ]
  },
  {
   "cell_type": "code",
   "execution_count": 33,
   "metadata": {},
   "outputs": [],
   "source": [
    "import geopandas as gpd"
   ]
  },
  {
   "cell_type": "markdown",
   "metadata": {},
   "source": [
    "GeoPandas Structure\n",
    "===================\n",
    "\n",
    "As mentioned above, geopandas builds on-top of shapely which means we\n",
    "have access to all the functionality we saw in the previous notebook. To\n",
    "get a better sense of this connection, let\\'s create a few shapely\n",
    "Polygons and then see how they are used in geopandas:"
   ]
  },
  {
   "cell_type": "code",
   "execution_count": 34,
   "metadata": {},
   "outputs": [],
   "source": [
    "from shapely.geometry import Polygon\n",
    "poly_1 = Polygon([ (0,0), (0,10), (10, 10), (10, 0) ] )\n",
    "poly_2 = Polygon([ (10,0), (10,10), (20, 10), (20, 0) ] )\n",
    "poly_3 = Polygon([ (20,0), (20,10), (30, 10), (30, 0) ] )"
   ]
  },
  {
   "cell_type": "markdown",
   "metadata": {},
   "source": [
    "GeoSeries: Putting the Geo in GeoPandas\n",
    "---------------------------------------\n",
    "\n",
    "We are going to combine these three polygons in a geopandas `GeoSeries`:"
   ]
  },
  {
   "cell_type": "code",
   "execution_count": 35,
   "metadata": {},
   "outputs": [
    {
     "data": {
      "text/plain": [
       "<matplotlib.axes._subplots.AxesSubplot at 0x7fa31ee7f6d8>"
      ]
     },
     "execution_count": 35,
     "metadata": {},
     "output_type": "execute_result"
    },
    {
     "data": {
      "image/png": "[encoded data removed]",
      "text/plain": [
       "<Figure size 432x288 with 1 Axes>"
      ]
     },
     "metadata": {
      "needs_background": "light"
     },
     "output_type": "display_data"
    }
   ],
   "source": [
    "polys = gpd.GeoSeries([poly_1, poly_2, poly_3])\n",
    "polys.plot(edgecolor='k')"
   ]
  },
  {
   "cell_type": "markdown",
   "metadata": {},
   "source": [
    "The `GeoSeries` can be thought of as a vector, with each element of the\n",
    "vector corresponding to one or more Shapely geometry objects:"
   ]
  },
  {
   "cell_type": "code",
   "execution_count": 36,
   "metadata": {},
   "outputs": [
    {
     "data": {
      "text/plain": [
       "0       POLYGON ((0 0, 0 10, 10 10, 10 0, 0 0))\n",
       "1    POLYGON ((10 0, 10 10, 20 10, 20 0, 10 0))\n",
       "2    POLYGON ((20 0, 20 10, 30 10, 30 0, 20 0))\n",
       "dtype: object"
      ]
     },
     "execution_count": 36,
     "metadata": {},
     "output_type": "execute_result"
    }
   ],
   "source": [
    "polys"
   ]
  },
  {
   "cell_type": "markdown",
   "metadata": {},
   "source": [
    "so here we see three elements, each of type `POLYGON` along with their\n",
    "coordinates."
   ]
  },
  {
   "cell_type": "code",
   "execution_count": 37,
   "metadata": {
    "attributes": {
     "classes": [
      "py"
     ],
     "id": ""
    }
   },
   "outputs": [
    {
     "data": {
      "text/plain": [
       "geopandas.geoseries.GeoSeries"
      ]
     },
     "execution_count": 37,
     "metadata": {},
     "output_type": "execute_result"
    }
   ],
   "source": [
    "type(polys)"
   ]
  },
  {
   "cell_type": "markdown",
   "metadata": {},
   "source": [
    "Depending on what we need, we can either work on an *element-wise* basis\n",
    "or with the geoseries as a unified object. For example, an example of\n",
    "the former is:"
   ]
  },
  {
   "cell_type": "code",
   "execution_count": 38,
   "metadata": {},
   "outputs": [
    {
     "data": {
      "text/html": [
       "<div>\n",
       "<style scoped>\n",
       "    .dataframe tbody tr th:only-of-type {\n",
       "        vertical-align: middle;\n",
       "    }\n",
       "\n",
       "    .dataframe tbody tr th {\n",
       "        vertical-align: top;\n",
       "    }\n",
       "\n",
       "    .dataframe thead th {\n",
       "        text-align: right;\n",
       "    }\n",
       "</style>\n",
       "<table border=\"1\" class=\"dataframe\">\n",
       "  <thead>\n",
       "    <tr style=\"text-align: right;\">\n",
       "      <th></th>\n",
       "      <th>minx</th>\n",
       "      <th>miny</th>\n",
       "      <th>maxx</th>\n",
       "      <th>maxy</th>\n",
       "    </tr>\n",
       "  </thead>\n",
       "  <tbody>\n",
       "    <tr>\n",
       "      <td>0</td>\n",
       "      <td>0.0</td>\n",
       "      <td>0.0</td>\n",
       "      <td>10.0</td>\n",
       "      <td>10.0</td>\n",
       "    </tr>\n",
       "    <tr>\n",
       "      <td>1</td>\n",
       "      <td>10.0</td>\n",
       "      <td>0.0</td>\n",
       "      <td>20.0</td>\n",
       "      <td>10.0</td>\n",
       "    </tr>\n",
       "    <tr>\n",
       "      <td>2</td>\n",
       "      <td>20.0</td>\n",
       "      <td>0.0</td>\n",
       "      <td>30.0</td>\n",
       "      <td>10.0</td>\n",
       "    </tr>\n",
       "  </tbody>\n",
       "</table>\n",
       "</div>"
      ],
      "text/plain": [
       "   minx  miny  maxx  maxy\n",
       "0   0.0   0.0  10.0  10.0\n",
       "1  10.0   0.0  20.0  10.0\n",
       "2  20.0   0.0  30.0  10.0"
      ]
     },
     "execution_count": 38,
     "metadata": {},
     "output_type": "execute_result"
    }
   ],
   "source": [
    "polys.bounds"
   ]
  },
  {
   "cell_type": "markdown",
   "metadata": {},
   "source": [
    "which returns the bounds of each of the polygons. Alternatively, if we\n",
    "want the bounds for the collection:"
   ]
  },
  {
   "cell_type": "code",
   "execution_count": 39,
   "metadata": {},
   "outputs": [
    {
     "data": {
      "text/plain": [
       "array([ 0.,  0., 30., 10.])"
      ]
     },
     "execution_count": 39,
     "metadata": {},
     "output_type": "execute_result"
    }
   ],
   "source": [
    "polys.total_bounds"
   ]
  },
  {
   "cell_type": "markdown",
   "metadata": {},
   "source": [
    "Binary operations between two geoseries will be carried out element\n",
    "wise, and this can lead to some counter intuitive results. For example,\n",
    "a second `GeoSeries` created as:"
   ]
  },
  {
   "cell_type": "code",
   "execution_count": 40,
   "metadata": {},
   "outputs": [
    {
     "data": {
      "text/plain": [
       "<matplotlib.axes._subplots.AxesSubplot at 0x7fa31e6e07b8>"
      ]
     },
     "execution_count": 40,
     "metadata": {},
     "output_type": "execute_result"
    },
    {
     "data": {
      "image/png": "[encoded data removed]",
      "text/plain": [
       "<Figure size 432x288 with 1 Axes>"
      ]
     },
     "metadata": {
      "needs_background": "light"
     },
     "output_type": "display_data"
    }
   ],
   "source": [
    "from shapely.geometry import Point\n",
    "p_1 = Point(15, 5)\n",
    "p_2 = Point(25, 9)\n",
    "points = gpd.GeoSeries([p_1, p_2])\n",
    "points.plot()"
   ]
  },
  {
   "cell_type": "markdown",
   "metadata": {},
   "source": [
    "consists of two points. Each of the points is contained by the `polys`\n",
    "`GeoSeries`:"
   ]
  },
  {
   "cell_type": "code",
   "execution_count": 41,
   "metadata": {},
   "outputs": [
    {
     "data": {
      "text/plain": [
       "0    False\n",
       "1     True\n",
       "2    False\n",
       "dtype: bool"
      ]
     },
     "execution_count": 41,
     "metadata": {},
     "output_type": "execute_result"
    }
   ],
   "source": [
    "polys.contains(p_1)"
   ]
  },
  {
   "cell_type": "markdown",
   "metadata": {},
   "source": [
    "and"
   ]
  },
  {
   "cell_type": "code",
   "execution_count": 42,
   "metadata": {},
   "outputs": [
    {
     "data": {
      "text/plain": [
       "0    False\n",
       "1    False\n",
       "2     True\n",
       "dtype: bool"
      ]
     },
     "execution_count": 42,
     "metadata": {},
     "output_type": "execute_result"
    }
   ],
   "source": [
    "polys.contains(p_2)"
   ]
  },
  {
   "cell_type": "markdown",
   "metadata": {},
   "source": [
    "Plotting the two `GeoSeries` confirms this:"
   ]
  },
  {
   "cell_type": "code",
   "execution_count": 43,
   "metadata": {},
   "outputs": [
    {
     "data": {
      "image/png": "[encoded data removed]",
      "text/plain": [
       "<Figure size 432x288 with 1 Axes>"
      ]
     },
     "metadata": {
      "needs_background": "light"
     },
     "output_type": "display_data"
    }
   ],
   "source": [
    "ax = plt.gca()\n",
    "polys.plot(ax=ax, edgecolor='k')\n",
    "points.plot(ax=ax, edgecolor='r', facecolor='r')\n",
    "plt.show()"
   ]
  },
  {
   "cell_type": "markdown",
   "metadata": {},
   "source": [
    "Yet, when we check if the points as a `GeoSeries` are contained by the\n",
    "`polys` `GeoSeries` we get:"
   ]
  },
  {
   "cell_type": "code",
   "execution_count": 44,
   "metadata": {},
   "outputs": [
    {
     "data": {
      "text/plain": [
       "0    False\n",
       "1    False\n",
       "2    False\n",
       "dtype: bool"
      ]
     },
     "execution_count": 44,
     "metadata": {},
     "output_type": "execute_result"
    }
   ],
   "source": [
    "polys.contains(points)"
   ]
  },
  {
   "cell_type": "markdown",
   "metadata": {},
   "source": [
    "This is because the first point is not contained in the first polygon,\n",
    "and the second point is not contained in the second polygon, while there\n",
    "is no third point.\n",
    "\n",
    "A second point geoseries can clarify this:"
   ]
  },
  {
   "cell_type": "code",
   "execution_count": 45,
   "metadata": {},
   "outputs": [
    {
     "data": {
      "text/plain": [
       "0    True\n",
       "1    True\n",
       "2    True\n",
       "dtype: bool"
      ]
     },
     "execution_count": 45,
     "metadata": {},
     "output_type": "execute_result"
    }
   ],
   "source": [
    "points = gpd.GeoSeries([Point(5,5), Point(15, 6), Point([25,9])])\n",
    "polys.contains(points)"
   ]
  },
  {
   "cell_type": "markdown",
   "metadata": {},
   "source": [
    "whereas if we change the ordering of the second and third points we get:"
   ]
  },
  {
   "cell_type": "code",
   "execution_count": 46,
   "metadata": {},
   "outputs": [
    {
     "data": {
      "text/plain": [
       "0     True\n",
       "1    False\n",
       "2    False\n",
       "dtype: bool"
      ]
     },
     "execution_count": 46,
     "metadata": {},
     "output_type": "execute_result"
    }
   ],
   "source": [
    "points = gpd.GeoSeries([Point(5,5), Point(25, 9), Point([15,6])])\n",
    "polys.contains(points)"
   ]
  },
  {
   "cell_type": "markdown",
   "metadata": {},
   "source": [
    "GeoDataFrame: Putting the Panda in GeoPandas\n",
    "--------------------------------------------\n",
    "\n",
    "-   geometry column is populated with a geoseries\n",
    "-"
   ]
  },
  {
   "cell_type": "code",
   "execution_count": 47,
   "metadata": {},
   "outputs": [
    {
     "data": {
      "text/html": [
       "<div>\n",
       "<style scoped>\n",
       "    .dataframe tbody tr th:only-of-type {\n",
       "        vertical-align: middle;\n",
       "    }\n",
       "\n",
       "    .dataframe tbody tr th {\n",
       "        vertical-align: top;\n",
       "    }\n",
       "\n",
       "    .dataframe thead th {\n",
       "        text-align: right;\n",
       "    }\n",
       "</style>\n",
       "<table border=\"1\" class=\"dataframe\">\n",
       "  <thead>\n",
       "    <tr style=\"text-align: right;\">\n",
       "      <th></th>\n",
       "      <th>names</th>\n",
       "      <th>geometry</th>\n",
       "    </tr>\n",
       "  </thead>\n",
       "  <tbody>\n",
       "    <tr>\n",
       "      <td>0</td>\n",
       "      <td>west</td>\n",
       "      <td>POLYGON ((0 0, 0 10, 10 10, 10 0, 0 0))</td>\n",
       "    </tr>\n",
       "    <tr>\n",
       "      <td>1</td>\n",
       "      <td>central</td>\n",
       "      <td>POLYGON ((10 0, 10 10, 20 10, 20 0, 10 0))</td>\n",
       "    </tr>\n",
       "    <tr>\n",
       "      <td>2</td>\n",
       "      <td>east</td>\n",
       "      <td>POLYGON ((20 0, 20 10, 30 10, 30 0, 20 0))</td>\n",
       "    </tr>\n",
       "  </tbody>\n",
       "</table>\n",
       "</div>"
      ],
      "text/plain": [
       "     names                                    geometry\n",
       "0     west     POLYGON ((0 0, 0 10, 10 10, 10 0, 0 0))\n",
       "1  central  POLYGON ((10 0, 10 10, 20 10, 20 0, 10 0))\n",
       "2     east  POLYGON ((20 0, 20 10, 30 10, 30 0, 20 0))"
      ]
     },
     "execution_count": 47,
     "metadata": {},
     "output_type": "execute_result"
    }
   ],
   "source": [
    "polys_df = gpd.GeoDataFrame({'names': ['west', 'central', 'east'], 'geometry': polys})\n",
    "polys_df"
   ]
  },
  {
   "cell_type": "markdown",
   "metadata": {},
   "source": [
    "The dataframe provides the ability to add add additional columns:"
   ]
  },
  {
   "cell_type": "code",
   "execution_count": 48,
   "metadata": {},
   "outputs": [
    {
     "data": {
      "text/html": [
       "<div>\n",
       "<style scoped>\n",
       "    .dataframe tbody tr th:only-of-type {\n",
       "        vertical-align: middle;\n",
       "    }\n",
       "\n",
       "    .dataframe tbody tr th {\n",
       "        vertical-align: top;\n",
       "    }\n",
       "\n",
       "    .dataframe thead th {\n",
       "        text-align: right;\n",
       "    }\n",
       "</style>\n",
       "<table border=\"1\" class=\"dataframe\">\n",
       "  <thead>\n",
       "    <tr style=\"text-align: right;\">\n",
       "      <th></th>\n",
       "      <th>names</th>\n",
       "      <th>geometry</th>\n",
       "      <th>Unemployment</th>\n",
       "    </tr>\n",
       "  </thead>\n",
       "  <tbody>\n",
       "    <tr>\n",
       "      <td>0</td>\n",
       "      <td>west</td>\n",
       "      <td>POLYGON ((0 0, 0 10, 10 10, 10 0, 0 0))</td>\n",
       "      <td>7.8</td>\n",
       "    </tr>\n",
       "    <tr>\n",
       "      <td>1</td>\n",
       "      <td>central</td>\n",
       "      <td>POLYGON ((10 0, 10 10, 20 10, 20 0, 10 0))</td>\n",
       "      <td>5.3</td>\n",
       "    </tr>\n",
       "    <tr>\n",
       "      <td>2</td>\n",
       "      <td>east</td>\n",
       "      <td>POLYGON ((20 0, 20 10, 30 10, 30 0, 20 0))</td>\n",
       "      <td>8.2</td>\n",
       "    </tr>\n",
       "  </tbody>\n",
       "</table>\n",
       "</div>"
      ],
      "text/plain": [
       "     names                                    geometry  Unemployment\n",
       "0     west     POLYGON ((0 0, 0 10, 10 10, 10 0, 0 0))           7.8\n",
       "1  central  POLYGON ((10 0, 10 10, 20 10, 20 0, 10 0))           5.3\n",
       "2     east  POLYGON ((20 0, 20 10, 30 10, 30 0, 20 0))           8.2"
      ]
     },
     "execution_count": 48,
     "metadata": {},
     "output_type": "execute_result"
    }
   ],
   "source": [
    "polys_df['Unemployment'] = [ 7.8, 5.3, 8.2]\n",
    "polys_df"
   ]
  },
  {
   "cell_type": "markdown",
   "metadata": {},
   "source": [
    "and it supports different types of subsetting and traditional (i.e.,\n",
    "nonspatial) queries. For example, find the regions with unemployment\n",
    "rates above 6 percent:"
   ]
  },
  {
   "cell_type": "code",
   "execution_count": 49,
   "metadata": {},
   "outputs": [
    {
     "data": {
      "text/html": [
       "<div>\n",
       "<style scoped>\n",
       "    .dataframe tbody tr th:only-of-type {\n",
       "        vertical-align: middle;\n",
       "    }\n",
       "\n",
       "    .dataframe tbody tr th {\n",
       "        vertical-align: top;\n",
       "    }\n",
       "\n",
       "    .dataframe thead th {\n",
       "        text-align: right;\n",
       "    }\n",
       "</style>\n",
       "<table border=\"1\" class=\"dataframe\">\n",
       "  <thead>\n",
       "    <tr style=\"text-align: right;\">\n",
       "      <th></th>\n",
       "      <th>names</th>\n",
       "      <th>geometry</th>\n",
       "      <th>Unemployment</th>\n",
       "    </tr>\n",
       "  </thead>\n",
       "  <tbody>\n",
       "    <tr>\n",
       "      <td>0</td>\n",
       "      <td>west</td>\n",
       "      <td>POLYGON ((0 0, 0 10, 10 10, 10 0, 0 0))</td>\n",
       "      <td>7.8</td>\n",
       "    </tr>\n",
       "    <tr>\n",
       "      <td>2</td>\n",
       "      <td>east</td>\n",
       "      <td>POLYGON ((20 0, 20 10, 30 10, 30 0, 20 0))</td>\n",
       "      <td>8.2</td>\n",
       "    </tr>\n",
       "  </tbody>\n",
       "</table>\n",
       "</div>"
      ],
      "text/plain": [
       "  names                                    geometry  Unemployment\n",
       "0  west     POLYGON ((0 0, 0 10, 10 10, 10 0, 0 0))           7.8\n",
       "2  east  POLYGON ((20 0, 20 10, 30 10, 30 0, 20 0))           8.2"
      ]
     },
     "execution_count": 49,
     "metadata": {},
     "output_type": "execute_result"
    }
   ],
   "source": [
    "polys_df[polys_df['Unemployment']>6.0]"
   ]
  },
  {
   "cell_type": "markdown",
   "metadata": {},
   "source": [
    "There is nothing sacred about the column labeled \\'geometry\\' in the\n",
    "GeoDataFrame. Moreover, we can add additional GeoSeries to the same\n",
    "dataframe, as they will be treated as regular columns. However, only one\n",
    "GeoSeries can serve as the column against which any spatial methods are\n",
    "applied when called upon. This column can be accessed through the\n",
    "`geometry` attribute of the `GeoDataFrame`:"
   ]
  },
  {
   "cell_type": "code",
   "execution_count": 50,
   "metadata": {},
   "outputs": [
    {
     "data": {
      "text/plain": [
       "0       POLYGON ((0 0, 0 10, 10 10, 10 0, 0 0))\n",
       "1    POLYGON ((10 0, 10 10, 20 10, 20 0, 10 0))\n",
       "2    POLYGON ((20 0, 20 10, 30 10, 30 0, 20 0))\n",
       "Name: geometry, dtype: object"
      ]
     },
     "execution_count": 50,
     "metadata": {},
     "output_type": "execute_result"
    }
   ],
   "source": [
    "polys_df.geometry"
   ]
  },
  {
   "cell_type": "markdown",
   "metadata": {},
   "source": [
    "Let\\'s create a new Points GeoSeries and add it to this GeoDataFrame as\n",
    "a regular column:"
   ]
  },
  {
   "cell_type": "code",
   "execution_count": 51,
   "metadata": {},
   "outputs": [
    {
     "data": {
      "text/plain": [
       "0       POLYGON ((0 0, 0 10, 10 10, 10 0, 0 0))\n",
       "1    POLYGON ((10 0, 10 10, 20 10, 20 0, 10 0))\n",
       "2    POLYGON ((20 0, 20 10, 30 10, 30 0, 20 0))\n",
       "Name: geometry, dtype: object"
      ]
     },
     "execution_count": 51,
     "metadata": {},
     "output_type": "execute_result"
    }
   ],
   "source": [
    "points = gpd.GeoSeries([Point(5,5), Point(15, 6), Point([25,9])])\n",
    "polys_df['points'] = points\n",
    "polys_df.geometry"
   ]
  },
  {
   "cell_type": "markdown",
   "metadata": {},
   "source": [
    "So the `polys` column is currently serving as the `geometry` property\n",
    "for the `GeoDataFrame` and `points` is just another column:"
   ]
  },
  {
   "cell_type": "code",
   "execution_count": 52,
   "metadata": {},
   "outputs": [
    {
     "data": {
      "text/html": [
       "<div>\n",
       "<style scoped>\n",
       "    .dataframe tbody tr th:only-of-type {\n",
       "        vertical-align: middle;\n",
       "    }\n",
       "\n",
       "    .dataframe tbody tr th {\n",
       "        vertical-align: top;\n",
       "    }\n",
       "\n",
       "    .dataframe thead th {\n",
       "        text-align: right;\n",
       "    }\n",
       "</style>\n",
       "<table border=\"1\" class=\"dataframe\">\n",
       "  <thead>\n",
       "    <tr style=\"text-align: right;\">\n",
       "      <th></th>\n",
       "      <th>names</th>\n",
       "      <th>geometry</th>\n",
       "      <th>Unemployment</th>\n",
       "      <th>points</th>\n",
       "    </tr>\n",
       "  </thead>\n",
       "  <tbody>\n",
       "    <tr>\n",
       "      <td>0</td>\n",
       "      <td>west</td>\n",
       "      <td>POLYGON ((0 0, 0 10, 10 10, 10 0, 0 0))</td>\n",
       "      <td>7.8</td>\n",
       "      <td>POINT (5 5)</td>\n",
       "    </tr>\n",
       "    <tr>\n",
       "      <td>1</td>\n",
       "      <td>central</td>\n",
       "      <td>POLYGON ((10 0, 10 10, 20 10, 20 0, 10 0))</td>\n",
       "      <td>5.3</td>\n",
       "      <td>POINT (15 6)</td>\n",
       "    </tr>\n",
       "    <tr>\n",
       "      <td>2</td>\n",
       "      <td>east</td>\n",
       "      <td>POLYGON ((20 0, 20 10, 30 10, 30 0, 20 0))</td>\n",
       "      <td>8.2</td>\n",
       "      <td>POINT (25 9)</td>\n",
       "    </tr>\n",
       "  </tbody>\n",
       "</table>\n",
       "</div>"
      ],
      "text/plain": [
       "     names                                    geometry  Unemployment  \\\n",
       "0     west     POLYGON ((0 0, 0 10, 10 10, 10 0, 0 0))           7.8   \n",
       "1  central  POLYGON ((10 0, 10 10, 20 10, 20 0, 10 0))           5.3   \n",
       "2     east  POLYGON ((20 0, 20 10, 30 10, 30 0, 20 0))           8.2   \n",
       "\n",
       "         points  \n",
       "0   POINT (5 5)  \n",
       "1  POINT (15 6)  \n",
       "2  POINT (25 9)  "
      ]
     },
     "execution_count": 52,
     "metadata": {},
     "output_type": "execute_result"
    }
   ],
   "source": [
    "polys_df"
   ]
  },
  {
   "cell_type": "markdown",
   "metadata": {},
   "source": [
    "so when we call the `plot` method we get the polygon representation:"
   ]
  },
  {
   "cell_type": "code",
   "execution_count": 53,
   "metadata": {},
   "outputs": [
    {
     "data": {
      "text/plain": [
       "<matplotlib.axes._subplots.AxesSubplot at 0x7fa31dc2ee48>"
      ]
     },
     "execution_count": 53,
     "metadata": {},
     "output_type": "execute_result"
    },
    {
     "data": {
      "image/png": "[encoded data removed]",
      "text/plain": [
       "<Figure size 432x288 with 1 Axes>"
      ]
     },
     "metadata": {
      "needs_background": "light"
     },
     "output_type": "display_data"
    }
   ],
   "source": [
    "polys_df.plot(edgecolor='k')"
   ]
  },
  {
   "cell_type": "markdown",
   "metadata": {},
   "source": [
    "However, if we explicity set the geometry property (and assign this to a\n",
    "new object with the same name), and plot, things change:"
   ]
  },
  {
   "cell_type": "code",
   "execution_count": 54,
   "metadata": {},
   "outputs": [
    {
     "data": {
      "text/plain": [
       "<matplotlib.axes._subplots.AxesSubplot at 0x7fa31cdec9b0>"
      ]
     },
     "execution_count": 54,
     "metadata": {},
     "output_type": "execute_result"
    },
    {
     "data": {
      "image/png": "[encoded data removed]",
      "text/plain": [
       "<Figure size 432x288 with 1 Axes>"
      ]
     },
     "metadata": {
      "needs_background": "light"
     },
     "output_type": "display_data"
    }
   ],
   "source": [
    "polys_df = polys_df.set_geometry('points')\n",
    "polys_df.plot()"
   ]
  },
  {
   "cell_type": "markdown",
   "metadata": {},
   "source": [
    "and this is because"
   ]
  },
  {
   "cell_type": "code",
   "execution_count": 55,
   "metadata": {},
   "outputs": [
    {
     "data": {
      "text/plain": [
       "0     POINT (5 5)\n",
       "1    POINT (15 6)\n",
       "2    POINT (25 9)\n",
       "Name: points, dtype: object"
      ]
     },
     "execution_count": 55,
     "metadata": {},
     "output_type": "execute_result"
    }
   ],
   "source": [
    "polys_df.geometry"
   ]
  },
  {
   "cell_type": "markdown",
   "metadata": {},
   "source": [
    "Read a Polygon Shapefile\n",
    "========================"
   ]
  },
  {
   "cell_type": "code",
   "execution_count": 56,
   "metadata": {},
   "outputs": [],
   "source": [
    "tracts_df = gpd.read_file('data/california_tracts.shp')"
   ]
  },
  {
   "cell_type": "code",
   "execution_count": 57,
   "metadata": {},
   "outputs": [
    {
     "data": {
      "text/html": [
       "<div>\n",
       "<style scoped>\n",
       "    .dataframe tbody tr th:only-of-type {\n",
       "        vertical-align: middle;\n",
       "    }\n",
       "\n",
       "    .dataframe tbody tr th {\n",
       "        vertical-align: top;\n",
       "    }\n",
       "\n",
       "    .dataframe thead th {\n",
       "        text-align: right;\n",
       "    }\n",
       "</style>\n",
       "<table border=\"1\" class=\"dataframe\">\n",
       "  <thead>\n",
       "    <tr style=\"text-align: right;\">\n",
       "      <th></th>\n",
       "      <th>GEOID10</th>\n",
       "      <th>NAMELSAD10</th>\n",
       "      <th>ALAND10</th>\n",
       "      <th>AWATER10</th>\n",
       "      <th>INTPTLAT10</th>\n",
       "      <th>INTPTLON10</th>\n",
       "      <th>DP0010001</th>\n",
       "      <th>DP0010002</th>\n",
       "      <th>DP0010003</th>\n",
       "      <th>DP0010004</th>\n",
       "      <th>...</th>\n",
       "      <th>DP0210001</th>\n",
       "      <th>DP0210002</th>\n",
       "      <th>DP0210003</th>\n",
       "      <th>DP0220001</th>\n",
       "      <th>DP0220002</th>\n",
       "      <th>DP0230001</th>\n",
       "      <th>DP0230002</th>\n",
       "      <th>Shape_Leng</th>\n",
       "      <th>Shape_Area</th>\n",
       "      <th>geometry</th>\n",
       "    </tr>\n",
       "  </thead>\n",
       "  <tbody>\n",
       "    <tr>\n",
       "      <td>0</td>\n",
       "      <td>06083002103</td>\n",
       "      <td>Census Tract 21.03</td>\n",
       "      <td>2838200.0</td>\n",
       "      <td>7603.0</td>\n",
       "      <td>+34.9306689</td>\n",
       "      <td>-120.4270588</td>\n",
       "      <td>3930</td>\n",
       "      <td>354</td>\n",
       "      <td>290</td>\n",
       "      <td>253</td>\n",
       "      <td>...</td>\n",
       "      <td>1469</td>\n",
       "      <td>476</td>\n",
       "      <td>993</td>\n",
       "      <td>1360</td>\n",
       "      <td>2492</td>\n",
       "      <td>2.86</td>\n",
       "      <td>2.51</td>\n",
       "      <td>0.069451</td>\n",
       "      <td>0.000281</td>\n",
       "      <td>POLYGON ((-120.417938 34.93834100000004, -120....</td>\n",
       "    </tr>\n",
       "    <tr>\n",
       "      <td>1</td>\n",
       "      <td>06083002402</td>\n",
       "      <td>Census Tract 24.02</td>\n",
       "      <td>16288573.0</td>\n",
       "      <td>44468.0</td>\n",
       "      <td>+34.9287963</td>\n",
       "      <td>-120.4780833</td>\n",
       "      <td>11406</td>\n",
       "      <td>1250</td>\n",
       "      <td>1099</td>\n",
       "      <td>969</td>\n",
       "      <td>...</td>\n",
       "      <td>2920</td>\n",
       "      <td>1444</td>\n",
       "      <td>1476</td>\n",
       "      <td>5161</td>\n",
       "      <td>6240</td>\n",
       "      <td>3.57</td>\n",
       "      <td>4.23</td>\n",
       "      <td>0.190631</td>\n",
       "      <td>0.001611</td>\n",
       "      <td>POLYGON ((-120.4738929999999 34.92081400000006...</td>\n",
       "    </tr>\n",
       "    <tr>\n",
       "      <td>2</td>\n",
       "      <td>06083002102</td>\n",
       "      <td>Census Tract 21.02</td>\n",
       "      <td>1352551.0</td>\n",
       "      <td>0.0</td>\n",
       "      <td>+34.9421111</td>\n",
       "      <td>-120.4267767</td>\n",
       "      <td>2084</td>\n",
       "      <td>156</td>\n",
       "      <td>141</td>\n",
       "      <td>139</td>\n",
       "      <td>...</td>\n",
       "      <td>739</td>\n",
       "      <td>433</td>\n",
       "      <td>306</td>\n",
       "      <td>1179</td>\n",
       "      <td>905</td>\n",
       "      <td>2.72</td>\n",
       "      <td>2.96</td>\n",
       "      <td>0.051289</td>\n",
       "      <td>0.000133</td>\n",
       "      <td>POLYGON ((-120.417658 34.93834500000003, -120....</td>\n",
       "    </tr>\n",
       "    <tr>\n",
       "      <td>3</td>\n",
       "      <td>06083002010</td>\n",
       "      <td>Census Tract 20.10</td>\n",
       "      <td>2417990.0</td>\n",
       "      <td>0.0</td>\n",
       "      <td>+34.8714281</td>\n",
       "      <td>-120.4100285</td>\n",
       "      <td>4375</td>\n",
       "      <td>215</td>\n",
       "      <td>264</td>\n",
       "      <td>341</td>\n",
       "      <td>...</td>\n",
       "      <td>1522</td>\n",
       "      <td>1303</td>\n",
       "      <td>219</td>\n",
       "      <td>3609</td>\n",
       "      <td>761</td>\n",
       "      <td>2.77</td>\n",
       "      <td>3.47</td>\n",
       "      <td>0.066269</td>\n",
       "      <td>0.000238</td>\n",
       "      <td>POLYGON ((-120.411468 34.87961900000005, -120....</td>\n",
       "    </tr>\n",
       "    <tr>\n",
       "      <td>4</td>\n",
       "      <td>06083002009</td>\n",
       "      <td>Census Tract 20.09</td>\n",
       "      <td>2603281.0</td>\n",
       "      <td>0.0</td>\n",
       "      <td>+34.8722878</td>\n",
       "      <td>-120.4277159</td>\n",
       "      <td>3826</td>\n",
       "      <td>170</td>\n",
       "      <td>232</td>\n",
       "      <td>318</td>\n",
       "      <td>...</td>\n",
       "      <td>1326</td>\n",
       "      <td>969</td>\n",
       "      <td>357</td>\n",
       "      <td>2730</td>\n",
       "      <td>1045</td>\n",
       "      <td>2.82</td>\n",
       "      <td>2.93</td>\n",
       "      <td>0.065523</td>\n",
       "      <td>0.000257</td>\n",
       "      <td>POLYGON ((-120.423524 34.87928299999999, -120....</td>\n",
       "    </tr>\n",
       "  </tbody>\n",
       "</table>\n",
       "<p>5 rows × 195 columns</p>\n",
       "</div>"
      ],
      "text/plain": [
       "       GEOID10          NAMELSAD10     ALAND10  AWATER10   INTPTLAT10  \\\n",
       "0  06083002103  Census Tract 21.03   2838200.0    7603.0  +34.9306689   \n",
       "1  06083002402  Census Tract 24.02  16288573.0   44468.0  +34.9287963   \n",
       "2  06083002102  Census Tract 21.02   1352551.0       0.0  +34.9421111   \n",
       "3  06083002010  Census Tract 20.10   2417990.0       0.0  +34.8714281   \n",
       "4  06083002009  Census Tract 20.09   2603281.0       0.0  +34.8722878   \n",
       "\n",
       "     INTPTLON10  DP0010001  DP0010002  DP0010003  DP0010004  ...  DP0210001  \\\n",
       "0  -120.4270588       3930        354        290        253  ...       1469   \n",
       "1  -120.4780833      11406       1250       1099        969  ...       2920   \n",
       "2  -120.4267767       2084        156        141        139  ...        739   \n",
       "3  -120.4100285       4375        215        264        341  ...       1522   \n",
       "4  -120.4277159       3826        170        232        318  ...       1326   \n",
       "\n",
       "   DP0210002  DP0210003  DP0220001  DP0220002  DP0230001  DP0230002  \\\n",
       "0        476        993       1360       2492       2.86       2.51   \n",
       "1       1444       1476       5161       6240       3.57       4.23   \n",
       "2        433        306       1179        905       2.72       2.96   \n",
       "3       1303        219       3609        761       2.77       3.47   \n",
       "4        969        357       2730       1045       2.82       2.93   \n",
       "\n",
       "   Shape_Leng  Shape_Area                                           geometry  \n",
       "0    0.069451    0.000281  POLYGON ((-120.417938 34.93834100000004, -120....  \n",
       "1    0.190631    0.001611  POLYGON ((-120.4738929999999 34.92081400000006...  \n",
       "2    0.051289    0.000133  POLYGON ((-120.417658 34.93834500000003, -120....  \n",
       "3    0.066269    0.000238  POLYGON ((-120.411468 34.87961900000005, -120....  \n",
       "4    0.065523    0.000257  POLYGON ((-120.423524 34.87928299999999, -120....  \n",
       "\n",
       "[5 rows x 195 columns]"
      ]
     },
     "execution_count": 57,
     "metadata": {},
     "output_type": "execute_result"
    }
   ],
   "source": [
    "tracts_df.head()"
   ]
  },
  {
   "cell_type": "code",
   "execution_count": 58,
   "metadata": {},
   "outputs": [
    {
     "data": {
      "text/plain": [
       "(8057, 195)"
      ]
     },
     "execution_count": 58,
     "metadata": {},
     "output_type": "execute_result"
    }
   ],
   "source": [
    "tracts_df.shape"
   ]
  },
  {
   "cell_type": "code",
   "execution_count": 59,
   "metadata": {},
   "outputs": [
    {
     "data": {
      "text/plain": [
       "<matplotlib.axes._subplots.AxesSubplot at 0x7fa31cb351d0>"
      ]
     },
     "execution_count": 59,
     "metadata": {},
     "output_type": "execute_result"
    },
    {
     "data": {
      "image/png": "[encoded data removed]",
      "text/plain": [
       "<Figure size 432x288 with 1 Axes>"
      ]
     },
     "metadata": {
      "needs_background": "light"
     },
     "output_type": "display_data"
    }
   ],
   "source": [
    "tracts_df.plot()"
   ]
  },
  {
   "cell_type": "code",
   "execution_count": 60,
   "metadata": {},
   "outputs": [
    {
     "data": {
      "text/plain": [
       "{'init': 'epsg:4269'}"
      ]
     },
     "execution_count": 60,
     "metadata": {},
     "output_type": "execute_result"
    }
   ],
   "source": [
    "tracts_df.crs"
   ]
  },
  {
   "cell_type": "code",
   "execution_count": 61,
   "metadata": {},
   "outputs": [
    {
     "data": {
      "text/plain": [
       "Index(['GEOID10', 'NAMELSAD10', 'ALAND10', 'AWATER10', 'INTPTLAT10',\n",
       "       'INTPTLON10', 'DP0010001', 'DP0010002', 'DP0010003', 'DP0010004',\n",
       "       ...\n",
       "       'DP0210001', 'DP0210002', 'DP0210003', 'DP0220001', 'DP0220002',\n",
       "       'DP0230001', 'DP0230002', 'Shape_Leng', 'Shape_Area', 'geometry'],\n",
       "      dtype='object', length=195)"
      ]
     },
     "execution_count": 61,
     "metadata": {},
     "output_type": "execute_result"
    }
   ],
   "source": [
    "tracts_df.columns"
   ]
  },
  {
   "cell_type": "markdown",
   "metadata": {},
   "source": [
    "Read a Point Shapefile\n",
    "======================"
   ]
  },
  {
   "cell_type": "code",
   "execution_count": 62,
   "metadata": {},
   "outputs": [],
   "source": [
    "clinics_df = gpd.read_file('data/behavioralHealth.shp')"
   ]
  },
  {
   "cell_type": "code",
   "execution_count": 63,
   "metadata": {},
   "outputs": [
    {
     "data": {
      "text/plain": [
       "<matplotlib.axes._subplots.AxesSubplot at 0x7fa31b262438>"
      ]
     },
     "execution_count": 63,
     "metadata": {},
     "output_type": "execute_result"
    },
    {
     "data": {
      "image/png": "[encoded data removed]",
      "text/plain": [
       "<Figure size 432x288 with 1 Axes>"
      ]
     },
     "metadata": {
      "needs_background": "light"
     },
     "output_type": "display_data"
    }
   ],
   "source": [
    "clinics_df.plot()"
   ]
  },
  {
   "cell_type": "code",
   "execution_count": 64,
   "metadata": {},
   "outputs": [
    {
     "data": {
      "text/plain": [
       "Index(['OBJECTID', 'SITE_TYPE', 'SITE_NAME', 'ADDRESS', 'CITY', 'ZIPCODE',\n",
       "       'PHONE', 'geometry'],\n",
       "      dtype='object')"
      ]
     },
     "execution_count": 64,
     "metadata": {},
     "output_type": "execute_result"
    }
   ],
   "source": [
    "clinics_df.columns"
   ]
  },
  {
   "cell_type": "code",
   "execution_count": 65,
   "metadata": {},
   "outputs": [
    {
     "data": {
      "text/plain": [
       "(28, 8)"
      ]
     },
     "execution_count": 65,
     "metadata": {},
     "output_type": "execute_result"
    }
   ],
   "source": [
    "clinics_df.shape"
   ]
  },
  {
   "cell_type": "code",
   "execution_count": 66,
   "metadata": {},
   "outputs": [
    {
     "data": {
      "text/plain": [
       "0    POINT (6216487.156141102 2291913.663858846)\n",
       "1    POINT (6195566.225542113 2280519.189600602)\n",
       "2    POINT (6168252.101364687 2261023.951032102)\n",
       "3    POINT (7059944.605377689 2169652.045521691)\n",
       "4    POINT (6195949.671953693 2280510.302151188)\n",
       "Name: geometry, dtype: object"
      ]
     },
     "execution_count": 66,
     "metadata": {},
     "output_type": "execute_result"
    }
   ],
   "source": [
    "clinics_df['geometry'].head()"
   ]
  },
  {
   "cell_type": "markdown",
   "metadata": {},
   "source": [
    "What we want to do now is focus on the relationships between the\n",
    "locations of these clinics in Riverside county and the census tracts in\n",
    "that county. We have two issues to deal with in order to do so.\n",
    "\n",
    "First, our dataframe for the tracts includes all 58 counties, whereas we\n",
    "only need Riverside county. Second, if you look closely at the plot of\n",
    "the clinics you will see that the units on the axes are different from\n",
    "those in the plot of the census tracts. This is because the two\n",
    "dataframes have different coordinate reference systems (CRS).\n",
    "\n",
    "Extracting Riverside County Tracts {#riverside-county}\n",
    "=================================="
   ]
  },
  {
   "cell_type": "code",
   "execution_count": 67,
   "metadata": {},
   "outputs": [],
   "source": [
    "riverside_tracts = tracts_df[tracts_df['GEOID10'].str.match(\"^06065\")]"
   ]
  },
  {
   "cell_type": "code",
   "execution_count": 68,
   "metadata": {},
   "outputs": [
    {
     "data": {
      "text/plain": [
       "<matplotlib.axes._subplots.AxesSubplot at 0x7fa31aefb390>"
      ]
     },
     "execution_count": 68,
     "metadata": {},
     "output_type": "execute_result"
    },
    {
     "data": {
      "image/png": "[encoded data removed]",
      "text/plain": [
       "<Figure size 432x288 with 1 Axes>"
      ]
     },
     "metadata": {
      "needs_background": "light"
     },
     "output_type": "display_data"
    }
   ],
   "source": [
    "riverside_tracts.plot()"
   ]
  },
  {
   "cell_type": "markdown",
   "metadata": {},
   "source": [
    "Coordinate Reference Systems\n",
    "============================\n",
    "\n",
    "Spatial Joins\n",
    "=============\n",
    "\n",
    "Let\\'s find out which tracts have clinics."
   ]
  },
  {
   "cell_type": "code",
   "execution_count": 69,
   "metadata": {},
   "outputs": [
    {
     "data": {
      "text/plain": [
       "<matplotlib.axes._subplots.AxesSubplot at 0x7fa3197d45c0>"
      ]
     },
     "execution_count": 69,
     "metadata": {},
     "output_type": "execute_result"
    },
    {
     "data": {
      "image/png": "[encoded data removed]",
      "text/plain": [
       "<Figure size 432x288 with 1 Axes>"
      ]
     },
     "metadata": {
      "needs_background": "light"
     },
     "output_type": "display_data"
    }
   ],
   "source": [
    "clinics_df.plot()"
   ]
  },
  {
   "cell_type": "code",
   "execution_count": 70,
   "metadata": {},
   "outputs": [
    {
     "data": {
      "text/plain": [
       "<matplotlib.axes._subplots.AxesSubplot at 0x7fa31f621a58>"
      ]
     },
     "execution_count": 70,
     "metadata": {},
     "output_type": "execute_result"
    },
    {
     "data": {
      "image/png": "[encoded data removed]",
      "text/plain": [
       "<Figure size 432x288 with 1 Axes>"
      ]
     },
     "metadata": {
      "needs_background": "light"
     },
     "output_type": "display_data"
    }
   ],
   "source": [
    "clinics_df.to_crs(riverside_tracts.crs).plot()"
   ]
  },
  {
   "cell_type": "code",
   "execution_count": 71,
   "metadata": {},
   "outputs": [],
   "source": [
    "# convert crs of clinics to match that of tracts\n",
    "clinics_df = clinics_df.to_crs(riverside_tracts.crs)"
   ]
  },
  {
   "cell_type": "code",
   "execution_count": 72,
   "metadata": {},
   "outputs": [
    {
     "data": {
      "text/plain": [
       "<matplotlib.axes._subplots.AxesSubplot at 0x7fa3182a7ba8>"
      ]
     },
     "execution_count": 72,
     "metadata": {},
     "output_type": "execute_result"
    },
    {
     "data": {
      "image/png": "[encoded data removed]",
      "text/plain": [
       "<Figure size 432x288 with 1 Axes>"
      ]
     },
     "metadata": {
      "needs_background": "light"
     },
     "output_type": "display_data"
    }
   ],
   "source": [
    "clinics_df.plot()"
   ]
  },
  {
   "cell_type": "code",
   "execution_count": 73,
   "metadata": {},
   "outputs": [],
   "source": [
    "clinics_tracts = gpd.sjoin(clinics_df, riverside_tracts, op='within')"
   ]
  },
  {
   "cell_type": "code",
   "execution_count": 74,
   "metadata": {},
   "outputs": [
    {
     "data": {
      "text/html": [
       "<div>\n",
       "<style scoped>\n",
       "    .dataframe tbody tr th:only-of-type {\n",
       "        vertical-align: middle;\n",
       "    }\n",
       "\n",
       "    .dataframe tbody tr th {\n",
       "        vertical-align: top;\n",
       "    }\n",
       "\n",
       "    .dataframe thead th {\n",
       "        text-align: right;\n",
       "    }\n",
       "</style>\n",
       "<table border=\"1\" class=\"dataframe\">\n",
       "  <thead>\n",
       "    <tr style=\"text-align: right;\">\n",
       "      <th></th>\n",
       "      <th>OBJECTID</th>\n",
       "      <th>SITE_TYPE</th>\n",
       "      <th>SITE_NAME</th>\n",
       "      <th>ADDRESS</th>\n",
       "      <th>CITY</th>\n",
       "      <th>ZIPCODE</th>\n",
       "      <th>PHONE</th>\n",
       "      <th>geometry</th>\n",
       "      <th>index_right</th>\n",
       "      <th>GEOID10</th>\n",
       "      <th>...</th>\n",
       "      <th>DP0200001</th>\n",
       "      <th>DP0210001</th>\n",
       "      <th>DP0210002</th>\n",
       "      <th>DP0210003</th>\n",
       "      <th>DP0220001</th>\n",
       "      <th>DP0220002</th>\n",
       "      <th>DP0230001</th>\n",
       "      <th>DP0230002</th>\n",
       "      <th>Shape_Leng</th>\n",
       "      <th>Shape_Area</th>\n",
       "    </tr>\n",
       "  </thead>\n",
       "  <tbody>\n",
       "    <tr>\n",
       "      <td>0</td>\n",
       "      <td>149.0</td>\n",
       "      <td>Behavioral Health</td>\n",
       "      <td>Older Adult Services</td>\n",
       "      <td>6355 Riverside Ave</td>\n",
       "      <td>Riverside</td>\n",
       "      <td>92506</td>\n",
       "      <td>951-369-0219</td>\n",
       "      <td>POINT (-117.3882025693238 33.95198116571342)</td>\n",
       "      <td>4314</td>\n",
       "      <td>06065031100</td>\n",
       "      <td>...</td>\n",
       "      <td>10.3</td>\n",
       "      <td>1613</td>\n",
       "      <td>905</td>\n",
       "      <td>708</td>\n",
       "      <td>2350</td>\n",
       "      <td>2069</td>\n",
       "      <td>2.60</td>\n",
       "      <td>2.92</td>\n",
       "      <td>0.075878</td>\n",
       "      <td>0.000283</td>\n",
       "    </tr>\n",
       "    <tr>\n",
       "      <td>25</td>\n",
       "      <td>146.0</td>\n",
       "      <td>Behavioral Health</td>\n",
       "      <td>Adult Mental Health Services - Central Clinic</td>\n",
       "      <td>6355 Riverside Ave</td>\n",
       "      <td>Riverside</td>\n",
       "      <td>92506</td>\n",
       "      <td>951-369-5714</td>\n",
       "      <td>POINT (-117.388194153081 33.95197775226014)</td>\n",
       "      <td>4314</td>\n",
       "      <td>06065031100</td>\n",
       "      <td>...</td>\n",
       "      <td>10.3</td>\n",
       "      <td>1613</td>\n",
       "      <td>905</td>\n",
       "      <td>708</td>\n",
       "      <td>2350</td>\n",
       "      <td>2069</td>\n",
       "      <td>2.60</td>\n",
       "      <td>2.92</td>\n",
       "      <td>0.075878</td>\n",
       "      <td>0.000283</td>\n",
       "    </tr>\n",
       "    <tr>\n",
       "      <td>1</td>\n",
       "      <td>150.0</td>\n",
       "      <td>Behavioral Health</td>\n",
       "      <td>Children'S Treatment Services</td>\n",
       "      <td>9990 County Farm Rd</td>\n",
       "      <td>Riverside</td>\n",
       "      <td>92503</td>\n",
       "      <td>951-358-4840</td>\n",
       "      <td>POINT (-117.4567468879781 33.92002609584617)</td>\n",
       "      <td>4291</td>\n",
       "      <td>06065041201</td>\n",
       "      <td>...</td>\n",
       "      <td>4.0</td>\n",
       "      <td>1064</td>\n",
       "      <td>628</td>\n",
       "      <td>436</td>\n",
       "      <td>2592</td>\n",
       "      <td>1423</td>\n",
       "      <td>4.13</td>\n",
       "      <td>3.26</td>\n",
       "      <td>0.071462</td>\n",
       "      <td>0.000252</td>\n",
       "    </tr>\n",
       "    <tr>\n",
       "      <td>4</td>\n",
       "      <td>152.0</td>\n",
       "      <td>Behavioral Health</td>\n",
       "      <td>Interagency Services For Families</td>\n",
       "      <td>9890 County Farm Rd</td>\n",
       "      <td>Riverside</td>\n",
       "      <td>92503</td>\n",
       "      <td>951-358-4850</td>\n",
       "      <td>POINT (-117.4554827389969 33.92001386400803)</td>\n",
       "      <td>4291</td>\n",
       "      <td>06065041201</td>\n",
       "      <td>...</td>\n",
       "      <td>4.0</td>\n",
       "      <td>1064</td>\n",
       "      <td>628</td>\n",
       "      <td>436</td>\n",
       "      <td>2592</td>\n",
       "      <td>1423</td>\n",
       "      <td>4.13</td>\n",
       "      <td>3.26</td>\n",
       "      <td>0.071462</td>\n",
       "      <td>0.000252</td>\n",
       "    </tr>\n",
       "    <tr>\n",
       "      <td>5</td>\n",
       "      <td>448.0</td>\n",
       "      <td>Behavioral Health</td>\n",
       "      <td>Children'S Evaluation Services Unite</td>\n",
       "      <td>9990 County Farm Rd</td>\n",
       "      <td>Riverside</td>\n",
       "      <td>92503</td>\n",
       "      <td>951-358-7380</td>\n",
       "      <td>POINT (-117.4567468879781 33.92002609584617)</td>\n",
       "      <td>4291</td>\n",
       "      <td>06065041201</td>\n",
       "      <td>...</td>\n",
       "      <td>4.0</td>\n",
       "      <td>1064</td>\n",
       "      <td>628</td>\n",
       "      <td>436</td>\n",
       "      <td>2592</td>\n",
       "      <td>1423</td>\n",
       "      <td>4.13</td>\n",
       "      <td>3.26</td>\n",
       "      <td>0.071462</td>\n",
       "      <td>0.000252</td>\n",
       "    </tr>\n",
       "  </tbody>\n",
       "</table>\n",
       "<p>5 rows × 203 columns</p>\n",
       "</div>"
      ],
      "text/plain": [
       "    OBJECTID          SITE_TYPE  \\\n",
       "0      149.0  Behavioral Health   \n",
       "25     146.0  Behavioral Health   \n",
       "1      150.0  Behavioral Health   \n",
       "4      152.0  Behavioral Health   \n",
       "5      448.0  Behavioral Health   \n",
       "\n",
       "                                        SITE_NAME              ADDRESS  \\\n",
       "0                            Older Adult Services   6355 Riverside Ave   \n",
       "25  Adult Mental Health Services - Central Clinic   6355 Riverside Ave   \n",
       "1                   Children'S Treatment Services  9990 County Farm Rd   \n",
       "4               Interagency Services For Families  9890 County Farm Rd   \n",
       "5            Children'S Evaluation Services Unite  9990 County Farm Rd   \n",
       "\n",
       "         CITY  ZIPCODE         PHONE  \\\n",
       "0   Riverside    92506  951-369-0219   \n",
       "25  Riverside    92506  951-369-5714   \n",
       "1   Riverside    92503  951-358-4840   \n",
       "4   Riverside    92503  951-358-4850   \n",
       "5   Riverside    92503  951-358-7380   \n",
       "\n",
       "                                        geometry  index_right      GEOID10  \\\n",
       "0   POINT (-117.3882025693238 33.95198116571342)         4314  06065031100   \n",
       "25   POINT (-117.388194153081 33.95197775226014)         4314  06065031100   \n",
       "1   POINT (-117.4567468879781 33.92002609584617)         4291  06065041201   \n",
       "4   POINT (-117.4554827389969 33.92001386400803)         4291  06065041201   \n",
       "5   POINT (-117.4567468879781 33.92002609584617)         4291  06065041201   \n",
       "\n",
       "    ... DP0200001  DP0210001  DP0210002 DP0210003 DP0220001  DP0220002  \\\n",
       "0   ...      10.3       1613        905       708      2350       2069   \n",
       "25  ...      10.3       1613        905       708      2350       2069   \n",
       "1   ...       4.0       1064        628       436      2592       1423   \n",
       "4   ...       4.0       1064        628       436      2592       1423   \n",
       "5   ...       4.0       1064        628       436      2592       1423   \n",
       "\n",
       "    DP0230001  DP0230002  Shape_Leng  Shape_Area  \n",
       "0        2.60       2.92    0.075878    0.000283  \n",
       "25       2.60       2.92    0.075878    0.000283  \n",
       "1        4.13       3.26    0.071462    0.000252  \n",
       "4        4.13       3.26    0.071462    0.000252  \n",
       "5        4.13       3.26    0.071462    0.000252  \n",
       "\n",
       "[5 rows x 203 columns]"
      ]
     },
     "execution_count": 74,
     "metadata": {},
     "output_type": "execute_result"
    }
   ],
   "source": [
    "clinics_tracts.head()"
   ]
  },
  {
   "cell_type": "code",
   "execution_count": 75,
   "metadata": {},
   "outputs": [
    {
     "data": {
      "text/plain": [
       "(28, 203)"
      ]
     },
     "execution_count": 75,
     "metadata": {},
     "output_type": "execute_result"
    }
   ],
   "source": [
    "clinics_tracts.shape"
   ]
  },
  {
   "cell_type": "code",
   "execution_count": 76,
   "metadata": {},
   "outputs": [
    {
     "data": {
      "text/plain": [
       "Index(['OBJECTID', 'SITE_TYPE', 'SITE_NAME', 'ADDRESS', 'CITY', 'ZIPCODE',\n",
       "       'PHONE', 'geometry'],\n",
       "      dtype='object')"
      ]
     },
     "execution_count": 76,
     "metadata": {},
     "output_type": "execute_result"
    }
   ],
   "source": [
    "clinics_df.columns"
   ]
  },
  {
   "cell_type": "code",
   "execution_count": 77,
   "metadata": {},
   "outputs": [
    {
     "data": {
      "text/plain": [
       "Index(['OBJECTID', 'SITE_TYPE', 'SITE_NAME', 'ADDRESS', 'CITY', 'ZIPCODE',\n",
       "       'PHONE', 'geometry', 'index_right', 'GEOID10',\n",
       "       ...\n",
       "       'DP0200001', 'DP0210001', 'DP0210002', 'DP0210003', 'DP0220001',\n",
       "       'DP0220002', 'DP0230001', 'DP0230002', 'Shape_Leng', 'Shape_Area'],\n",
       "      dtype='object', length=203)"
      ]
     },
     "execution_count": 77,
     "metadata": {},
     "output_type": "execute_result"
    }
   ],
   "source": [
    "clinics_tracts.columns"
   ]
  },
  {
   "cell_type": "code",
   "execution_count": 78,
   "metadata": {},
   "outputs": [],
   "source": [
    "# GEOID10 is now attached to each clinic (i.e., tract identifier)"
   ]
  },
  {
   "cell_type": "code",
   "execution_count": 79,
   "metadata": {},
   "outputs": [
    {
     "data": {
      "text/html": [
       "<div>\n",
       "<style scoped>\n",
       "    .dataframe tbody tr th:only-of-type {\n",
       "        vertical-align: middle;\n",
       "    }\n",
       "\n",
       "    .dataframe tbody tr th {\n",
       "        vertical-align: top;\n",
       "    }\n",
       "\n",
       "    .dataframe thead th {\n",
       "        text-align: right;\n",
       "    }\n",
       "</style>\n",
       "<table border=\"1\" class=\"dataframe\">\n",
       "  <thead>\n",
       "    <tr style=\"text-align: right;\">\n",
       "      <th></th>\n",
       "      <th>index_right</th>\n",
       "    </tr>\n",
       "    <tr>\n",
       "      <th>GEOID10</th>\n",
       "      <th></th>\n",
       "    </tr>\n",
       "  </thead>\n",
       "  <tbody>\n",
       "    <tr>\n",
       "      <td>06065031100</td>\n",
       "      <td>2</td>\n",
       "    </tr>\n",
       "    <tr>\n",
       "      <td>06065040809</td>\n",
       "      <td>1</td>\n",
       "    </tr>\n",
       "    <tr>\n",
       "      <td>06065041201</td>\n",
       "      <td>7</td>\n",
       "    </tr>\n",
       "    <tr>\n",
       "      <td>06065041813</td>\n",
       "      <td>1</td>\n",
       "    </tr>\n",
       "    <tr>\n",
       "      <td>06065042209</td>\n",
       "      <td>3</td>\n",
       "    </tr>\n",
       "    <tr>\n",
       "      <td>06065042210</td>\n",
       "      <td>1</td>\n",
       "    </tr>\n",
       "    <tr>\n",
       "      <td>06065042512</td>\n",
       "      <td>1</td>\n",
       "    </tr>\n",
       "    <tr>\n",
       "      <td>06065042620</td>\n",
       "      <td>1</td>\n",
       "    </tr>\n",
       "    <tr>\n",
       "      <td>06065043507</td>\n",
       "      <td>2</td>\n",
       "    </tr>\n",
       "    <tr>\n",
       "      <td>06065044101</td>\n",
       "      <td>1</td>\n",
       "    </tr>\n",
       "    <tr>\n",
       "      <td>06065045000</td>\n",
       "      <td>2</td>\n",
       "    </tr>\n",
       "    <tr>\n",
       "      <td>06065045303</td>\n",
       "      <td>1</td>\n",
       "    </tr>\n",
       "    <tr>\n",
       "      <td>06065045501</td>\n",
       "      <td>1</td>\n",
       "    </tr>\n",
       "    <tr>\n",
       "      <td>06065046102</td>\n",
       "      <td>1</td>\n",
       "    </tr>\n",
       "    <tr>\n",
       "      <td>06065049600</td>\n",
       "      <td>2</td>\n",
       "    </tr>\n",
       "    <tr>\n",
       "      <td>06065051300</td>\n",
       "      <td>1</td>\n",
       "    </tr>\n",
       "  </tbody>\n",
       "</table>\n",
       "</div>"
      ],
      "text/plain": [
       "             index_right\n",
       "GEOID10                 \n",
       "06065031100            2\n",
       "06065040809            1\n",
       "06065041201            7\n",
       "06065041813            1\n",
       "06065042209            3\n",
       "06065042210            1\n",
       "06065042512            1\n",
       "06065042620            1\n",
       "06065043507            2\n",
       "06065044101            1\n",
       "06065045000            2\n",
       "06065045303            1\n",
       "06065045501            1\n",
       "06065046102            1\n",
       "06065049600            2\n",
       "06065051300            1"
      ]
     },
     "execution_count": 79,
     "metadata": {},
     "output_type": "execute_result"
    }
   ],
   "source": [
    "clinics_tracts[['GEOID10', 'index_right']].groupby('GEOID10').agg('count')"
   ]
  },
  {
   "cell_type": "code",
   "execution_count": 80,
   "metadata": {},
   "outputs": [
    {
     "data": {
      "text/plain": [
       "GEOID10\n",
       "06065031100    2\n",
       "06065040809    1\n",
       "06065041201    7\n",
       "06065041813    1\n",
       "06065042209    3\n",
       "06065042210    1\n",
       "06065042512    1\n",
       "06065042620    1\n",
       "06065043507    2\n",
       "06065044101    1\n",
       "06065045000    2\n",
       "06065045303    1\n",
       "06065045501    1\n",
       "06065046102    1\n",
       "06065049600    2\n",
       "06065051300    1\n",
       "dtype: int64"
      ]
     },
     "execution_count": 80,
     "metadata": {},
     "output_type": "execute_result"
    }
   ],
   "source": [
    "clinics_tracts.groupby(['GEOID10']).size()"
   ]
  },
  {
   "cell_type": "code",
   "execution_count": 81,
   "metadata": {},
   "outputs": [
    {
     "data": {
      "text/html": [
       "<div>\n",
       "<style scoped>\n",
       "    .dataframe tbody tr th:only-of-type {\n",
       "        vertical-align: middle;\n",
       "    }\n",
       "\n",
       "    .dataframe tbody tr th {\n",
       "        vertical-align: top;\n",
       "    }\n",
       "\n",
       "    .dataframe thead th {\n",
       "        text-align: right;\n",
       "    }\n",
       "</style>\n",
       "<table border=\"1\" class=\"dataframe\">\n",
       "  <thead>\n",
       "    <tr style=\"text-align: right;\">\n",
       "      <th></th>\n",
       "      <th>GEOID10</th>\n",
       "      <th>clinics</th>\n",
       "    </tr>\n",
       "  </thead>\n",
       "  <tbody>\n",
       "    <tr>\n",
       "      <td>0</td>\n",
       "      <td>06065031100</td>\n",
       "      <td>2</td>\n",
       "    </tr>\n",
       "    <tr>\n",
       "      <td>1</td>\n",
       "      <td>06065040809</td>\n",
       "      <td>1</td>\n",
       "    </tr>\n",
       "    <tr>\n",
       "      <td>2</td>\n",
       "      <td>06065041201</td>\n",
       "      <td>7</td>\n",
       "    </tr>\n",
       "    <tr>\n",
       "      <td>3</td>\n",
       "      <td>06065041813</td>\n",
       "      <td>1</td>\n",
       "    </tr>\n",
       "    <tr>\n",
       "      <td>4</td>\n",
       "      <td>06065042209</td>\n",
       "      <td>3</td>\n",
       "    </tr>\n",
       "    <tr>\n",
       "      <td>5</td>\n",
       "      <td>06065042210</td>\n",
       "      <td>1</td>\n",
       "    </tr>\n",
       "    <tr>\n",
       "      <td>6</td>\n",
       "      <td>06065042512</td>\n",
       "      <td>1</td>\n",
       "    </tr>\n",
       "    <tr>\n",
       "      <td>7</td>\n",
       "      <td>06065042620</td>\n",
       "      <td>1</td>\n",
       "    </tr>\n",
       "    <tr>\n",
       "      <td>8</td>\n",
       "      <td>06065043507</td>\n",
       "      <td>2</td>\n",
       "    </tr>\n",
       "    <tr>\n",
       "      <td>9</td>\n",
       "      <td>06065044101</td>\n",
       "      <td>1</td>\n",
       "    </tr>\n",
       "    <tr>\n",
       "      <td>10</td>\n",
       "      <td>06065045000</td>\n",
       "      <td>2</td>\n",
       "    </tr>\n",
       "    <tr>\n",
       "      <td>11</td>\n",
       "      <td>06065045303</td>\n",
       "      <td>1</td>\n",
       "    </tr>\n",
       "    <tr>\n",
       "      <td>12</td>\n",
       "      <td>06065045501</td>\n",
       "      <td>1</td>\n",
       "    </tr>\n",
       "    <tr>\n",
       "      <td>13</td>\n",
       "      <td>06065046102</td>\n",
       "      <td>1</td>\n",
       "    </tr>\n",
       "    <tr>\n",
       "      <td>14</td>\n",
       "      <td>06065049600</td>\n",
       "      <td>2</td>\n",
       "    </tr>\n",
       "    <tr>\n",
       "      <td>15</td>\n",
       "      <td>06065051300</td>\n",
       "      <td>1</td>\n",
       "    </tr>\n",
       "  </tbody>\n",
       "</table>\n",
       "</div>"
      ],
      "text/plain": [
       "        GEOID10  clinics\n",
       "0   06065031100        2\n",
       "1   06065040809        1\n",
       "2   06065041201        7\n",
       "3   06065041813        1\n",
       "4   06065042209        3\n",
       "5   06065042210        1\n",
       "6   06065042512        1\n",
       "7   06065042620        1\n",
       "8   06065043507        2\n",
       "9   06065044101        1\n",
       "10  06065045000        2\n",
       "11  06065045303        1\n",
       "12  06065045501        1\n",
       "13  06065046102        1\n",
       "14  06065049600        2\n",
       "15  06065051300        1"
      ]
     },
     "execution_count": 81,
     "metadata": {},
     "output_type": "execute_result"
    }
   ],
   "source": [
    "clinics_tracts.groupby(['GEOID10']).size().reset_index(name='clinics')"
   ]
  },
  {
   "cell_type": "code",
   "execution_count": 82,
   "metadata": {},
   "outputs": [],
   "source": [
    "twc = clinics_tracts.groupby(['GEOID10']).size().reset_index(name='clinics')"
   ]
  },
  {
   "cell_type": "code",
   "execution_count": 83,
   "metadata": {},
   "outputs": [
    {
     "data": {
      "text/plain": [
       "<matplotlib.axes._subplots.AxesSubplot at 0x7fa31ba0fac8>"
      ]
     },
     "execution_count": 83,
     "metadata": {},
     "output_type": "execute_result"
    },
    {
     "data": {
      "image/png": "[encoded data removed]",
      "text/plain": [
       "<Figure size 432x288 with 1 Axes>"
      ]
     },
     "metadata": {
      "needs_background": "light"
     },
     "output_type": "display_data"
    }
   ],
   "source": [
    "twc.plot()"
   ]
  },
  {
   "cell_type": "code",
   "execution_count": 84,
   "metadata": {},
   "outputs": [],
   "source": [
    "riverside_tracts_clinics = riverside_tracts.merge(twc, how='left', on='GEOID10')"
   ]
  },
  {
   "cell_type": "code",
   "execution_count": 85,
   "metadata": {},
   "outputs": [
    {
     "data": {
      "text/html": [
       "<div>\n",
       "<style scoped>\n",
       "    .dataframe tbody tr th:only-of-type {\n",
       "        vertical-align: middle;\n",
       "    }\n",
       "\n",
       "    .dataframe tbody tr th {\n",
       "        vertical-align: top;\n",
       "    }\n",
       "\n",
       "    .dataframe thead th {\n",
       "        text-align: right;\n",
       "    }\n",
       "</style>\n",
       "<table border=\"1\" class=\"dataframe\">\n",
       "  <thead>\n",
       "    <tr style=\"text-align: right;\">\n",
       "      <th></th>\n",
       "      <th>GEOID10</th>\n",
       "      <th>NAMELSAD10</th>\n",
       "      <th>ALAND10</th>\n",
       "      <th>AWATER10</th>\n",
       "      <th>INTPTLAT10</th>\n",
       "      <th>INTPTLON10</th>\n",
       "      <th>DP0010001</th>\n",
       "      <th>DP0010002</th>\n",
       "      <th>DP0010003</th>\n",
       "      <th>DP0010004</th>\n",
       "      <th>...</th>\n",
       "      <th>DP0210002</th>\n",
       "      <th>DP0210003</th>\n",
       "      <th>DP0220001</th>\n",
       "      <th>DP0220002</th>\n",
       "      <th>DP0230001</th>\n",
       "      <th>DP0230002</th>\n",
       "      <th>Shape_Leng</th>\n",
       "      <th>Shape_Area</th>\n",
       "      <th>geometry</th>\n",
       "      <th>clinics</th>\n",
       "    </tr>\n",
       "  </thead>\n",
       "  <tbody>\n",
       "    <tr>\n",
       "      <td>0</td>\n",
       "      <td>06065042012</td>\n",
       "      <td>Census Tract 420.12</td>\n",
       "      <td>2687173.0</td>\n",
       "      <td>0.0</td>\n",
       "      <td>+33.9108776</td>\n",
       "      <td>-117.3205065</td>\n",
       "      <td>6242</td>\n",
       "      <td>420</td>\n",
       "      <td>545</td>\n",
       "      <td>620</td>\n",
       "      <td>...</td>\n",
       "      <td>1142</td>\n",
       "      <td>826</td>\n",
       "      <td>3927</td>\n",
       "      <td>2299</td>\n",
       "      <td>3.44</td>\n",
       "      <td>2.78</td>\n",
       "      <td>0.095958</td>\n",
       "      <td>0.000262</td>\n",
       "      <td>POLYGON ((-117.300465 33.91310800000002, -117....</td>\n",
       "      <td>NaN</td>\n",
       "    </tr>\n",
       "    <tr>\n",
       "      <td>1</td>\n",
       "      <td>06065041911</td>\n",
       "      <td>Census Tract 419.11</td>\n",
       "      <td>70257842.0</td>\n",
       "      <td>0.0</td>\n",
       "      <td>+33.7428832</td>\n",
       "      <td>-117.4957943</td>\n",
       "      <td>10258</td>\n",
       "      <td>840</td>\n",
       "      <td>844</td>\n",
       "      <td>806</td>\n",
       "      <td>...</td>\n",
       "      <td>2881</td>\n",
       "      <td>430</td>\n",
       "      <td>8710</td>\n",
       "      <td>1543</td>\n",
       "      <td>3.02</td>\n",
       "      <td>3.59</td>\n",
       "      <td>0.466106</td>\n",
       "      <td>0.006836</td>\n",
       "      <td>POLYGON ((-117.5101979999999 33.800273, -117.5...</td>\n",
       "      <td>NaN</td>\n",
       "    </tr>\n",
       "    <tr>\n",
       "      <td>2</td>\n",
       "      <td>06065041910</td>\n",
       "      <td>Census Tract 419.10</td>\n",
       "      <td>11167489.0</td>\n",
       "      <td>64225.0</td>\n",
       "      <td>+33.7892199</td>\n",
       "      <td>-117.4949771</td>\n",
       "      <td>6342</td>\n",
       "      <td>404</td>\n",
       "      <td>453</td>\n",
       "      <td>447</td>\n",
       "      <td>...</td>\n",
       "      <td>1823</td>\n",
       "      <td>350</td>\n",
       "      <td>5177</td>\n",
       "      <td>1165</td>\n",
       "      <td>2.84</td>\n",
       "      <td>3.33</td>\n",
       "      <td>0.200974</td>\n",
       "      <td>0.001093</td>\n",
       "      <td>POLYGON ((-117.5029849999999 33.82494899999995...</td>\n",
       "      <td>NaN</td>\n",
       "    </tr>\n",
       "    <tr>\n",
       "      <td>3</td>\n",
       "      <td>06065040816</td>\n",
       "      <td>Census Tract 408.16</td>\n",
       "      <td>1788821.0</td>\n",
       "      <td>0.0</td>\n",
       "      <td>+33.9024569</td>\n",
       "      <td>-117.5246107</td>\n",
       "      <td>2594</td>\n",
       "      <td>162</td>\n",
       "      <td>161</td>\n",
       "      <td>227</td>\n",
       "      <td>...</td>\n",
       "      <td>688</td>\n",
       "      <td>171</td>\n",
       "      <td>2133</td>\n",
       "      <td>451</td>\n",
       "      <td>3.10</td>\n",
       "      <td>2.64</td>\n",
       "      <td>0.082444</td>\n",
       "      <td>0.000174</td>\n",
       "      <td>POLYGON ((-117.515118 33.90096800000009, -117....</td>\n",
       "      <td>NaN</td>\n",
       "    </tr>\n",
       "    <tr>\n",
       "      <td>4</td>\n",
       "      <td>06065040815</td>\n",
       "      <td>Census Tract 408.15</td>\n",
       "      <td>1266779.0</td>\n",
       "      <td>0.0</td>\n",
       "      <td>+33.8930776</td>\n",
       "      <td>-117.5114997</td>\n",
       "      <td>3586</td>\n",
       "      <td>231</td>\n",
       "      <td>235</td>\n",
       "      <td>257</td>\n",
       "      <td>...</td>\n",
       "      <td>756</td>\n",
       "      <td>399</td>\n",
       "      <td>2462</td>\n",
       "      <td>1124</td>\n",
       "      <td>3.26</td>\n",
       "      <td>2.82</td>\n",
       "      <td>0.050637</td>\n",
       "      <td>0.000123</td>\n",
       "      <td>POLYGON ((-117.503863 33.89735700000011, -117....</td>\n",
       "      <td>NaN</td>\n",
       "    </tr>\n",
       "  </tbody>\n",
       "</table>\n",
       "<p>5 rows × 196 columns</p>\n",
       "</div>"
      ],
      "text/plain": [
       "       GEOID10           NAMELSAD10     ALAND10  AWATER10   INTPTLAT10  \\\n",
       "0  06065042012  Census Tract 420.12   2687173.0       0.0  +33.9108776   \n",
       "1  06065041911  Census Tract 419.11  70257842.0       0.0  +33.7428832   \n",
       "2  06065041910  Census Tract 419.10  11167489.0   64225.0  +33.7892199   \n",
       "3  06065040816  Census Tract 408.16   1788821.0       0.0  +33.9024569   \n",
       "4  06065040815  Census Tract 408.15   1266779.0       0.0  +33.8930776   \n",
       "\n",
       "     INTPTLON10  DP0010001  DP0010002  DP0010003  DP0010004  ...  DP0210002  \\\n",
       "0  -117.3205065       6242        420        545        620  ...       1142   \n",
       "1  -117.4957943      10258        840        844        806  ...       2881   \n",
       "2  -117.4949771       6342        404        453        447  ...       1823   \n",
       "3  -117.5246107       2594        162        161        227  ...        688   \n",
       "4  -117.5114997       3586        231        235        257  ...        756   \n",
       "\n",
       "   DP0210003  DP0220001  DP0220002  DP0230001  DP0230002  Shape_Leng  \\\n",
       "0        826       3927       2299       3.44       2.78    0.095958   \n",
       "1        430       8710       1543       3.02       3.59    0.466106   \n",
       "2        350       5177       1165       2.84       3.33    0.200974   \n",
       "3        171       2133        451       3.10       2.64    0.082444   \n",
       "4        399       2462       1124       3.26       2.82    0.050637   \n",
       "\n",
       "   Shape_Area                                           geometry  clinics  \n",
       "0    0.000262  POLYGON ((-117.300465 33.91310800000002, -117....      NaN  \n",
       "1    0.006836  POLYGON ((-117.5101979999999 33.800273, -117.5...      NaN  \n",
       "2    0.001093  POLYGON ((-117.5029849999999 33.82494899999995...      NaN  \n",
       "3    0.000174  POLYGON ((-117.515118 33.90096800000009, -117....      NaN  \n",
       "4    0.000123  POLYGON ((-117.503863 33.89735700000011, -117....      NaN  \n",
       "\n",
       "[5 rows x 196 columns]"
      ]
     },
     "execution_count": 85,
     "metadata": {},
     "output_type": "execute_result"
    }
   ],
   "source": [
    "riverside_tracts_clinics.head()"
   ]
  },
  {
   "cell_type": "code",
   "execution_count": 86,
   "metadata": {},
   "outputs": [],
   "source": [
    "riverside_tracts_clinics.fillna(value=0, inplace=True)"
   ]
  },
  {
   "cell_type": "code",
   "execution_count": 87,
   "metadata": {},
   "outputs": [
    {
     "data": {
      "text/html": [
       "<div>\n",
       "<style scoped>\n",
       "    .dataframe tbody tr th:only-of-type {\n",
       "        vertical-align: middle;\n",
       "    }\n",
       "\n",
       "    .dataframe tbody tr th {\n",
       "        vertical-align: top;\n",
       "    }\n",
       "\n",
       "    .dataframe thead th {\n",
       "        text-align: right;\n",
       "    }\n",
       "</style>\n",
       "<table border=\"1\" class=\"dataframe\">\n",
       "  <thead>\n",
       "    <tr style=\"text-align: right;\">\n",
       "      <th></th>\n",
       "      <th>GEOID10</th>\n",
       "      <th>NAMELSAD10</th>\n",
       "      <th>ALAND10</th>\n",
       "      <th>AWATER10</th>\n",
       "      <th>INTPTLAT10</th>\n",
       "      <th>INTPTLON10</th>\n",
       "      <th>DP0010001</th>\n",
       "      <th>DP0010002</th>\n",
       "      <th>DP0010003</th>\n",
       "      <th>DP0010004</th>\n",
       "      <th>...</th>\n",
       "      <th>DP0210002</th>\n",
       "      <th>DP0210003</th>\n",
       "      <th>DP0220001</th>\n",
       "      <th>DP0220002</th>\n",
       "      <th>DP0230001</th>\n",
       "      <th>DP0230002</th>\n",
       "      <th>Shape_Leng</th>\n",
       "      <th>Shape_Area</th>\n",
       "      <th>geometry</th>\n",
       "      <th>clinics</th>\n",
       "    </tr>\n",
       "  </thead>\n",
       "  <tbody>\n",
       "    <tr>\n",
       "      <td>0</td>\n",
       "      <td>06065042012</td>\n",
       "      <td>Census Tract 420.12</td>\n",
       "      <td>2687173.0</td>\n",
       "      <td>0.0</td>\n",
       "      <td>+33.9108776</td>\n",
       "      <td>-117.3205065</td>\n",
       "      <td>6242</td>\n",
       "      <td>420</td>\n",
       "      <td>545</td>\n",
       "      <td>620</td>\n",
       "      <td>...</td>\n",
       "      <td>1142</td>\n",
       "      <td>826</td>\n",
       "      <td>3927</td>\n",
       "      <td>2299</td>\n",
       "      <td>3.44</td>\n",
       "      <td>2.78</td>\n",
       "      <td>0.095958</td>\n",
       "      <td>0.000262</td>\n",
       "      <td>POLYGON ((-117.300465 33.91310800000002, -117....</td>\n",
       "      <td>0.0</td>\n",
       "    </tr>\n",
       "    <tr>\n",
       "      <td>1</td>\n",
       "      <td>06065041911</td>\n",
       "      <td>Census Tract 419.11</td>\n",
       "      <td>70257842.0</td>\n",
       "      <td>0.0</td>\n",
       "      <td>+33.7428832</td>\n",
       "      <td>-117.4957943</td>\n",
       "      <td>10258</td>\n",
       "      <td>840</td>\n",
       "      <td>844</td>\n",
       "      <td>806</td>\n",
       "      <td>...</td>\n",
       "      <td>2881</td>\n",
       "      <td>430</td>\n",
       "      <td>8710</td>\n",
       "      <td>1543</td>\n",
       "      <td>3.02</td>\n",
       "      <td>3.59</td>\n",
       "      <td>0.466106</td>\n",
       "      <td>0.006836</td>\n",
       "      <td>POLYGON ((-117.5101979999999 33.800273, -117.5...</td>\n",
       "      <td>0.0</td>\n",
       "    </tr>\n",
       "    <tr>\n",
       "      <td>2</td>\n",
       "      <td>06065041910</td>\n",
       "      <td>Census Tract 419.10</td>\n",
       "      <td>11167489.0</td>\n",
       "      <td>64225.0</td>\n",
       "      <td>+33.7892199</td>\n",
       "      <td>-117.4949771</td>\n",
       "      <td>6342</td>\n",
       "      <td>404</td>\n",
       "      <td>453</td>\n",
       "      <td>447</td>\n",
       "      <td>...</td>\n",
       "      <td>1823</td>\n",
       "      <td>350</td>\n",
       "      <td>5177</td>\n",
       "      <td>1165</td>\n",
       "      <td>2.84</td>\n",
       "      <td>3.33</td>\n",
       "      <td>0.200974</td>\n",
       "      <td>0.001093</td>\n",
       "      <td>POLYGON ((-117.5029849999999 33.82494899999995...</td>\n",
       "      <td>0.0</td>\n",
       "    </tr>\n",
       "    <tr>\n",
       "      <td>3</td>\n",
       "      <td>06065040816</td>\n",
       "      <td>Census Tract 408.16</td>\n",
       "      <td>1788821.0</td>\n",
       "      <td>0.0</td>\n",
       "      <td>+33.9024569</td>\n",
       "      <td>-117.5246107</td>\n",
       "      <td>2594</td>\n",
       "      <td>162</td>\n",
       "      <td>161</td>\n",
       "      <td>227</td>\n",
       "      <td>...</td>\n",
       "      <td>688</td>\n",
       "      <td>171</td>\n",
       "      <td>2133</td>\n",
       "      <td>451</td>\n",
       "      <td>3.10</td>\n",
       "      <td>2.64</td>\n",
       "      <td>0.082444</td>\n",
       "      <td>0.000174</td>\n",
       "      <td>POLYGON ((-117.515118 33.90096800000009, -117....</td>\n",
       "      <td>0.0</td>\n",
       "    </tr>\n",
       "    <tr>\n",
       "      <td>4</td>\n",
       "      <td>06065040815</td>\n",
       "      <td>Census Tract 408.15</td>\n",
       "      <td>1266779.0</td>\n",
       "      <td>0.0</td>\n",
       "      <td>+33.8930776</td>\n",
       "      <td>-117.5114997</td>\n",
       "      <td>3586</td>\n",
       "      <td>231</td>\n",
       "      <td>235</td>\n",
       "      <td>257</td>\n",
       "      <td>...</td>\n",
       "      <td>756</td>\n",
       "      <td>399</td>\n",
       "      <td>2462</td>\n",
       "      <td>1124</td>\n",
       "      <td>3.26</td>\n",
       "      <td>2.82</td>\n",
       "      <td>0.050637</td>\n",
       "      <td>0.000123</td>\n",
       "      <td>POLYGON ((-117.503863 33.89735700000011, -117....</td>\n",
       "      <td>0.0</td>\n",
       "    </tr>\n",
       "  </tbody>\n",
       "</table>\n",
       "<p>5 rows × 196 columns</p>\n",
       "</div>"
      ],
      "text/plain": [
       "       GEOID10           NAMELSAD10     ALAND10  AWATER10   INTPTLAT10  \\\n",
       "0  06065042012  Census Tract 420.12   2687173.0       0.0  +33.9108776   \n",
       "1  06065041911  Census Tract 419.11  70257842.0       0.0  +33.7428832   \n",
       "2  06065041910  Census Tract 419.10  11167489.0   64225.0  +33.7892199   \n",
       "3  06065040816  Census Tract 408.16   1788821.0       0.0  +33.9024569   \n",
       "4  06065040815  Census Tract 408.15   1266779.0       0.0  +33.8930776   \n",
       "\n",
       "     INTPTLON10  DP0010001  DP0010002  DP0010003  DP0010004  ...  DP0210002  \\\n",
       "0  -117.3205065       6242        420        545        620  ...       1142   \n",
       "1  -117.4957943      10258        840        844        806  ...       2881   \n",
       "2  -117.4949771       6342        404        453        447  ...       1823   \n",
       "3  -117.5246107       2594        162        161        227  ...        688   \n",
       "4  -117.5114997       3586        231        235        257  ...        756   \n",
       "\n",
       "   DP0210003  DP0220001  DP0220002  DP0230001  DP0230002  Shape_Leng  \\\n",
       "0        826       3927       2299       3.44       2.78    0.095958   \n",
       "1        430       8710       1543       3.02       3.59    0.466106   \n",
       "2        350       5177       1165       2.84       3.33    0.200974   \n",
       "3        171       2133        451       3.10       2.64    0.082444   \n",
       "4        399       2462       1124       3.26       2.82    0.050637   \n",
       "\n",
       "   Shape_Area                                           geometry  clinics  \n",
       "0    0.000262  POLYGON ((-117.300465 33.91310800000002, -117....      0.0  \n",
       "1    0.006836  POLYGON ((-117.5101979999999 33.800273, -117.5...      0.0  \n",
       "2    0.001093  POLYGON ((-117.5029849999999 33.82494899999995...      0.0  \n",
       "3    0.000174  POLYGON ((-117.515118 33.90096800000009, -117....      0.0  \n",
       "4    0.000123  POLYGON ((-117.503863 33.89735700000011, -117....      0.0  \n",
       "\n",
       "[5 rows x 196 columns]"
      ]
     },
     "execution_count": 87,
     "metadata": {},
     "output_type": "execute_result"
    }
   ],
   "source": [
    "riverside_tracts_clinics.head()"
   ]
  },
  {
   "cell_type": "code",
   "execution_count": 88,
   "metadata": {},
   "outputs": [
    {
     "data": {
      "text/plain": [
       "28.0"
      ]
     },
     "execution_count": 88,
     "metadata": {},
     "output_type": "execute_result"
    }
   ],
   "source": [
    "riverside_tracts_clinics['clinics'].sum()"
   ]
  },
  {
   "cell_type": "markdown",
   "metadata": {},
   "source": [
    "Writing Shapefiles\n",
    "=================="
   ]
  },
  {
   "cell_type": "code",
   "execution_count": 89,
   "metadata": {},
   "outputs": [],
   "source": [
    "# save to a new shapefile\n",
    "riverside_tracts_clinics.to_file('data/clinics.shp')"
   ]
  },
  {
   "cell_type": "markdown",
   "metadata": {},
   "source": [
    "---\n",
    "\n",
    "<a rel=\"license\" href=\"http://creativecommons.org/licenses/by-nc-\n",
    "sa/4.0/\"><img alt=\"Creative Commons License\" style=\"border-width:0\"\n",
    "src=\"https://i.creativecommons.org/l/by-nc-sa/4.0/88x31.png\" /></a><br /><span\n",
    "xmlns:dct=\"http://purl.org/dc/terms/\" property=\"dct:title\">Introduction to GeoPandas</span> by <a xmlns:cc=\"http://creativecommons.org/ns#\"\n",
    "href=\"http://sergerey.org\" property=\"cc:attributionName\"\n",
    "rel=\"cc:attributionURL\">Serge Rey</a> is licensed under a <a\n",
    "rel=\"license\" href=\"http://creativecommons.org/licenses/by-nc-sa/4.0/\">Creative\n",
    "Commons Attribution-NonCommercial-ShareAlike 4.0 International License</a>."
   ]
  },
  {
   "cell_type": "code",
   "execution_count": null,
   "metadata": {},
   "outputs": [],
   "source": []
  },
  {
   "cell_type": "code",
   "execution_count": null,
   "metadata": {},
   "outputs": [],
   "source": []
  },
  {
   "cell_type": "code",
   "execution_count": null,
   "metadata": {},
   "outputs": [],
   "source": []
  }
 ],
 "metadata": {
  "jupytext": {
   "formats": "ipynb,md"
  },
  "kernelspec": {
   "display_name": "Python 3",
   "language": "python",
   "name": "python3"
  },
  "language_info": {
   "codemirror_mode": {
    "name": "ipython",
    "version": 3
   },
   "file_extension": ".py",
   "mimetype": "text/x-python",
   "name": "python",
   "nbconvert_exporter": "python",
   "pygments_lexer": "ipython3",
   "version": "3.6.7"
  }
 },
 "nbformat": 4,
 "nbformat_minor": 2
}
