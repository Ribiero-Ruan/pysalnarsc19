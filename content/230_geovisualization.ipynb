{
 "cells": [
  {
   "cell_type": "markdown",
   "metadata": {},
   "source": [
    "# Geovisualization with PySAL\n",
    "\n",
    "\n",
    "\n",
    "## Introduction\n",
    "\n",
    "When the [Python Spatial Analysis Library](https://github.com/pysal), `PySAL`, was originally planned, the intention was to focus on the computational aspects of exploratory spatial data analysis and spatial econometric methods, while relying on existing GIS packages and visualization libraries for visualization of computations. Indeed, we have partnered with [esri](https://geodacenter.asu.edu/arc_pysal) and [QGIS](http://planet.qgis.org/planet/tag/pysal/ ) towards this end.\n",
    "\n",
    "However, over time we have received many requests for supporting basic geovisualization within PySAL so that the step of having to interoperate with an exertnal package can be avoided, thereby increasing the efficiency of the spatial analytical workflow.\n",
    "\n",
    "In 2018 we started building the [`splot`](https://gist.github.com/slumnitz/a86ef4a5b48b1b5fac41e91cfd05fff2) package which connects spatial analysis done in PySAL to popular visualisation toolkits like [`matplotlib`](https://matplotlib.org). It provides users quick access to visualise PySAL objects, offering different views on spatial analysis workflows. Ultimately, `splot` facilitates the creation of both static plots ready for publication and interactive visualisations for quick iteration and spatial data exploration.\n",
    "\n",
    "In this notebook, we demonstrate several approaches towards a particular subset of geovisualization methods, namely **choropleth maps**. We start with a exploratory workflow introducing mapclassify and geopandas to create different choropleth classifications and maps for quick exploratory data analysis. We then introduce the [`splot`](https://splot.readthedocs.io/en/latest/) package at the example of **Value-by-Alpha choropleth mapping**, where no other dependencies beyond PySAL are required. The idea here is to support quick generation of different views of your data to complement the statistical and econometric work in PySAL. Once your work has progressed to the publication stage, we point you to additional resources that can be used for publication quality output and interactive visualization.\n",
    "\n",
    "We then move on to `bokeh` that can be used in conjunction with PySAL for interactive choropleth mapping.\n",
    "\n",
    "\n"
   ]
  },
  {
   "cell_type": "markdown",
   "metadata": {},
   "source": [
    "### PySAL Map Classifiers\n"
   ]
  },
  {
   "cell_type": "code",
   "execution_count": null,
   "metadata": {},
   "outputs": [],
   "source": [
    "from pysal.viz import mapclassify\n",
    "import geopandas as gpd\n",
    "import matplotlib.pyplot as plt"
   ]
  },
  {
   "cell_type": "code",
   "execution_count": null,
   "metadata": {},
   "outputs": [],
   "source": [
    "shp_link = 'data/texas.shp'\n",
    "gdf = gpd.read_file(shp_link)"
   ]
  },
  {
   "cell_type": "code",
   "execution_count": null,
   "metadata": {},
   "outputs": [],
   "source": [
    "f, ax = plt.subplots(1, figsize=(7, 7))\n",
    "gdf.plot(column='HR90', scheme='QUANTILES', ax=ax,\n",
    "        edgecolor='white', legend=True)\n",
    "ax.set_axis_off()\n",
    "plt.show()"
   ]
  },
  {
   "cell_type": "code",
   "execution_count": null,
   "metadata": {},
   "outputs": [],
   "source": [
    "hr90 = gdf['HR90']\n",
    "hr90q5 = mapclassify.Quantiles(hr90, k=5)\n",
    "hr90q5"
   ]
  },
  {
   "cell_type": "code",
   "execution_count": null,
   "metadata": {},
   "outputs": [],
   "source": [
    "hr90q4 = mapclassify.Quantiles(hr90, k=4)\n",
    "hr90q4"
   ]
  },
  {
   "cell_type": "code",
   "execution_count": null,
   "metadata": {},
   "outputs": [],
   "source": [
    "hr90e5 = mapclassify.EqualInterval(hr90, k=5)\n",
    "hr90e5"
   ]
  },
  {
   "cell_type": "code",
   "execution_count": null,
   "metadata": {},
   "outputs": [],
   "source": [
    "hr90fj5 = mapclassify.FisherJenks(hr90, k=5)\n",
    "hr90fj5"
   ]
  },
  {
   "cell_type": "code",
   "execution_count": null,
   "metadata": {},
   "outputs": [],
   "source": [
    "hr90fj5.adcm # measure of fit: Absolute deviation around class means"
   ]
  },
  {
   "cell_type": "code",
   "execution_count": null,
   "metadata": {},
   "outputs": [],
   "source": [
    "hr90q5.adcm # the lower, counts in class are more similar"
   ]
  },
  {
   "cell_type": "code",
   "execution_count": null,
   "metadata": {},
   "outputs": [],
   "source": [
    "hr90e5.adcm"
   ]
  },
  {
   "cell_type": "code",
   "execution_count": null,
   "metadata": {},
   "outputs": [],
   "source": [
    "hr90fj5.yb[0:10] # what bin each value is placed in"
   ]
  },
  {
   "cell_type": "code",
   "execution_count": null,
   "metadata": {},
   "outputs": [],
   "source": [
    "hr90fj5.bins # upper bounds of each bin"
   ]
  },
  {
   "cell_type": "markdown",
   "metadata": {},
   "source": [
    "## GeoPandas"
   ]
  },
  {
   "cell_type": "code",
   "execution_count": null,
   "metadata": {},
   "outputs": [],
   "source": [
    "import geopandas as gpd\n",
    "shp_link = \"data/texas.shp\"\n",
    "tx = gpd.read_file(shp_link)\n",
    "tx.plot()"
   ]
  },
  {
   "cell_type": "code",
   "execution_count": null,
   "metadata": {},
   "outputs": [],
   "source": [
    "type(tx)"
   ]
  },
  {
   "cell_type": "code",
   "execution_count": null,
   "metadata": {},
   "outputs": [],
   "source": [
    "tx.plot(column='HR90', scheme='QUANTILES') # uses pysal classifier under the hood"
   ]
  },
  {
   "cell_type": "code",
   "execution_count": null,
   "metadata": {},
   "outputs": [],
   "source": [
    "tx.plot(column='HR90', scheme='QUANTILES', k=3, cmap='OrRd') # we need a continuous color map"
   ]
  },
  {
   "cell_type": "code",
   "execution_count": null,
   "metadata": {},
   "outputs": [],
   "source": [
    "tx.plot(column='HR90', scheme='QUANTILES', k=5, cmap='OrRd') # bump up to quintiles"
   ]
  },
  {
   "cell_type": "code",
   "execution_count": null,
   "metadata": {},
   "outputs": [],
   "source": [
    "tx.plot(color='green', alpha=0.6) # explore options, polygon fills, alpha values"
   ]
  },
  {
   "cell_type": "code",
   "execution_count": null,
   "metadata": {},
   "outputs": [],
   "source": [
    "?? gdf.plot"
   ]
  },
  {
   "cell_type": "code",
   "execution_count": null,
   "metadata": {},
   "outputs": [],
   "source": [
    "tx.plot(edgecolor='red') # border"
   ]
  },
  {
   "cell_type": "code",
   "execution_count": null,
   "metadata": {},
   "outputs": [],
   "source": [
    "import matplotlib.pyplot as plt # make plot larger\n",
    "\n",
    "f, ax = plt.subplots(1, figsize=(9, 9))\n",
    "tx.plot(column='HR90', scheme='QUANTILES', \\\n",
    "        k=6, cmap='OrRd', linewidth=0.1, ax=ax, \\\n",
    "        edgecolor='white', legend=True)\n",
    "ax.set_axis_off()\n",
    "plt.show()"
   ]
  },
  {
   "cell_type": "code",
   "execution_count": null,
   "metadata": {},
   "outputs": [],
   "source": [
    "f, ax = plt.subplots(1, figsize=(9, 9))\n",
    "tx.plot(column='HR90', scheme='equal_interval', \\\n",
    "        k=6, cmap='OrRd', linewidth=0.1, ax=ax, \\\n",
    "        edgecolor='white', legend=True)\n",
    "ax.set_axis_off()\n",
    "plt.show()"
   ]
  },
  {
   "cell_type": "markdown",
   "metadata": {},
   "source": [
    "## splot - PySAL visualization package"
   ]
  },
  {
   "cell_type": "markdown",
   "metadata": {},
   "source": [
    "In 2018 we started building the [`splot`](https://gist.github.com/slumnitz/a86ef4a5b48b1b5fac41e91cfd05fff2) package which connects spatial analysis done in the [Python Spatial Analysis Library](https://github.com/pysal), `PySAL`, to popular visualisation toolkits like [`matplotlib`](https://matplotlib.org). It provides users quick access to visualise PySAL objects, offering different views on spatial analysis workflows. Ultimately, `splot` facilitates the creation of both static plots ready for publication and interactive visualisations for quick iteration and spatial data exploration."
   ]
  },
  {
   "cell_type": "markdown",
   "metadata": {},
   "source": [
    "`splot` can be imported as it's own package or is part of the `pysal` metapackage found under:"
   ]
  },
  {
   "cell_type": "code",
   "execution_count": null,
   "metadata": {},
   "outputs": [],
   "source": [
    "from pysal.viz import splot"
   ]
  },
  {
   "cell_type": "markdown",
   "metadata": {},
   "source": [
    "Building on top of our experiences, `splot`'s functionality can be accessed in two main ways: \n",
    "* First, basic `splot` visualisations are exposed as `.plot` methods on PySAL objects. \n",
    "* Scond, all visualisations can be found and called using a `splot.'PySAL_sub-package'` namespace, depending on the previously analysed object that needs to be visualised (e.g.`pysal.viz.splot.giddy`)."
   ]
  },
  {
   "cell_type": "markdown",
   "metadata": {},
   "source": [
    "We recommend \n",
    "\n",
    "* [Chris Moffitt’s Effectively Using Matplotlib](https://pbpython.com/effective-matplotlib.html) as a crash course and\n",
    "* [Nicolas P. Rougier’s Matplotlib tutorial](https://github.com/rougier/matplotlib-tutorial) for an in-depth dive into matplotlib"
   ]
  },
  {
   "cell_type": "markdown",
   "metadata": {},
   "source": [
    "## Value-by-Alpha Choropleth"
   ]
  },
  {
   "cell_type": "markdown",
   "metadata": {},
   "source": [
    "#### splot.mapping"
   ]
  },
  {
   "cell_type": "markdown",
   "metadata": {},
   "source": [
    "In addition to object and `PySAL` sub-package specific analytical visualizations `splot` offers a range of `.mapping` and visualization utility functionality. This functionality can be extended in future to be `splot`'s designated core functionality, offering classic visual diagnostic tools for spatial analysis. Map and cartographic visualisations, for example, provide great potential to examine spatial processes, dynamics and relationships with only minor additional underlying data processing. Furthermore, this mapping fucntionality is not only advantageous to use on its own but a great addition to several `PySAL` sub-packages like `mapclassify`.\n",
    "\n",
    "`splot` functionality currently offers:\n",
    "* **Value-by-Alpha map functionality** including:\n",
    "    * `value_by_alpha_cmap()`\n",
    "    * `vba_choropleth()`\n",
    "    * `vba_legend()`\n",
    "* **`mapclassify` value binning** with `mapclassify_bin()`\n",
    "* **Colormap utilities** including:\n",
    "    * `shift_colormap()`\n",
    "    * `truncate_colormap()`"
   ]
  },
  {
   "cell_type": "markdown",
   "metadata": {},
   "source": [
    "#### Visual analytics using: vba_choropleth()"
   ]
  },
  {
   "cell_type": "markdown",
   "metadata": {},
   "source": [
    "In a nutshell, a Value-by-Alpha Choropleth is a bivariate choropleth that uses the values of the second input variable `y` as a transparency mask, determining how much of the choropleth displaying the values of a first variable `x` is shown. In comparison to a cartogram, Value-By-Alpha choropleths will not distort shapes and sizes but modify the alpha channel (transparency) of polygons according to the second input variable `y`. A Value-by-Alpha Choropleth is therefore another powerful tool to examine relationships of two variable in space."
   ]
  },
  {
   "cell_type": "code",
   "execution_count": null,
   "metadata": {},
   "outputs": [],
   "source": [
    "from pysal.viz.splot.mapping import vba_choropleth\n",
    "from pysal.lib import examples"
   ]
  },
  {
   "cell_type": "markdown",
   "metadata": {},
   "source": [
    "Load example data into a `geopandas.GeoDataFrame` and inspect column names. In this example we will use the `columbus.shp` file containing neighborhood crime data of 1980."
   ]
  },
  {
   "cell_type": "code",
   "execution_count": null,
   "metadata": {},
   "outputs": [],
   "source": [
    "link_to_data = examples.get_path('columbus.shp')\n",
    "gdf = gpd.read_file(link_to_data)\n",
    "gdf.columns"
   ]
  },
  {
   "cell_type": "code",
   "execution_count": null,
   "metadata": {},
   "outputs": [],
   "source": [
    "x = gdf['HOVAL'].values\n",
    "y = gdf['CRIME'].values"
   ]
  },
  {
   "cell_type": "markdown",
   "metadata": {},
   "source": [
    "We will plot a Value-by-Alpha Choropleth with `x` defining the rgb values and `y` defining the alpha value. For comparison we plot a choropleth of `x` with `gdf.plot()`:"
   ]
  },
  {
   "cell_type": "code",
   "execution_count": null,
   "metadata": {},
   "outputs": [],
   "source": [
    "# Create new figure\n",
    "fig, axs = plt.subplots(1,2, figsize=(20,10))\n",
    "\n",
    "# use gdf.plot() to create regular choropleth\n",
    "gdf.plot(column='HOVAL', scheme='quantiles', cmap='RdBu', ax=axs[0])\n",
    "\n",
    "# use vba_choropleth to create Value-by-Alpha Choropleth\n",
    "vba_choropleth(x, y, gdf, rgb_mapclassify=dict(classifier='quantiles'),\n",
    "               alpha_mapclassify=dict(classifier='quantiles'),\n",
    "               cmap='RdBu', ax=axs[1])\n",
    "\n",
    "# set figure style\n",
    "axs[0].set_title('normal Choropleth')\n",
    "axs[0].set_axis_off()\n",
    "axs[1].set_title('Value-by-Alpha Choropleth')\n",
    "\n",
    "# plot\n",
    "plt.show()"
   ]
  },
  {
   "cell_type": "markdown",
   "metadata": {},
   "source": [
    "You can see the original choropleth is fading into transparency wherever there is a high `y` value."
   ]
  },
  {
   "cell_type": "markdown",
   "metadata": {},
   "source": [
    "You can use the option to bin or classify your `x` and `y` values. `splot` uses mapclassify to bin your data and displays the new color and alpha ranges:"
   ]
  },
  {
   "cell_type": "code",
   "execution_count": null,
   "metadata": {},
   "outputs": [],
   "source": [
    "# Create new figure\n",
    "fig, axs = plt.subplots(2,2, figsize=(20,10))\n",
    "\n",
    "# classifier quantiles\n",
    "vba_choropleth(y, x, gdf, cmap='viridis', ax = axs[0,0],\n",
    "               rgb_mapclassify=dict(classifier='quantiles', k=3), \n",
    "               alpha_mapclassify=dict(classifier='quantiles', k=3))\n",
    "axs[0,0].set_title('quantiles')\n",
    "\n",
    "# classifier natural_breaks\n",
    "vba_choropleth(y, x, gdf, cmap='viridis', ax = axs[0,1],\n",
    "               rgb_mapclassify=dict(classifier='natural_breaks'), \n",
    "               alpha_mapclassify=dict(classifier='natural_breaks'))\n",
    "axs[0,0].set_title('natural-breakes')\n",
    "\n",
    "# classifier std_mean\n",
    "vba_choropleth(y, x, gdf, cmap='viridis', ax = axs[1,0],\n",
    "               rgb_mapclassify=dict(classifier='std_mean'), \n",
    "               alpha_mapclassify=dict(classifier='std_mean'))\n",
    "axs[0,0].set_title('std-mean')\n",
    "\n",
    "# classifier fisher_jenks\n",
    "vba_choropleth(y, x, gdf, cmap='viridis', ax = axs[1,1],\n",
    "               rgb_mapclassify=dict(classifier='fisher_jenks', k=3), \n",
    "               alpha_mapclassify=dict(classifier='fisher_jenks', k=3))\n",
    "axs[0,0].set_title('fisher-jenks')\n",
    "\n",
    "plt.show()"
   ]
  },
  {
   "cell_type": "markdown",
   "metadata": {},
   "source": [
    "Instead of using a colormap you can also pass a list of colors:"
   ]
  },
  {
   "cell_type": "code",
   "execution_count": null,
   "metadata": {},
   "outputs": [],
   "source": [
    "color_list = ['#a1dab4','#41b6c4','#225ea8']"
   ]
  },
  {
   "cell_type": "code",
   "execution_count": null,
   "metadata": {},
   "outputs": [],
   "source": [
    "vba_choropleth(y, x, gdf, cmap=color_list,\n",
    "               rgb_mapclassify=dict(classifier='quantiles', k=3), \n",
    "               alpha_mapclassify=dict(classifier='quantiles'))\n",
    "plt.show()"
   ]
  },
  {
   "cell_type": "markdown",
   "metadata": {},
   "source": [
    "Sometimes it is important in geospatial analysis to actually see the high values and let the small values fade out. With the `revert_alpha = True` argument, you can revert the transparency of the `y` values."
   ]
  },
  {
   "cell_type": "code",
   "execution_count": null,
   "metadata": {},
   "outputs": [],
   "source": [
    "# create new figure\n",
    "fig, axs = plt.subplots(1,2, figsize=(20,10))\n",
    "\n",
    "# create a vba_choropleth\n",
    "vba_choropleth(y, x, gdf, cmap='RdBu',\n",
    "               divergent=False, ax=axs[0])\n",
    "\n",
    "# set divergent to True\n",
    "vba_choropleth(y, x, gdf, cmap='RdBu',\n",
    "               divergent=True, ax=axs[1])\n",
    "\n",
    "# set figure style\n",
    "axs[0].set_title('revert_alpha = False')\n",
    "axs[0].set_axis_off()\n",
    "axs[1].set_title('revert_alpha = True')\n",
    "\n",
    "# plot\n",
    "plt.show()"
   ]
  },
  {
   "cell_type": "markdown",
   "metadata": {},
   "source": [
    "# Create your own cmap for plotting"
   ]
  },
  {
   "cell_type": "markdown",
   "metadata": {},
   "source": [
    "Sometimes you need to display divergent values with a natural midpoint not overlapping with he median of your data. For example if you measure the temperature over a country ranging from -2 to 10 degrees Celsius. Or if you need to assess wether a certain threshold is reached."
   ]
  },
  {
   "cell_type": "markdown",
   "metadata": {},
   "source": [
    "For cases like this `splot` provides a utility function to shift your colormap."
   ]
  },
  {
   "cell_type": "code",
   "execution_count": null,
   "metadata": {},
   "outputs": [],
   "source": [
    "from pysal.viz.splot._viz_utils import shift_colormap\n",
    "import matplotlib.pyplot as plt"
   ]
  },
  {
   "cell_type": "code",
   "execution_count": null,
   "metadata": {},
   "outputs": [],
   "source": [
    "# shift the midpoint to the 80st percentile of your datarange\n",
    "mid08 = shift_colormap('RdBu', midpoint=0.8)\n",
    "\n",
    "# shift the midpoint to the 20st percentile of your datarange\n",
    "mid02 = shift_colormap('RdBu', midpoint=0.2)"
   ]
  },
  {
   "cell_type": "code",
   "execution_count": null,
   "metadata": {},
   "outputs": [],
   "source": [
    "# create new figure\n",
    "fig, axs = plt.subplots(1,2, figsize=(20,10))\n",
    "\n",
    "# vba_choropleth with cmap mid08\n",
    "vba_choropleth(y, x, gdf, cmap=mid08, ax=axs[0], divergent=True)\n",
    "\n",
    "# vba_choropleth with cmap mid02\n",
    "vba_choropleth(y, x, gdf, cmap=mid02, ax=axs[1], divergent=True)\n",
    "\n",
    "# plot\n",
    "plt.show()"
   ]
  },
  {
   "cell_type": "markdown",
   "metadata": {},
   "source": [
    "#### Add a legend"
   ]
  },
  {
   "cell_type": "markdown",
   "metadata": {},
   "source": [
    "If your values are classified, you have the option to add a legend to your map."
   ]
  },
  {
   "cell_type": "code",
   "execution_count": null,
   "metadata": {},
   "outputs": [],
   "source": [
    "fig = plt.figure(figsize=(15,10))\n",
    "ax = fig.add_subplot(111)\n",
    "vba_choropleth(x, y, gdf,\n",
    "               alpha_mapclassify=dict(classifier='quantiles', k=5),\n",
    "               rgb_mapclassify=dict(classifier='quantiles', k=5),\n",
    "               legend=True, ax=ax)\n",
    "plt.show()"
   ]
  },
  {
   "cell_type": "markdown",
   "metadata": {},
   "source": [
    "<div class=\"alert alert-success\" style=\"font-size:120%\">\n",
    "<b>Exercise</b>: <br>\n",
    "    Create decile maps for the homicide rates in 1970 and 1980.\n",
    "</div>"
   ]
  },
  {
   "cell_type": "code",
   "execution_count": null,
   "metadata": {},
   "outputs": [],
   "source": [
    "# %load solutions/231_1.py"
   ]
  },
  {
   "cell_type": "markdown",
   "metadata": {},
   "source": [
    "<div class=\"alert alert-success\" style=\"font-size:120%\">\n",
    "<b>Exercise</b>: <br>\n",
    "Using the Texas dataframe, create a Value-by-Alpha choropleth for HR70 using GINI69 for the alpha variable.\n",
    "</div>\n"
   ]
  },
  {
   "cell_type": "code",
   "execution_count": null,
   "metadata": {},
   "outputs": [],
   "source": [
    "# %load solutions/231_2.py"
   ]
  },
  {
   "cell_type": "markdown",
   "metadata": {},
   "source": [
    "---\n",
    "\n",
    "<a rel=\"license\" href=\"http://creativecommons.org/licenses/by-nc-\n",
    "sa/4.0/\"><img alt=\"Creative Commons License\" style=\"border-width:0\"\n",
    "src=\"https://i.creativecommons.org/l/by-nc-sa/4.0/88x31.png\" /></a><br /><span\n",
    "xmlns:dct=\"http://purl.org/dc/terms/\" property=\"dct:title\">Geovisualization</span> by <a xmlns:cc=\"http://creativecommons.org/ns#\"\n",
    "href=\"http://sergerey.org\" property=\"cc:attributionName\"\n",
    "rel=\"cc:attributionURL\">Serge Rey</a> is licensed under a <a\n",
    "rel=\"license\" href=\"http://creativecommons.org/licenses/by-nc-sa/4.0/\">Creative\n",
    "Commons Attribution-NonCommercial-ShareAlike 4.0 International License</a>."
   ]
  }
 ],
 "metadata": {
  "jupytext": {
   "formats": "ipynb,md"
  },
  "kernelspec": {
   "display_name": "Python 3",
   "language": "python",
   "name": "python3"
  },
  "language_info": {
   "codemirror_mode": {
    "name": "ipython",
    "version": 3
   },
   "file_extension": ".py",
   "mimetype": "text/x-python",
   "name": "python",
   "nbconvert_exporter": "python",
   "pygments_lexer": "ipython3",
   "version": "3.6.7"
  }
 },
 "nbformat": 4,
 "nbformat_minor": 4
}
